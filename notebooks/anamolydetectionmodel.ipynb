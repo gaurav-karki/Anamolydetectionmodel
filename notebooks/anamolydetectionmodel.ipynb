{
 "cells": [
  {
   "metadata": {
    "ExecuteTime": {
     "end_time": "2025-05-11T11:10:38.821660Z",
     "start_time": "2025-05-11T11:10:35.195719Z"
    }
   },
   "cell_type": "code",
   "source": [
    "import os\n",
    "import pickle\n",
    "import pandas as pd\n",
    "import numpy as np\n",
    "import matplotlib.pyplot as plt\n",
    "from sklearn.linear_model import LogisticRegression\n",
    "from sklearn.preprocessing import StandardScaler, OneHotEncoder, LabelEncoder\n",
    "from sklearn.model_selection import train_test_split, GridSearchCV, StratifiedKFold\n",
    "from sklearn.metrics import classification_report, confusion_matrix, roc_auc_score\n",
    "\n",
    "from sklearn.compose import ColumnTransformer\n",
    "from sklearn.pipeline import Pipeline\n",
    "from sklearn.impute import SimpleImputer"
   ],
   "id": "8bffa16e0c16d8c5",
   "outputs": [],
   "execution_count": 1
  },
  {
   "metadata": {
    "ExecuteTime": {
     "end_time": "2025-05-11T11:10:39.872600Z",
     "start_time": "2025-05-11T11:10:39.544884Z"
    }
   },
   "cell_type": "code",
   "source": "df = pd.read_csv('../data/CIDDS-001-external-week1.csv')",
   "id": "b6b0450b226abb23",
   "outputs": [],
   "execution_count": 2
  },
  {
   "metadata": {
    "ExecuteTime": {
     "end_time": "2025-05-11T11:10:39.922869Z",
     "start_time": "2025-05-11T11:10:39.896742Z"
    }
   },
   "cell_type": "code",
   "source": [
    "# Check the first few rows of the dataframe\n",
    "df.head()"
   ],
   "id": "8707ceee79667137",
   "outputs": [
    {
     "data": {
      "text/plain": [
       "           Date first seen   Duration  Proto    Src IP Addr  Src Pt  \\\n",
       "0  2017-03-14 17:43:57.172  81412.697  TCP       EXT_SERVER    8082   \n",
       "1  2017-03-14 17:43:57.172  81412.697  TCP    OPENSTACK_NET   56978   \n",
       "2  2017-03-14 17:43:26.135  81504.787  TCP       EXT_SERVER    8082   \n",
       "3  2017-03-14 17:43:26.135  81504.787  TCP    OPENSTACK_NET   56979   \n",
       "4  2017-03-14 18:17:09.005  82100.692  TCP       EXT_SERVER    8082   \n",
       "\n",
       "     Dst IP Addr   Dst Pt  Packets     Bytes  Flows   Flags  Tos   class  \\\n",
       "0  OPENSTACK_NET  56978.0     3057     2.1 M      1  .AP...    0  normal   \n",
       "1     EXT_SERVER   8082.0     4748     2.5 M      1  .AP...    0  normal   \n",
       "2  OPENSTACK_NET  56979.0     8639     9.1 M      1  .AP...    0  normal   \n",
       "3     EXT_SERVER   8082.0    12024    10.3 M      1  .AP...    0  normal   \n",
       "4  OPENSTACK_NET  51649.0    11012    27.2 M      1  .AP.S.    0  normal   \n",
       "\n",
       "  attackType attackID attackDescription  \n",
       "0        ---      ---               ---  \n",
       "1        ---      ---               ---  \n",
       "2        ---      ---               ---  \n",
       "3        ---      ---               ---  \n",
       "4        ---      ---               ---  "
      ],
      "text/html": [
       "<div>\n",
       "<style scoped>\n",
       "    .dataframe tbody tr th:only-of-type {\n",
       "        vertical-align: middle;\n",
       "    }\n",
       "\n",
       "    .dataframe tbody tr th {\n",
       "        vertical-align: top;\n",
       "    }\n",
       "\n",
       "    .dataframe thead th {\n",
       "        text-align: right;\n",
       "    }\n",
       "</style>\n",
       "<table border=\"1\" class=\"dataframe\">\n",
       "  <thead>\n",
       "    <tr style=\"text-align: right;\">\n",
       "      <th></th>\n",
       "      <th>Date first seen</th>\n",
       "      <th>Duration</th>\n",
       "      <th>Proto</th>\n",
       "      <th>Src IP Addr</th>\n",
       "      <th>Src Pt</th>\n",
       "      <th>Dst IP Addr</th>\n",
       "      <th>Dst Pt</th>\n",
       "      <th>Packets</th>\n",
       "      <th>Bytes</th>\n",
       "      <th>Flows</th>\n",
       "      <th>Flags</th>\n",
       "      <th>Tos</th>\n",
       "      <th>class</th>\n",
       "      <th>attackType</th>\n",
       "      <th>attackID</th>\n",
       "      <th>attackDescription</th>\n",
       "    </tr>\n",
       "  </thead>\n",
       "  <tbody>\n",
       "    <tr>\n",
       "      <th>0</th>\n",
       "      <td>2017-03-14 17:43:57.172</td>\n",
       "      <td>81412.697</td>\n",
       "      <td>TCP</td>\n",
       "      <td>EXT_SERVER</td>\n",
       "      <td>8082</td>\n",
       "      <td>OPENSTACK_NET</td>\n",
       "      <td>56978.0</td>\n",
       "      <td>3057</td>\n",
       "      <td>2.1 M</td>\n",
       "      <td>1</td>\n",
       "      <td>.AP...</td>\n",
       "      <td>0</td>\n",
       "      <td>normal</td>\n",
       "      <td>---</td>\n",
       "      <td>---</td>\n",
       "      <td>---</td>\n",
       "    </tr>\n",
       "    <tr>\n",
       "      <th>1</th>\n",
       "      <td>2017-03-14 17:43:57.172</td>\n",
       "      <td>81412.697</td>\n",
       "      <td>TCP</td>\n",
       "      <td>OPENSTACK_NET</td>\n",
       "      <td>56978</td>\n",
       "      <td>EXT_SERVER</td>\n",
       "      <td>8082.0</td>\n",
       "      <td>4748</td>\n",
       "      <td>2.5 M</td>\n",
       "      <td>1</td>\n",
       "      <td>.AP...</td>\n",
       "      <td>0</td>\n",
       "      <td>normal</td>\n",
       "      <td>---</td>\n",
       "      <td>---</td>\n",
       "      <td>---</td>\n",
       "    </tr>\n",
       "    <tr>\n",
       "      <th>2</th>\n",
       "      <td>2017-03-14 17:43:26.135</td>\n",
       "      <td>81504.787</td>\n",
       "      <td>TCP</td>\n",
       "      <td>EXT_SERVER</td>\n",
       "      <td>8082</td>\n",
       "      <td>OPENSTACK_NET</td>\n",
       "      <td>56979.0</td>\n",
       "      <td>8639</td>\n",
       "      <td>9.1 M</td>\n",
       "      <td>1</td>\n",
       "      <td>.AP...</td>\n",
       "      <td>0</td>\n",
       "      <td>normal</td>\n",
       "      <td>---</td>\n",
       "      <td>---</td>\n",
       "      <td>---</td>\n",
       "    </tr>\n",
       "    <tr>\n",
       "      <th>3</th>\n",
       "      <td>2017-03-14 17:43:26.135</td>\n",
       "      <td>81504.787</td>\n",
       "      <td>TCP</td>\n",
       "      <td>OPENSTACK_NET</td>\n",
       "      <td>56979</td>\n",
       "      <td>EXT_SERVER</td>\n",
       "      <td>8082.0</td>\n",
       "      <td>12024</td>\n",
       "      <td>10.3 M</td>\n",
       "      <td>1</td>\n",
       "      <td>.AP...</td>\n",
       "      <td>0</td>\n",
       "      <td>normal</td>\n",
       "      <td>---</td>\n",
       "      <td>---</td>\n",
       "      <td>---</td>\n",
       "    </tr>\n",
       "    <tr>\n",
       "      <th>4</th>\n",
       "      <td>2017-03-14 18:17:09.005</td>\n",
       "      <td>82100.692</td>\n",
       "      <td>TCP</td>\n",
       "      <td>EXT_SERVER</td>\n",
       "      <td>8082</td>\n",
       "      <td>OPENSTACK_NET</td>\n",
       "      <td>51649.0</td>\n",
       "      <td>11012</td>\n",
       "      <td>27.2 M</td>\n",
       "      <td>1</td>\n",
       "      <td>.AP.S.</td>\n",
       "      <td>0</td>\n",
       "      <td>normal</td>\n",
       "      <td>---</td>\n",
       "      <td>---</td>\n",
       "      <td>---</td>\n",
       "    </tr>\n",
       "  </tbody>\n",
       "</table>\n",
       "</div>"
      ]
     },
     "execution_count": 3,
     "metadata": {},
     "output_type": "execute_result"
    }
   ],
   "execution_count": 3
  },
  {
   "metadata": {
    "ExecuteTime": {
     "end_time": "2025-05-11T11:10:40.037820Z",
     "start_time": "2025-05-11T11:10:40.029069Z"
    }
   },
   "cell_type": "code",
   "source": [
    "# Check the shape of the dataframe(number of rows and columns)\n",
    "df.shape"
   ],
   "id": "4afd524cb57376c6",
   "outputs": [
    {
     "data": {
      "text/plain": [
       "(172838, 16)"
      ]
     },
     "execution_count": 4,
     "metadata": {},
     "output_type": "execute_result"
    }
   ],
   "execution_count": 4
  },
  {
   "metadata": {
    "ExecuteTime": {
     "end_time": "2025-05-11T11:10:40.317411Z",
     "start_time": "2025-05-11T11:10:40.228108Z"
    }
   },
   "cell_type": "code",
   "source": [
    "# check the data types of the columns\n",
    "df.info()"
   ],
   "id": "6738b3cef27956ab",
   "outputs": [
    {
     "name": "stdout",
     "output_type": "stream",
     "text": [
      "<class 'pandas.core.frame.DataFrame'>\n",
      "RangeIndex: 172838 entries, 0 to 172837\n",
      "Data columns (total 16 columns):\n",
      " #   Column             Non-Null Count   Dtype  \n",
      "---  ------             --------------   -----  \n",
      " 0   Date first seen    172838 non-null  object \n",
      " 1   Duration           172838 non-null  float64\n",
      " 2   Proto              172838 non-null  object \n",
      " 3   Src IP Addr        172838 non-null  object \n",
      " 4   Src Pt             172838 non-null  int64  \n",
      " 5   Dst IP Addr        172838 non-null  object \n",
      " 6   Dst Pt             172838 non-null  float64\n",
      " 7   Packets            172838 non-null  int64  \n",
      " 8   Bytes              172838 non-null  object \n",
      " 9   Flows              172838 non-null  int64  \n",
      " 10  Flags              172838 non-null  object \n",
      " 11  Tos                172838 non-null  int64  \n",
      " 12  class              172838 non-null  object \n",
      " 13  attackType         172838 non-null  object \n",
      " 14  attackID           172838 non-null  object \n",
      " 15  attackDescription  172838 non-null  object \n",
      "dtypes: float64(2), int64(4), object(10)\n",
      "memory usage: 21.1+ MB\n"
     ]
    }
   ],
   "execution_count": 5
  },
  {
   "metadata": {
    "ExecuteTime": {
     "end_time": "2025-05-11T11:10:40.477320Z",
     "start_time": "2025-05-11T11:10:40.423767Z"
    }
   },
   "cell_type": "code",
   "source": [
    "# print the description of the dataframe\n",
    "df.describe()"
   ],
   "id": "1231e68c189e3bcb",
   "outputs": [
    {
     "data": {
      "text/plain": [
       "            Duration         Src Pt         Dst Pt        Packets     Flows  \\\n",
       "count  172838.000000  172838.000000  172838.000000  172838.000000  172838.0   \n",
       "mean      136.290559   22445.197526   22309.580341      13.809799       1.0   \n",
       "std      5215.645494   23810.373191   23811.494655     232.725151       0.0   \n",
       "min         0.000000       0.000000       0.000000       1.000000       1.0   \n",
       "25%         0.057000      23.000000      23.000000       5.000000       1.0   \n",
       "50%         5.930000    8000.000000    8000.000000       7.000000       1.0   \n",
       "75%        16.848250   49144.750000   49001.500000      17.000000       1.0   \n",
       "max    519611.231000   65535.000000   65535.000000   34136.000000       1.0   \n",
       "\n",
       "            Tos  \n",
       "count  172838.0  \n",
       "mean        0.0  \n",
       "std         0.0  \n",
       "min         0.0  \n",
       "25%         0.0  \n",
       "50%         0.0  \n",
       "75%         0.0  \n",
       "max         0.0  "
      ],
      "text/html": [
       "<div>\n",
       "<style scoped>\n",
       "    .dataframe tbody tr th:only-of-type {\n",
       "        vertical-align: middle;\n",
       "    }\n",
       "\n",
       "    .dataframe tbody tr th {\n",
       "        vertical-align: top;\n",
       "    }\n",
       "\n",
       "    .dataframe thead th {\n",
       "        text-align: right;\n",
       "    }\n",
       "</style>\n",
       "<table border=\"1\" class=\"dataframe\">\n",
       "  <thead>\n",
       "    <tr style=\"text-align: right;\">\n",
       "      <th></th>\n",
       "      <th>Duration</th>\n",
       "      <th>Src Pt</th>\n",
       "      <th>Dst Pt</th>\n",
       "      <th>Packets</th>\n",
       "      <th>Flows</th>\n",
       "      <th>Tos</th>\n",
       "    </tr>\n",
       "  </thead>\n",
       "  <tbody>\n",
       "    <tr>\n",
       "      <th>count</th>\n",
       "      <td>172838.000000</td>\n",
       "      <td>172838.000000</td>\n",
       "      <td>172838.000000</td>\n",
       "      <td>172838.000000</td>\n",
       "      <td>172838.0</td>\n",
       "      <td>172838.0</td>\n",
       "    </tr>\n",
       "    <tr>\n",
       "      <th>mean</th>\n",
       "      <td>136.290559</td>\n",
       "      <td>22445.197526</td>\n",
       "      <td>22309.580341</td>\n",
       "      <td>13.809799</td>\n",
       "      <td>1.0</td>\n",
       "      <td>0.0</td>\n",
       "    </tr>\n",
       "    <tr>\n",
       "      <th>std</th>\n",
       "      <td>5215.645494</td>\n",
       "      <td>23810.373191</td>\n",
       "      <td>23811.494655</td>\n",
       "      <td>232.725151</td>\n",
       "      <td>0.0</td>\n",
       "      <td>0.0</td>\n",
       "    </tr>\n",
       "    <tr>\n",
       "      <th>min</th>\n",
       "      <td>0.000000</td>\n",
       "      <td>0.000000</td>\n",
       "      <td>0.000000</td>\n",
       "      <td>1.000000</td>\n",
       "      <td>1.0</td>\n",
       "      <td>0.0</td>\n",
       "    </tr>\n",
       "    <tr>\n",
       "      <th>25%</th>\n",
       "      <td>0.057000</td>\n",
       "      <td>23.000000</td>\n",
       "      <td>23.000000</td>\n",
       "      <td>5.000000</td>\n",
       "      <td>1.0</td>\n",
       "      <td>0.0</td>\n",
       "    </tr>\n",
       "    <tr>\n",
       "      <th>50%</th>\n",
       "      <td>5.930000</td>\n",
       "      <td>8000.000000</td>\n",
       "      <td>8000.000000</td>\n",
       "      <td>7.000000</td>\n",
       "      <td>1.0</td>\n",
       "      <td>0.0</td>\n",
       "    </tr>\n",
       "    <tr>\n",
       "      <th>75%</th>\n",
       "      <td>16.848250</td>\n",
       "      <td>49144.750000</td>\n",
       "      <td>49001.500000</td>\n",
       "      <td>17.000000</td>\n",
       "      <td>1.0</td>\n",
       "      <td>0.0</td>\n",
       "    </tr>\n",
       "    <tr>\n",
       "      <th>max</th>\n",
       "      <td>519611.231000</td>\n",
       "      <td>65535.000000</td>\n",
       "      <td>65535.000000</td>\n",
       "      <td>34136.000000</td>\n",
       "      <td>1.0</td>\n",
       "      <td>0.0</td>\n",
       "    </tr>\n",
       "  </tbody>\n",
       "</table>\n",
       "</div>"
      ]
     },
     "execution_count": 6,
     "metadata": {},
     "output_type": "execute_result"
    }
   ],
   "execution_count": 6
  },
  {
   "metadata": {
    "ExecuteTime": {
     "end_time": "2025-05-11T11:10:40.670434Z",
     "start_time": "2025-05-11T11:10:40.617469Z"
    }
   },
   "cell_type": "code",
   "source": [
    "# print the value of the dataframe\n",
    "df.values"
   ],
   "id": "af3ee6f05d775f42",
   "outputs": [
    {
     "data": {
      "text/plain": [
       "array([['2017-03-14 17:43:57.172', 81412.697, 'TCP  ', ..., '---', '---',\n",
       "        '---'],\n",
       "       ['2017-03-14 17:43:57.172', 81412.697, 'TCP  ', ..., '---', '---',\n",
       "        '---'],\n",
       "       ['2017-03-14 17:43:26.135', 81504.787, 'TCP  ', ..., '---', '---',\n",
       "        '---'],\n",
       "       ...,\n",
       "       ['2017-03-16 12:10:17.340', 517292.865, 'TCP  ', ..., '---',\n",
       "        '---', '---'],\n",
       "       ['2017-03-16 15:52:58.342', 503931.863, 'TCP  ', ..., '---',\n",
       "        '---', '---'],\n",
       "       ['2017-03-16 15:52:58.342', 503931.863, 'TCP  ', ..., '---',\n",
       "        '---', '---']], shape=(172838, 16), dtype=object)"
      ]
     },
     "execution_count": 7,
     "metadata": {},
     "output_type": "execute_result"
    }
   ],
   "execution_count": 7
  },
  {
   "metadata": {
    "ExecuteTime": {
     "end_time": "2025-05-11T11:10:40.802262Z",
     "start_time": "2025-05-11T11:10:40.789201Z"
    }
   },
   "cell_type": "code",
   "source": [
    "# print the columns of the dataframe\n",
    "df.columns"
   ],
   "id": "aa558cfbb55eeb7b",
   "outputs": [
    {
     "data": {
      "text/plain": [
       "Index(['Date first seen', 'Duration', 'Proto', 'Src IP Addr', 'Src Pt',\n",
       "       'Dst IP Addr', 'Dst Pt', 'Packets', 'Bytes', 'Flows', 'Flags', 'Tos',\n",
       "       'class', 'attackType', 'attackID', 'attackDescription'],\n",
       "      dtype='object')"
      ]
     },
     "execution_count": 8,
     "metadata": {},
     "output_type": "execute_result"
    }
   ],
   "execution_count": 8
  },
  {
   "metadata": {
    "ExecuteTime": {
     "end_time": "2025-05-11T11:10:41.025081Z",
     "start_time": "2025-05-11T11:10:41.013705Z"
    }
   },
   "cell_type": "code",
   "source": [
    "# print the row index of the dataframe\n",
    "df.index"
   ],
   "id": "4797ec37d7046159",
   "outputs": [
    {
     "data": {
      "text/plain": [
       "RangeIndex(start=0, stop=172838, step=1)"
      ]
     },
     "execution_count": 9,
     "metadata": {},
     "output_type": "execute_result"
    }
   ],
   "execution_count": 9
  },
  {
   "metadata": {
    "ExecuteTime": {
     "end_time": "2025-05-11T11:10:41.201143Z",
     "start_time": "2025-05-11T11:10:41.124678Z"
    }
   },
   "cell_type": "code",
   "source": [
    "#checking the missing value in the dataframe\n",
    "df.isnull().sum()"
   ],
   "id": "afd0a6f986c0420",
   "outputs": [
    {
     "data": {
      "text/plain": [
       "Date first seen      0\n",
       "Duration             0\n",
       "Proto                0\n",
       "Src IP Addr          0\n",
       "Src Pt               0\n",
       "Dst IP Addr          0\n",
       "Dst Pt               0\n",
       "Packets              0\n",
       "Bytes                0\n",
       "Flows                0\n",
       "Flags                0\n",
       "Tos                  0\n",
       "class                0\n",
       "attackType           0\n",
       "attackID             0\n",
       "attackDescription    0\n",
       "dtype: int64"
      ]
     },
     "execution_count": 10,
     "metadata": {},
     "output_type": "execute_result"
    }
   ],
   "execution_count": 10
  },
  {
   "metadata": {
    "ExecuteTime": {
     "end_time": "2025-05-11T11:10:41.324877Z",
     "start_time": "2025-05-11T11:10:41.257882Z"
    }
   },
   "cell_type": "code",
   "source": [
    "# droping the row with missing values\n",
    "df.dropna(inplace=True)"
   ],
   "id": "2d0f7fa50e7ea45d",
   "outputs": [],
   "execution_count": 11
  },
  {
   "metadata": {
    "ExecuteTime": {
     "end_time": "2025-05-11T11:10:41.393224Z",
     "start_time": "2025-05-11T11:10:41.367381Z"
    }
   },
   "cell_type": "code",
   "source": [
    "#dropping the columns which are not needed for the model\n",
    "df.drop(columns=[\"attackDescription\", \"attackType\",\"attackID\"], inplace=True)"
   ],
   "id": "996c7ab20d4ba831",
   "outputs": [],
   "execution_count": 12
  },
  {
   "metadata": {
    "ExecuteTime": {
     "end_time": "2025-05-11T11:10:41.492603Z",
     "start_time": "2025-05-11T11:10:41.467964Z"
    }
   },
   "cell_type": "code",
   "source": [
    "new = df.columns\n",
    "print(new)\n",
    "df.head()"
   ],
   "id": "fc277fb40cdce035",
   "outputs": [
    {
     "name": "stdout",
     "output_type": "stream",
     "text": [
      "Index(['Date first seen', 'Duration', 'Proto', 'Src IP Addr', 'Src Pt',\n",
      "       'Dst IP Addr', 'Dst Pt', 'Packets', 'Bytes', 'Flows', 'Flags', 'Tos',\n",
      "       'class'],\n",
      "      dtype='object')\n"
     ]
    },
    {
     "data": {
      "text/plain": [
       "           Date first seen   Duration  Proto    Src IP Addr  Src Pt  \\\n",
       "0  2017-03-14 17:43:57.172  81412.697  TCP       EXT_SERVER    8082   \n",
       "1  2017-03-14 17:43:57.172  81412.697  TCP    OPENSTACK_NET   56978   \n",
       "2  2017-03-14 17:43:26.135  81504.787  TCP       EXT_SERVER    8082   \n",
       "3  2017-03-14 17:43:26.135  81504.787  TCP    OPENSTACK_NET   56979   \n",
       "4  2017-03-14 18:17:09.005  82100.692  TCP       EXT_SERVER    8082   \n",
       "\n",
       "     Dst IP Addr   Dst Pt  Packets     Bytes  Flows   Flags  Tos   class  \n",
       "0  OPENSTACK_NET  56978.0     3057     2.1 M      1  .AP...    0  normal  \n",
       "1     EXT_SERVER   8082.0     4748     2.5 M      1  .AP...    0  normal  \n",
       "2  OPENSTACK_NET  56979.0     8639     9.1 M      1  .AP...    0  normal  \n",
       "3     EXT_SERVER   8082.0    12024    10.3 M      1  .AP...    0  normal  \n",
       "4  OPENSTACK_NET  51649.0    11012    27.2 M      1  .AP.S.    0  normal  "
      ],
      "text/html": [
       "<div>\n",
       "<style scoped>\n",
       "    .dataframe tbody tr th:only-of-type {\n",
       "        vertical-align: middle;\n",
       "    }\n",
       "\n",
       "    .dataframe tbody tr th {\n",
       "        vertical-align: top;\n",
       "    }\n",
       "\n",
       "    .dataframe thead th {\n",
       "        text-align: right;\n",
       "    }\n",
       "</style>\n",
       "<table border=\"1\" class=\"dataframe\">\n",
       "  <thead>\n",
       "    <tr style=\"text-align: right;\">\n",
       "      <th></th>\n",
       "      <th>Date first seen</th>\n",
       "      <th>Duration</th>\n",
       "      <th>Proto</th>\n",
       "      <th>Src IP Addr</th>\n",
       "      <th>Src Pt</th>\n",
       "      <th>Dst IP Addr</th>\n",
       "      <th>Dst Pt</th>\n",
       "      <th>Packets</th>\n",
       "      <th>Bytes</th>\n",
       "      <th>Flows</th>\n",
       "      <th>Flags</th>\n",
       "      <th>Tos</th>\n",
       "      <th>class</th>\n",
       "    </tr>\n",
       "  </thead>\n",
       "  <tbody>\n",
       "    <tr>\n",
       "      <th>0</th>\n",
       "      <td>2017-03-14 17:43:57.172</td>\n",
       "      <td>81412.697</td>\n",
       "      <td>TCP</td>\n",
       "      <td>EXT_SERVER</td>\n",
       "      <td>8082</td>\n",
       "      <td>OPENSTACK_NET</td>\n",
       "      <td>56978.0</td>\n",
       "      <td>3057</td>\n",
       "      <td>2.1 M</td>\n",
       "      <td>1</td>\n",
       "      <td>.AP...</td>\n",
       "      <td>0</td>\n",
       "      <td>normal</td>\n",
       "    </tr>\n",
       "    <tr>\n",
       "      <th>1</th>\n",
       "      <td>2017-03-14 17:43:57.172</td>\n",
       "      <td>81412.697</td>\n",
       "      <td>TCP</td>\n",
       "      <td>OPENSTACK_NET</td>\n",
       "      <td>56978</td>\n",
       "      <td>EXT_SERVER</td>\n",
       "      <td>8082.0</td>\n",
       "      <td>4748</td>\n",
       "      <td>2.5 M</td>\n",
       "      <td>1</td>\n",
       "      <td>.AP...</td>\n",
       "      <td>0</td>\n",
       "      <td>normal</td>\n",
       "    </tr>\n",
       "    <tr>\n",
       "      <th>2</th>\n",
       "      <td>2017-03-14 17:43:26.135</td>\n",
       "      <td>81504.787</td>\n",
       "      <td>TCP</td>\n",
       "      <td>EXT_SERVER</td>\n",
       "      <td>8082</td>\n",
       "      <td>OPENSTACK_NET</td>\n",
       "      <td>56979.0</td>\n",
       "      <td>8639</td>\n",
       "      <td>9.1 M</td>\n",
       "      <td>1</td>\n",
       "      <td>.AP...</td>\n",
       "      <td>0</td>\n",
       "      <td>normal</td>\n",
       "    </tr>\n",
       "    <tr>\n",
       "      <th>3</th>\n",
       "      <td>2017-03-14 17:43:26.135</td>\n",
       "      <td>81504.787</td>\n",
       "      <td>TCP</td>\n",
       "      <td>OPENSTACK_NET</td>\n",
       "      <td>56979</td>\n",
       "      <td>EXT_SERVER</td>\n",
       "      <td>8082.0</td>\n",
       "      <td>12024</td>\n",
       "      <td>10.3 M</td>\n",
       "      <td>1</td>\n",
       "      <td>.AP...</td>\n",
       "      <td>0</td>\n",
       "      <td>normal</td>\n",
       "    </tr>\n",
       "    <tr>\n",
       "      <th>4</th>\n",
       "      <td>2017-03-14 18:17:09.005</td>\n",
       "      <td>82100.692</td>\n",
       "      <td>TCP</td>\n",
       "      <td>EXT_SERVER</td>\n",
       "      <td>8082</td>\n",
       "      <td>OPENSTACK_NET</td>\n",
       "      <td>51649.0</td>\n",
       "      <td>11012</td>\n",
       "      <td>27.2 M</td>\n",
       "      <td>1</td>\n",
       "      <td>.AP.S.</td>\n",
       "      <td>0</td>\n",
       "      <td>normal</td>\n",
       "    </tr>\n",
       "  </tbody>\n",
       "</table>\n",
       "</div>"
      ]
     },
     "execution_count": 13,
     "metadata": {},
     "output_type": "execute_result"
    }
   ],
   "execution_count": 13
  },
  {
   "metadata": {
    "ExecuteTime": {
     "end_time": "2025-05-11T11:10:41.637805Z",
     "start_time": "2025-05-11T11:10:41.614015Z"
    }
   },
   "cell_type": "code",
   "source": "df[\"Duration\"].value_counts().head(5)",
   "id": "e30bbffac0e9716f",
   "outputs": [
    {
     "data": {
      "text/plain": [
       "Duration\n",
       "0.000     21447\n",
       "30.997     3270\n",
       "30.998     3176\n",
       "30.999     3104\n",
       "30.996     2466\n",
       "Name: count, dtype: int64"
      ]
     },
     "execution_count": 14,
     "metadata": {},
     "output_type": "execute_result"
    }
   ],
   "execution_count": 14
  },
  {
   "metadata": {
    "ExecuteTime": {
     "end_time": "2025-05-11T11:10:41.856416Z",
     "start_time": "2025-05-11T11:10:41.808052Z"
    }
   },
   "cell_type": "code",
   "source": "df[(df['Proto'].isin(['TCP','UDP'])) & (df[\"class\"]=='suspicious')].value_counts()",
   "id": "ed47fec8568431e7",
   "outputs": [
    {
     "data": {
      "text/plain": [
       "Series([], Name: count, dtype: int64)"
      ]
     },
     "execution_count": 15,
     "metadata": {},
     "output_type": "execute_result"
    }
   ],
   "execution_count": 15
  },
  {
   "metadata": {
    "ExecuteTime": {
     "end_time": "2025-05-11T11:10:42.086363Z",
     "start_time": "2025-05-11T11:10:42.066128Z"
    }
   },
   "cell_type": "code",
   "source": "df['Src Pt'].value_counts()",
   "id": "17f74e75def5525c",
   "outputs": [
    {
     "data": {
      "text/plain": [
       "Src Pt\n",
       "22       40388\n",
       "8000     24911\n",
       "80        8136\n",
       "23        5483\n",
       "0         1807\n",
       "         ...  \n",
       "10126        1\n",
       "2040         1\n",
       "43207        1\n",
       "46380        1\n",
       "50509        1\n",
       "Name: count, Length: 42293, dtype: int64"
      ]
     },
     "execution_count": 16,
     "metadata": {},
     "output_type": "execute_result"
    }
   ],
   "execution_count": 16
  },
  {
   "metadata": {
    "ExecuteTime": {
     "end_time": "2025-05-11T11:10:42.198662Z",
     "start_time": "2025-05-11T11:10:42.187109Z"
    }
   },
   "cell_type": "code",
   "source": "df['Tos'].value_counts()",
   "id": "b5889ba6cdadd790",
   "outputs": [
    {
     "data": {
      "text/plain": [
       "Tos\n",
       "0    172838\n",
       "Name: count, dtype: int64"
      ]
     },
     "execution_count": 17,
     "metadata": {},
     "output_type": "execute_result"
    }
   ],
   "execution_count": 17
  },
  {
   "metadata": {
    "ExecuteTime": {
     "end_time": "2025-05-11T11:10:42.431353Z",
     "start_time": "2025-05-11T11:10:42.397209Z"
    }
   },
   "cell_type": "code",
   "source": "df.drop(columns=['Tos'], inplace=True)",
   "id": "47303b815405aa6",
   "outputs": [],
   "execution_count": 18
  },
  {
   "metadata": {
    "ExecuteTime": {
     "end_time": "2025-05-11T11:10:42.610761Z",
     "start_time": "2025-05-11T11:10:42.585326Z"
    }
   },
   "cell_type": "code",
   "source": "df.head()",
   "id": "5b437ac13edbd32c",
   "outputs": [
    {
     "data": {
      "text/plain": [
       "           Date first seen   Duration  Proto    Src IP Addr  Src Pt  \\\n",
       "0  2017-03-14 17:43:57.172  81412.697  TCP       EXT_SERVER    8082   \n",
       "1  2017-03-14 17:43:57.172  81412.697  TCP    OPENSTACK_NET   56978   \n",
       "2  2017-03-14 17:43:26.135  81504.787  TCP       EXT_SERVER    8082   \n",
       "3  2017-03-14 17:43:26.135  81504.787  TCP    OPENSTACK_NET   56979   \n",
       "4  2017-03-14 18:17:09.005  82100.692  TCP       EXT_SERVER    8082   \n",
       "\n",
       "     Dst IP Addr   Dst Pt  Packets     Bytes  Flows   Flags   class  \n",
       "0  OPENSTACK_NET  56978.0     3057     2.1 M      1  .AP...  normal  \n",
       "1     EXT_SERVER   8082.0     4748     2.5 M      1  .AP...  normal  \n",
       "2  OPENSTACK_NET  56979.0     8639     9.1 M      1  .AP...  normal  \n",
       "3     EXT_SERVER   8082.0    12024    10.3 M      1  .AP...  normal  \n",
       "4  OPENSTACK_NET  51649.0    11012    27.2 M      1  .AP.S.  normal  "
      ],
      "text/html": [
       "<div>\n",
       "<style scoped>\n",
       "    .dataframe tbody tr th:only-of-type {\n",
       "        vertical-align: middle;\n",
       "    }\n",
       "\n",
       "    .dataframe tbody tr th {\n",
       "        vertical-align: top;\n",
       "    }\n",
       "\n",
       "    .dataframe thead th {\n",
       "        text-align: right;\n",
       "    }\n",
       "</style>\n",
       "<table border=\"1\" class=\"dataframe\">\n",
       "  <thead>\n",
       "    <tr style=\"text-align: right;\">\n",
       "      <th></th>\n",
       "      <th>Date first seen</th>\n",
       "      <th>Duration</th>\n",
       "      <th>Proto</th>\n",
       "      <th>Src IP Addr</th>\n",
       "      <th>Src Pt</th>\n",
       "      <th>Dst IP Addr</th>\n",
       "      <th>Dst Pt</th>\n",
       "      <th>Packets</th>\n",
       "      <th>Bytes</th>\n",
       "      <th>Flows</th>\n",
       "      <th>Flags</th>\n",
       "      <th>class</th>\n",
       "    </tr>\n",
       "  </thead>\n",
       "  <tbody>\n",
       "    <tr>\n",
       "      <th>0</th>\n",
       "      <td>2017-03-14 17:43:57.172</td>\n",
       "      <td>81412.697</td>\n",
       "      <td>TCP</td>\n",
       "      <td>EXT_SERVER</td>\n",
       "      <td>8082</td>\n",
       "      <td>OPENSTACK_NET</td>\n",
       "      <td>56978.0</td>\n",
       "      <td>3057</td>\n",
       "      <td>2.1 M</td>\n",
       "      <td>1</td>\n",
       "      <td>.AP...</td>\n",
       "      <td>normal</td>\n",
       "    </tr>\n",
       "    <tr>\n",
       "      <th>1</th>\n",
       "      <td>2017-03-14 17:43:57.172</td>\n",
       "      <td>81412.697</td>\n",
       "      <td>TCP</td>\n",
       "      <td>OPENSTACK_NET</td>\n",
       "      <td>56978</td>\n",
       "      <td>EXT_SERVER</td>\n",
       "      <td>8082.0</td>\n",
       "      <td>4748</td>\n",
       "      <td>2.5 M</td>\n",
       "      <td>1</td>\n",
       "      <td>.AP...</td>\n",
       "      <td>normal</td>\n",
       "    </tr>\n",
       "    <tr>\n",
       "      <th>2</th>\n",
       "      <td>2017-03-14 17:43:26.135</td>\n",
       "      <td>81504.787</td>\n",
       "      <td>TCP</td>\n",
       "      <td>EXT_SERVER</td>\n",
       "      <td>8082</td>\n",
       "      <td>OPENSTACK_NET</td>\n",
       "      <td>56979.0</td>\n",
       "      <td>8639</td>\n",
       "      <td>9.1 M</td>\n",
       "      <td>1</td>\n",
       "      <td>.AP...</td>\n",
       "      <td>normal</td>\n",
       "    </tr>\n",
       "    <tr>\n",
       "      <th>3</th>\n",
       "      <td>2017-03-14 17:43:26.135</td>\n",
       "      <td>81504.787</td>\n",
       "      <td>TCP</td>\n",
       "      <td>OPENSTACK_NET</td>\n",
       "      <td>56979</td>\n",
       "      <td>EXT_SERVER</td>\n",
       "      <td>8082.0</td>\n",
       "      <td>12024</td>\n",
       "      <td>10.3 M</td>\n",
       "      <td>1</td>\n",
       "      <td>.AP...</td>\n",
       "      <td>normal</td>\n",
       "    </tr>\n",
       "    <tr>\n",
       "      <th>4</th>\n",
       "      <td>2017-03-14 18:17:09.005</td>\n",
       "      <td>82100.692</td>\n",
       "      <td>TCP</td>\n",
       "      <td>EXT_SERVER</td>\n",
       "      <td>8082</td>\n",
       "      <td>OPENSTACK_NET</td>\n",
       "      <td>51649.0</td>\n",
       "      <td>11012</td>\n",
       "      <td>27.2 M</td>\n",
       "      <td>1</td>\n",
       "      <td>.AP.S.</td>\n",
       "      <td>normal</td>\n",
       "    </tr>\n",
       "  </tbody>\n",
       "</table>\n",
       "</div>"
      ]
     },
     "execution_count": 19,
     "metadata": {},
     "output_type": "execute_result"
    }
   ],
   "execution_count": 19
  },
  {
   "metadata": {
    "ExecuteTime": {
     "end_time": "2025-05-11T11:10:42.767759Z",
     "start_time": "2025-05-11T11:10:42.753393Z"
    }
   },
   "cell_type": "code",
   "source": "df['class'].value_counts()",
   "id": "f078dfe49de7773c",
   "outputs": [
    {
     "data": {
      "text/plain": [
       "class\n",
       "suspicious    107344\n",
       "normal         49606\n",
       "unknown        15888\n",
       "Name: count, dtype: int64"
      ]
     },
     "execution_count": 20,
     "metadata": {},
     "output_type": "execute_result"
    }
   ],
   "execution_count": 20
  },
  {
   "metadata": {
    "ExecuteTime": {
     "end_time": "2025-05-11T11:10:42.975671Z",
     "start_time": "2025-05-11T11:10:42.939172Z"
    }
   },
   "cell_type": "code",
   "source": [
    "# Drop rows where the 'class' column is 'unknown'\n",
    "df = df[df['class'] != 'unknown']"
   ],
   "id": "e61ec84f59089089",
   "outputs": [],
   "execution_count": 21
  },
  {
   "metadata": {
    "ExecuteTime": {
     "end_time": "2025-05-11T11:10:43.193721Z",
     "start_time": "2025-05-11T11:10:43.182322Z"
    }
   },
   "cell_type": "code",
   "source": "df.index",
   "id": "a911c6eeee6ab0bb",
   "outputs": [
    {
     "data": {
      "text/plain": [
       "Index([     0,      1,      2,      3,      4,      5,      6,      7,      8,\n",
       "            9,\n",
       "       ...\n",
       "       172828, 172829, 172830, 172831, 172832, 172833, 172834, 172835, 172836,\n",
       "       172837],\n",
       "      dtype='int64', length=156950)"
      ]
     },
     "execution_count": 22,
     "metadata": {},
     "output_type": "execute_result"
    }
   ],
   "execution_count": 22
  },
  {
   "metadata": {
    "ExecuteTime": {
     "end_time": "2025-05-11T11:10:43.342902Z",
     "start_time": "2025-05-11T11:10:43.329340Z"
    }
   },
   "cell_type": "code",
   "source": "df[\"Packets\"].value_counts()",
   "id": "1713cbf32411ec3b",
   "outputs": [
    {
     "data": {
      "text/plain": [
       "Packets\n",
       "6        28507\n",
       "7        27533\n",
       "1        25088\n",
       "19       12195\n",
       "17        8224\n",
       "         ...  \n",
       "17446        1\n",
       "9406         1\n",
       "15510        1\n",
       "13362        1\n",
       "20262        1\n",
       "Name: count, Length: 202, dtype: int64"
      ]
     },
     "execution_count": 23,
     "metadata": {},
     "output_type": "execute_result"
    }
   ],
   "execution_count": 23
  },
  {
   "metadata": {},
   "cell_type": "markdown",
   "source": "Packets more than 10 are mostly suspicious",
   "id": "7a15a0947da50460"
  },
  {
   "metadata": {
    "ExecuteTime": {
     "end_time": "2025-05-11T11:10:43.533870Z",
     "start_time": "2025-05-11T11:10:43.490790Z"
    }
   },
   "cell_type": "code",
   "source": "df[(df[\"class\"] ==\"suspicious\") & (df[\"Packets\"]>10)]",
   "id": "7cb213e56cd12872",
   "outputs": [
    {
     "data": {
      "text/plain": [
       "                Date first seen  Duration  Proto Src IP Addr  Src Pt  \\\n",
       "18      2017-03-15 00:00:09.156    15.420  TCP    EXT_SERVER      22   \n",
       "19      2017-03-15 00:00:09.156    15.420  TCP     10001_123    4589   \n",
       "22      2017-03-15 00:00:27.659    14.644  TCP    EXT_SERVER      22   \n",
       "23      2017-03-15 00:00:27.659    14.644  TCP     10001_123    3477   \n",
       "27      2017-03-15 00:00:02.296    62.046  TCP    EXT_SERVER      22   \n",
       "...                         ...       ...    ...         ...     ...   \n",
       "172813  2017-03-21 23:58:29.347    15.890  TCP    EXT_SERVER      22   \n",
       "172814  2017-03-21 23:59:17.705    11.037  TCP      10006_27   54306   \n",
       "172815  2017-03-21 23:59:17.705    11.037  TCP    EXT_SERVER      22   \n",
       "172816  2017-03-21 23:59:30.671    12.660  TCP     18851_139   14878   \n",
       "172817  2017-03-21 23:59:30.671    12.660  TCP    EXT_SERVER      22   \n",
       "\n",
       "       Dst IP Addr   Dst Pt  Packets     Bytes  Flows   Flags       class  \n",
       "18       10001_123   4589.0       19      3093      1  .AP.S.  suspicious  \n",
       "19      EXT_SERVER     22.0       13      2843      1  .APRS.  suspicious  \n",
       "22       10001_123   3477.0       18      2985      1  .AP.S.  suspicious  \n",
       "23      EXT_SERVER     22.0       13      2843      1  .APRS.  suspicious  \n",
       "27        10004_35  57382.0       12      4773      1  .AP.SF  suspicious  \n",
       "...            ...      ...      ...       ...    ...     ...         ...  \n",
       "172813   18851_139  40446.0       28      4849      1  .AP.SF  suspicious  \n",
       "172814  EXT_SERVER     22.0       16      2231      1  .AP.SF  suspicious  \n",
       "172815    10006_27  54306.0       17      3081      1  .AP.SF  suspicious  \n",
       "172816  EXT_SERVER     22.0       18      2531      1  .AP.SF  suspicious  \n",
       "172817   18851_139  14878.0       24      3619      1  .AP.SF  suspicious  \n",
       "\n",
       "[59939 rows x 12 columns]"
      ],
      "text/html": [
       "<div>\n",
       "<style scoped>\n",
       "    .dataframe tbody tr th:only-of-type {\n",
       "        vertical-align: middle;\n",
       "    }\n",
       "\n",
       "    .dataframe tbody tr th {\n",
       "        vertical-align: top;\n",
       "    }\n",
       "\n",
       "    .dataframe thead th {\n",
       "        text-align: right;\n",
       "    }\n",
       "</style>\n",
       "<table border=\"1\" class=\"dataframe\">\n",
       "  <thead>\n",
       "    <tr style=\"text-align: right;\">\n",
       "      <th></th>\n",
       "      <th>Date first seen</th>\n",
       "      <th>Duration</th>\n",
       "      <th>Proto</th>\n",
       "      <th>Src IP Addr</th>\n",
       "      <th>Src Pt</th>\n",
       "      <th>Dst IP Addr</th>\n",
       "      <th>Dst Pt</th>\n",
       "      <th>Packets</th>\n",
       "      <th>Bytes</th>\n",
       "      <th>Flows</th>\n",
       "      <th>Flags</th>\n",
       "      <th>class</th>\n",
       "    </tr>\n",
       "  </thead>\n",
       "  <tbody>\n",
       "    <tr>\n",
       "      <th>18</th>\n",
       "      <td>2017-03-15 00:00:09.156</td>\n",
       "      <td>15.420</td>\n",
       "      <td>TCP</td>\n",
       "      <td>EXT_SERVER</td>\n",
       "      <td>22</td>\n",
       "      <td>10001_123</td>\n",
       "      <td>4589.0</td>\n",
       "      <td>19</td>\n",
       "      <td>3093</td>\n",
       "      <td>1</td>\n",
       "      <td>.AP.S.</td>\n",
       "      <td>suspicious</td>\n",
       "    </tr>\n",
       "    <tr>\n",
       "      <th>19</th>\n",
       "      <td>2017-03-15 00:00:09.156</td>\n",
       "      <td>15.420</td>\n",
       "      <td>TCP</td>\n",
       "      <td>10001_123</td>\n",
       "      <td>4589</td>\n",
       "      <td>EXT_SERVER</td>\n",
       "      <td>22.0</td>\n",
       "      <td>13</td>\n",
       "      <td>2843</td>\n",
       "      <td>1</td>\n",
       "      <td>.APRS.</td>\n",
       "      <td>suspicious</td>\n",
       "    </tr>\n",
       "    <tr>\n",
       "      <th>22</th>\n",
       "      <td>2017-03-15 00:00:27.659</td>\n",
       "      <td>14.644</td>\n",
       "      <td>TCP</td>\n",
       "      <td>EXT_SERVER</td>\n",
       "      <td>22</td>\n",
       "      <td>10001_123</td>\n",
       "      <td>3477.0</td>\n",
       "      <td>18</td>\n",
       "      <td>2985</td>\n",
       "      <td>1</td>\n",
       "      <td>.AP.S.</td>\n",
       "      <td>suspicious</td>\n",
       "    </tr>\n",
       "    <tr>\n",
       "      <th>23</th>\n",
       "      <td>2017-03-15 00:00:27.659</td>\n",
       "      <td>14.644</td>\n",
       "      <td>TCP</td>\n",
       "      <td>10001_123</td>\n",
       "      <td>3477</td>\n",
       "      <td>EXT_SERVER</td>\n",
       "      <td>22.0</td>\n",
       "      <td>13</td>\n",
       "      <td>2843</td>\n",
       "      <td>1</td>\n",
       "      <td>.APRS.</td>\n",
       "      <td>suspicious</td>\n",
       "    </tr>\n",
       "    <tr>\n",
       "      <th>27</th>\n",
       "      <td>2017-03-15 00:00:02.296</td>\n",
       "      <td>62.046</td>\n",
       "      <td>TCP</td>\n",
       "      <td>EXT_SERVER</td>\n",
       "      <td>22</td>\n",
       "      <td>10004_35</td>\n",
       "      <td>57382.0</td>\n",
       "      <td>12</td>\n",
       "      <td>4773</td>\n",
       "      <td>1</td>\n",
       "      <td>.AP.SF</td>\n",
       "      <td>suspicious</td>\n",
       "    </tr>\n",
       "    <tr>\n",
       "      <th>...</th>\n",
       "      <td>...</td>\n",
       "      <td>...</td>\n",
       "      <td>...</td>\n",
       "      <td>...</td>\n",
       "      <td>...</td>\n",
       "      <td>...</td>\n",
       "      <td>...</td>\n",
       "      <td>...</td>\n",
       "      <td>...</td>\n",
       "      <td>...</td>\n",
       "      <td>...</td>\n",
       "      <td>...</td>\n",
       "    </tr>\n",
       "    <tr>\n",
       "      <th>172813</th>\n",
       "      <td>2017-03-21 23:58:29.347</td>\n",
       "      <td>15.890</td>\n",
       "      <td>TCP</td>\n",
       "      <td>EXT_SERVER</td>\n",
       "      <td>22</td>\n",
       "      <td>18851_139</td>\n",
       "      <td>40446.0</td>\n",
       "      <td>28</td>\n",
       "      <td>4849</td>\n",
       "      <td>1</td>\n",
       "      <td>.AP.SF</td>\n",
       "      <td>suspicious</td>\n",
       "    </tr>\n",
       "    <tr>\n",
       "      <th>172814</th>\n",
       "      <td>2017-03-21 23:59:17.705</td>\n",
       "      <td>11.037</td>\n",
       "      <td>TCP</td>\n",
       "      <td>10006_27</td>\n",
       "      <td>54306</td>\n",
       "      <td>EXT_SERVER</td>\n",
       "      <td>22.0</td>\n",
       "      <td>16</td>\n",
       "      <td>2231</td>\n",
       "      <td>1</td>\n",
       "      <td>.AP.SF</td>\n",
       "      <td>suspicious</td>\n",
       "    </tr>\n",
       "    <tr>\n",
       "      <th>172815</th>\n",
       "      <td>2017-03-21 23:59:17.705</td>\n",
       "      <td>11.037</td>\n",
       "      <td>TCP</td>\n",
       "      <td>EXT_SERVER</td>\n",
       "      <td>22</td>\n",
       "      <td>10006_27</td>\n",
       "      <td>54306.0</td>\n",
       "      <td>17</td>\n",
       "      <td>3081</td>\n",
       "      <td>1</td>\n",
       "      <td>.AP.SF</td>\n",
       "      <td>suspicious</td>\n",
       "    </tr>\n",
       "    <tr>\n",
       "      <th>172816</th>\n",
       "      <td>2017-03-21 23:59:30.671</td>\n",
       "      <td>12.660</td>\n",
       "      <td>TCP</td>\n",
       "      <td>18851_139</td>\n",
       "      <td>14878</td>\n",
       "      <td>EXT_SERVER</td>\n",
       "      <td>22.0</td>\n",
       "      <td>18</td>\n",
       "      <td>2531</td>\n",
       "      <td>1</td>\n",
       "      <td>.AP.SF</td>\n",
       "      <td>suspicious</td>\n",
       "    </tr>\n",
       "    <tr>\n",
       "      <th>172817</th>\n",
       "      <td>2017-03-21 23:59:30.671</td>\n",
       "      <td>12.660</td>\n",
       "      <td>TCP</td>\n",
       "      <td>EXT_SERVER</td>\n",
       "      <td>22</td>\n",
       "      <td>18851_139</td>\n",
       "      <td>14878.0</td>\n",
       "      <td>24</td>\n",
       "      <td>3619</td>\n",
       "      <td>1</td>\n",
       "      <td>.AP.SF</td>\n",
       "      <td>suspicious</td>\n",
       "    </tr>\n",
       "  </tbody>\n",
       "</table>\n",
       "<p>59939 rows × 12 columns</p>\n",
       "</div>"
      ]
     },
     "execution_count": 24,
     "metadata": {},
     "output_type": "execute_result"
    }
   ],
   "execution_count": 24
  },
  {
   "metadata": {},
   "cell_type": "markdown",
   "source": "in comparision, the total of 172838 rows, packets less than 10 has normal class 49360 and packets  more than 10  has suspicious class is 59939",
   "id": "a85a39fa852e5bf5"
  },
  {
   "metadata": {
    "ExecuteTime": {
     "end_time": "2025-05-11T11:10:43.780449Z",
     "start_time": "2025-05-11T11:10:43.740886Z"
    }
   },
   "cell_type": "code",
   "source": "df[(df[\"class\"] ==\"normal\") & (df[\"Packets\"]<10)]",
   "id": "4833366b2e8604d3",
   "outputs": [
    {
     "data": {
      "text/plain": [
       "                Date first seen  Duration  Proto    Src IP Addr  Src Pt  \\\n",
       "68      2017-03-15 00:01:39.467     0.075  TCP       EXT_SERVER    8000   \n",
       "69      2017-03-15 00:01:39.467     0.075  TCP    OPENSTACK_NET   49835   \n",
       "70      2017-03-15 00:01:39.467     0.079  TCP       EXT_SERVER    8000   \n",
       "71      2017-03-15 00:01:39.467     0.079  TCP    OPENSTACK_NET   49834   \n",
       "72      2017-03-15 00:01:39.523     0.065  TCP       EXT_SERVER    8000   \n",
       "...                         ...       ...    ...            ...     ...   \n",
       "172807  2017-03-21 23:58:40.059     0.089  TCP    OPENSTACK_NET   60703   \n",
       "172808  2017-03-21 23:58:40.558     0.059  TCP       EXT_SERVER    8000   \n",
       "172809  2017-03-21 23:58:40.558     0.059  TCP    OPENSTACK_NET   51076   \n",
       "172810  2017-03-21 23:58:40.558     0.045  TCP       EXT_SERVER    8000   \n",
       "172811  2017-03-21 23:58:40.558     0.045  TCP    OPENSTACK_NET   51075   \n",
       "\n",
       "          Dst IP Addr   Dst Pt  Packets     Bytes  Flows   Flags   class  \n",
       "68      OPENSTACK_NET  49835.0        7       556      1  .AP.SF  normal  \n",
       "69         EXT_SERVER   8000.0        6       515      1  .AP.SF  normal  \n",
       "70      OPENSTACK_NET  49834.0        7       561      1  .AP.SF  normal  \n",
       "71         EXT_SERVER   8000.0        6       589      1  .AP.SF  normal  \n",
       "72      OPENSTACK_NET  49836.0        7       702      1  .AP.SF  normal  \n",
       "...               ...      ...      ...       ...    ...     ...     ...  \n",
       "172807     EXT_SERVER   8000.0        6       586      1  .AP.SF  normal  \n",
       "172808  OPENSTACK_NET  51076.0        7       702      1  .AP.SF  normal  \n",
       "172809     EXT_SERVER   8000.0        6       586      1  .AP.SF  normal  \n",
       "172810  OPENSTACK_NET  51075.0        7       556      1  .AP.SF  normal  \n",
       "172811     EXT_SERVER   8000.0        6       515      1  .AP.SF  normal  \n",
       "\n",
       "[49360 rows x 12 columns]"
      ],
      "text/html": [
       "<div>\n",
       "<style scoped>\n",
       "    .dataframe tbody tr th:only-of-type {\n",
       "        vertical-align: middle;\n",
       "    }\n",
       "\n",
       "    .dataframe tbody tr th {\n",
       "        vertical-align: top;\n",
       "    }\n",
       "\n",
       "    .dataframe thead th {\n",
       "        text-align: right;\n",
       "    }\n",
       "</style>\n",
       "<table border=\"1\" class=\"dataframe\">\n",
       "  <thead>\n",
       "    <tr style=\"text-align: right;\">\n",
       "      <th></th>\n",
       "      <th>Date first seen</th>\n",
       "      <th>Duration</th>\n",
       "      <th>Proto</th>\n",
       "      <th>Src IP Addr</th>\n",
       "      <th>Src Pt</th>\n",
       "      <th>Dst IP Addr</th>\n",
       "      <th>Dst Pt</th>\n",
       "      <th>Packets</th>\n",
       "      <th>Bytes</th>\n",
       "      <th>Flows</th>\n",
       "      <th>Flags</th>\n",
       "      <th>class</th>\n",
       "    </tr>\n",
       "  </thead>\n",
       "  <tbody>\n",
       "    <tr>\n",
       "      <th>68</th>\n",
       "      <td>2017-03-15 00:01:39.467</td>\n",
       "      <td>0.075</td>\n",
       "      <td>TCP</td>\n",
       "      <td>EXT_SERVER</td>\n",
       "      <td>8000</td>\n",
       "      <td>OPENSTACK_NET</td>\n",
       "      <td>49835.0</td>\n",
       "      <td>7</td>\n",
       "      <td>556</td>\n",
       "      <td>1</td>\n",
       "      <td>.AP.SF</td>\n",
       "      <td>normal</td>\n",
       "    </tr>\n",
       "    <tr>\n",
       "      <th>69</th>\n",
       "      <td>2017-03-15 00:01:39.467</td>\n",
       "      <td>0.075</td>\n",
       "      <td>TCP</td>\n",
       "      <td>OPENSTACK_NET</td>\n",
       "      <td>49835</td>\n",
       "      <td>EXT_SERVER</td>\n",
       "      <td>8000.0</td>\n",
       "      <td>6</td>\n",
       "      <td>515</td>\n",
       "      <td>1</td>\n",
       "      <td>.AP.SF</td>\n",
       "      <td>normal</td>\n",
       "    </tr>\n",
       "    <tr>\n",
       "      <th>70</th>\n",
       "      <td>2017-03-15 00:01:39.467</td>\n",
       "      <td>0.079</td>\n",
       "      <td>TCP</td>\n",
       "      <td>EXT_SERVER</td>\n",
       "      <td>8000</td>\n",
       "      <td>OPENSTACK_NET</td>\n",
       "      <td>49834.0</td>\n",
       "      <td>7</td>\n",
       "      <td>561</td>\n",
       "      <td>1</td>\n",
       "      <td>.AP.SF</td>\n",
       "      <td>normal</td>\n",
       "    </tr>\n",
       "    <tr>\n",
       "      <th>71</th>\n",
       "      <td>2017-03-15 00:01:39.467</td>\n",
       "      <td>0.079</td>\n",
       "      <td>TCP</td>\n",
       "      <td>OPENSTACK_NET</td>\n",
       "      <td>49834</td>\n",
       "      <td>EXT_SERVER</td>\n",
       "      <td>8000.0</td>\n",
       "      <td>6</td>\n",
       "      <td>589</td>\n",
       "      <td>1</td>\n",
       "      <td>.AP.SF</td>\n",
       "      <td>normal</td>\n",
       "    </tr>\n",
       "    <tr>\n",
       "      <th>72</th>\n",
       "      <td>2017-03-15 00:01:39.523</td>\n",
       "      <td>0.065</td>\n",
       "      <td>TCP</td>\n",
       "      <td>EXT_SERVER</td>\n",
       "      <td>8000</td>\n",
       "      <td>OPENSTACK_NET</td>\n",
       "      <td>49836.0</td>\n",
       "      <td>7</td>\n",
       "      <td>702</td>\n",
       "      <td>1</td>\n",
       "      <td>.AP.SF</td>\n",
       "      <td>normal</td>\n",
       "    </tr>\n",
       "    <tr>\n",
       "      <th>...</th>\n",
       "      <td>...</td>\n",
       "      <td>...</td>\n",
       "      <td>...</td>\n",
       "      <td>...</td>\n",
       "      <td>...</td>\n",
       "      <td>...</td>\n",
       "      <td>...</td>\n",
       "      <td>...</td>\n",
       "      <td>...</td>\n",
       "      <td>...</td>\n",
       "      <td>...</td>\n",
       "      <td>...</td>\n",
       "    </tr>\n",
       "    <tr>\n",
       "      <th>172807</th>\n",
       "      <td>2017-03-21 23:58:40.059</td>\n",
       "      <td>0.089</td>\n",
       "      <td>TCP</td>\n",
       "      <td>OPENSTACK_NET</td>\n",
       "      <td>60703</td>\n",
       "      <td>EXT_SERVER</td>\n",
       "      <td>8000.0</td>\n",
       "      <td>6</td>\n",
       "      <td>586</td>\n",
       "      <td>1</td>\n",
       "      <td>.AP.SF</td>\n",
       "      <td>normal</td>\n",
       "    </tr>\n",
       "    <tr>\n",
       "      <th>172808</th>\n",
       "      <td>2017-03-21 23:58:40.558</td>\n",
       "      <td>0.059</td>\n",
       "      <td>TCP</td>\n",
       "      <td>EXT_SERVER</td>\n",
       "      <td>8000</td>\n",
       "      <td>OPENSTACK_NET</td>\n",
       "      <td>51076.0</td>\n",
       "      <td>7</td>\n",
       "      <td>702</td>\n",
       "      <td>1</td>\n",
       "      <td>.AP.SF</td>\n",
       "      <td>normal</td>\n",
       "    </tr>\n",
       "    <tr>\n",
       "      <th>172809</th>\n",
       "      <td>2017-03-21 23:58:40.558</td>\n",
       "      <td>0.059</td>\n",
       "      <td>TCP</td>\n",
       "      <td>OPENSTACK_NET</td>\n",
       "      <td>51076</td>\n",
       "      <td>EXT_SERVER</td>\n",
       "      <td>8000.0</td>\n",
       "      <td>6</td>\n",
       "      <td>586</td>\n",
       "      <td>1</td>\n",
       "      <td>.AP.SF</td>\n",
       "      <td>normal</td>\n",
       "    </tr>\n",
       "    <tr>\n",
       "      <th>172810</th>\n",
       "      <td>2017-03-21 23:58:40.558</td>\n",
       "      <td>0.045</td>\n",
       "      <td>TCP</td>\n",
       "      <td>EXT_SERVER</td>\n",
       "      <td>8000</td>\n",
       "      <td>OPENSTACK_NET</td>\n",
       "      <td>51075.0</td>\n",
       "      <td>7</td>\n",
       "      <td>556</td>\n",
       "      <td>1</td>\n",
       "      <td>.AP.SF</td>\n",
       "      <td>normal</td>\n",
       "    </tr>\n",
       "    <tr>\n",
       "      <th>172811</th>\n",
       "      <td>2017-03-21 23:58:40.558</td>\n",
       "      <td>0.045</td>\n",
       "      <td>TCP</td>\n",
       "      <td>OPENSTACK_NET</td>\n",
       "      <td>51075</td>\n",
       "      <td>EXT_SERVER</td>\n",
       "      <td>8000.0</td>\n",
       "      <td>6</td>\n",
       "      <td>515</td>\n",
       "      <td>1</td>\n",
       "      <td>.AP.SF</td>\n",
       "      <td>normal</td>\n",
       "    </tr>\n",
       "  </tbody>\n",
       "</table>\n",
       "<p>49360 rows × 12 columns</p>\n",
       "</div>"
      ]
     },
     "execution_count": 25,
     "metadata": {},
     "output_type": "execute_result"
    }
   ],
   "execution_count": 25
  },
  {
   "metadata": {
    "ExecuteTime": {
     "end_time": "2025-05-11T11:10:44.073294Z",
     "start_time": "2025-05-11T11:10:44.061497Z"
    }
   },
   "cell_type": "code",
   "source": "df['Packets'].value_counts()",
   "id": "414ad4a0f9b88694",
   "outputs": [
    {
     "data": {
      "text/plain": [
       "Packets\n",
       "6        28507\n",
       "7        27533\n",
       "1        25088\n",
       "19       12195\n",
       "17        8224\n",
       "         ...  \n",
       "17446        1\n",
       "9406         1\n",
       "15510        1\n",
       "13362        1\n",
       "20262        1\n",
       "Name: count, Length: 202, dtype: int64"
      ]
     },
     "execution_count": 26,
     "metadata": {},
     "output_type": "execute_result"
    }
   ],
   "execution_count": 26
  },
  {
   "metadata": {},
   "cell_type": "markdown",
   "source": [
    "Packets = 6 is mostly normal\n",
    ",Packets = 1,5 is mostly suspicious, Packets = 7 is mostly normal\n",
    "packets 19 ,17, 26, 15,24,20,12,2,18,8,13,4 are  all suspicious\n"
   ],
   "id": "9abe187112b87b8b"
  },
  {
   "metadata": {
    "ExecuteTime": {
     "end_time": "2025-05-11T11:10:44.404673Z",
     "start_time": "2025-05-11T11:10:44.386084Z"
    }
   },
   "cell_type": "code",
   "source": "df[(df[\"Packets\"]==534) & (df[\"class\"]==\"normal\")].value_counts()",
   "id": "4f041b4f453d73fb",
   "outputs": [
    {
     "data": {
      "text/plain": [
       "Date first seen          Duration   Proto  Src IP Addr  Src Pt  Dst IP Addr    Dst Pt   Packets  Bytes  Flows  Flags   class \n",
       "2017-03-15 03:29:33.187  16291.778  TCP    EXT_SERVER   8082    OPENSTACK_NET  49195.0  534      98910  1      .AP.S.  normal    1\n",
       "Name: count, dtype: int64"
      ]
     },
     "execution_count": 27,
     "metadata": {},
     "output_type": "execute_result"
    }
   ],
   "execution_count": 27
  },
  {
   "metadata": {
    "ExecuteTime": {
     "end_time": "2025-05-11T11:10:44.679399Z",
     "start_time": "2025-05-11T11:10:44.642708Z"
    }
   },
   "cell_type": "code",
   "source": "df[(df[\"Packets\"]==21) & (df[\"class\"]==\"suspicious\")].value_counts()",
   "id": "459995fb92b8d8e3",
   "outputs": [
    {
     "data": {
      "text/plain": [
       "Date first seen          Duration  Proto  Src IP Addr  Src Pt  Dst IP Addr  Dst Pt   Packets  Bytes  Flows  Flags   class     \n",
       "2017-03-21 23:52:59.704  10.564    TCP    EXT_SERVER   22      10006_27     59472.0  21       3369   1      .AP.SF  suspicious    1\n",
       "2017-03-15 00:04:47.728  11.030    TCP    EXT_SERVER   22      10008_109    33056.0  21       3369   1      .AP.SF  suspicious    1\n",
       "2017-03-15 00:06:57.407  17.283    TCP    EXT_SERVER   22      10001_123    1646.0   21       3309   1      .AP.S.  suspicious    1\n",
       "2017-03-15 00:09:51.954  16.822    TCP    EXT_SERVER   22      10001_123    4093.0   21       3173   1      .AP.S.  suspicious    1\n",
       "2017-03-15 00:15:09.451  10.413    TCP    EXT_SERVER   22      10006_27     50078.0  21       3369   1      .AP.SF  suspicious    1\n",
       "                                                                                                                                 ..\n",
       "2017-03-15 00:47:55.269  15.104    TCP    EXT_SERVER   22      10001_123    2246.0   21       3117   1      .AP.S.  suspicious    1\n",
       "2017-03-15 00:49:19.329  17.563    TCP    EXT_SERVER   22      10001_123    1667.0   21       3173   1      .AP.S.  suspicious    1\n",
       "2017-03-15 00:49:50.480  10.460    TCP    EXT_SERVER   22      10006_27     20452.0  21       3369   1      .AP.SF  suspicious    1\n",
       "2017-03-15 00:50:50.731  9.655     TCP    EXT_SERVER   22      10006_27     58318.0  21       3353   1      .AP.SF  suspicious    1\n",
       "2017-03-15 00:52:38.972  12.801    TCP    EXT_SERVER   22      10006_27     18900.0  21       4217   1      .AP.SF  suspicious    1\n",
       "Name: count, Length: 999, dtype: int64"
      ]
     },
     "execution_count": 28,
     "metadata": {},
     "output_type": "execute_result"
    }
   ],
   "execution_count": 28
  },
  {
   "metadata": {
    "ExecuteTime": {
     "end_time": "2025-05-11T11:10:44.894954Z",
     "start_time": "2025-05-11T11:10:44.867853Z"
    }
   },
   "cell_type": "code",
   "source": "df['Src IP Addr'].value_counts()",
   "id": "c76143f4673454bd",
   "outputs": [
    {
     "data": {
      "text/plain": [
       "Src IP Addr\n",
       "EXT_SERVER       78312\n",
       "OPENSTACK_NET    24803\n",
       "10004_36          7404\n",
       "10006_27          4557\n",
       "10767_152         2871\n",
       "                 ...  \n",
       "19359_155            1\n",
       "19360_95             1\n",
       "19361_140            1\n",
       "19362_254            1\n",
       "19339_251            1\n",
       "Name: count, Length: 10081, dtype: int64"
      ]
     },
     "execution_count": 29,
     "metadata": {},
     "output_type": "execute_result"
    }
   ],
   "execution_count": 29
  },
  {
   "metadata": {
    "ExecuteTime": {
     "end_time": "2025-05-11T11:10:45.141663Z",
     "start_time": "2025-05-11T11:10:45.136623Z"
    }
   },
   "cell_type": "code",
   "source": [
    "# covert source and destination port number to integer\n",
    "df['Src Pt'] = pd.to_numeric(df['Src Pt'], errors='coerce')"
   ],
   "id": "ea67578c972d239e",
   "outputs": [],
   "execution_count": 30
  },
  {
   "metadata": {
    "ExecuteTime": {
     "end_time": "2025-05-11T11:10:45.405656Z",
     "start_time": "2025-05-11T11:10:45.390112Z"
    }
   },
   "cell_type": "code",
   "source": "df.head()",
   "id": "3511addcce84eae9",
   "outputs": [
    {
     "data": {
      "text/plain": [
       "           Date first seen   Duration  Proto    Src IP Addr  Src Pt  \\\n",
       "0  2017-03-14 17:43:57.172  81412.697  TCP       EXT_SERVER    8082   \n",
       "1  2017-03-14 17:43:57.172  81412.697  TCP    OPENSTACK_NET   56978   \n",
       "2  2017-03-14 17:43:26.135  81504.787  TCP       EXT_SERVER    8082   \n",
       "3  2017-03-14 17:43:26.135  81504.787  TCP    OPENSTACK_NET   56979   \n",
       "4  2017-03-14 18:17:09.005  82100.692  TCP       EXT_SERVER    8082   \n",
       "\n",
       "     Dst IP Addr   Dst Pt  Packets     Bytes  Flows   Flags   class  \n",
       "0  OPENSTACK_NET  56978.0     3057     2.1 M      1  .AP...  normal  \n",
       "1     EXT_SERVER   8082.0     4748     2.5 M      1  .AP...  normal  \n",
       "2  OPENSTACK_NET  56979.0     8639     9.1 M      1  .AP...  normal  \n",
       "3     EXT_SERVER   8082.0    12024    10.3 M      1  .AP...  normal  \n",
       "4  OPENSTACK_NET  51649.0    11012    27.2 M      1  .AP.S.  normal  "
      ],
      "text/html": [
       "<div>\n",
       "<style scoped>\n",
       "    .dataframe tbody tr th:only-of-type {\n",
       "        vertical-align: middle;\n",
       "    }\n",
       "\n",
       "    .dataframe tbody tr th {\n",
       "        vertical-align: top;\n",
       "    }\n",
       "\n",
       "    .dataframe thead th {\n",
       "        text-align: right;\n",
       "    }\n",
       "</style>\n",
       "<table border=\"1\" class=\"dataframe\">\n",
       "  <thead>\n",
       "    <tr style=\"text-align: right;\">\n",
       "      <th></th>\n",
       "      <th>Date first seen</th>\n",
       "      <th>Duration</th>\n",
       "      <th>Proto</th>\n",
       "      <th>Src IP Addr</th>\n",
       "      <th>Src Pt</th>\n",
       "      <th>Dst IP Addr</th>\n",
       "      <th>Dst Pt</th>\n",
       "      <th>Packets</th>\n",
       "      <th>Bytes</th>\n",
       "      <th>Flows</th>\n",
       "      <th>Flags</th>\n",
       "      <th>class</th>\n",
       "    </tr>\n",
       "  </thead>\n",
       "  <tbody>\n",
       "    <tr>\n",
       "      <th>0</th>\n",
       "      <td>2017-03-14 17:43:57.172</td>\n",
       "      <td>81412.697</td>\n",
       "      <td>TCP</td>\n",
       "      <td>EXT_SERVER</td>\n",
       "      <td>8082</td>\n",
       "      <td>OPENSTACK_NET</td>\n",
       "      <td>56978.0</td>\n",
       "      <td>3057</td>\n",
       "      <td>2.1 M</td>\n",
       "      <td>1</td>\n",
       "      <td>.AP...</td>\n",
       "      <td>normal</td>\n",
       "    </tr>\n",
       "    <tr>\n",
       "      <th>1</th>\n",
       "      <td>2017-03-14 17:43:57.172</td>\n",
       "      <td>81412.697</td>\n",
       "      <td>TCP</td>\n",
       "      <td>OPENSTACK_NET</td>\n",
       "      <td>56978</td>\n",
       "      <td>EXT_SERVER</td>\n",
       "      <td>8082.0</td>\n",
       "      <td>4748</td>\n",
       "      <td>2.5 M</td>\n",
       "      <td>1</td>\n",
       "      <td>.AP...</td>\n",
       "      <td>normal</td>\n",
       "    </tr>\n",
       "    <tr>\n",
       "      <th>2</th>\n",
       "      <td>2017-03-14 17:43:26.135</td>\n",
       "      <td>81504.787</td>\n",
       "      <td>TCP</td>\n",
       "      <td>EXT_SERVER</td>\n",
       "      <td>8082</td>\n",
       "      <td>OPENSTACK_NET</td>\n",
       "      <td>56979.0</td>\n",
       "      <td>8639</td>\n",
       "      <td>9.1 M</td>\n",
       "      <td>1</td>\n",
       "      <td>.AP...</td>\n",
       "      <td>normal</td>\n",
       "    </tr>\n",
       "    <tr>\n",
       "      <th>3</th>\n",
       "      <td>2017-03-14 17:43:26.135</td>\n",
       "      <td>81504.787</td>\n",
       "      <td>TCP</td>\n",
       "      <td>OPENSTACK_NET</td>\n",
       "      <td>56979</td>\n",
       "      <td>EXT_SERVER</td>\n",
       "      <td>8082.0</td>\n",
       "      <td>12024</td>\n",
       "      <td>10.3 M</td>\n",
       "      <td>1</td>\n",
       "      <td>.AP...</td>\n",
       "      <td>normal</td>\n",
       "    </tr>\n",
       "    <tr>\n",
       "      <th>4</th>\n",
       "      <td>2017-03-14 18:17:09.005</td>\n",
       "      <td>82100.692</td>\n",
       "      <td>TCP</td>\n",
       "      <td>EXT_SERVER</td>\n",
       "      <td>8082</td>\n",
       "      <td>OPENSTACK_NET</td>\n",
       "      <td>51649.0</td>\n",
       "      <td>11012</td>\n",
       "      <td>27.2 M</td>\n",
       "      <td>1</td>\n",
       "      <td>.AP.S.</td>\n",
       "      <td>normal</td>\n",
       "    </tr>\n",
       "  </tbody>\n",
       "</table>\n",
       "</div>"
      ]
     },
     "execution_count": 31,
     "metadata": {},
     "output_type": "execute_result"
    }
   ],
   "execution_count": 31
  },
  {
   "metadata": {
    "ExecuteTime": {
     "end_time": "2025-05-11T11:10:45.604235Z",
     "start_time": "2025-05-11T11:10:45.585979Z"
    }
   },
   "cell_type": "code",
   "source": "df['Bytes'].value_counts()",
   "id": "553f353ec2629ddb",
   "outputs": [
    {
     "data": {
      "text/plain": [
       "Bytes\n",
       "3185    10882\n",
       "  40    10383\n",
       "  46    10303\n",
       " 702     6686\n",
       " 556     6682\n",
       "        ...  \n",
       "6509        1\n",
       "5897        1\n",
       "2263        1\n",
       "1057        1\n",
       "5586        1\n",
       "Name: count, Length: 4567, dtype: int64"
      ]
     },
     "execution_count": 32,
     "metadata": {},
     "output_type": "execute_result"
    }
   ],
   "execution_count": 32
  },
  {
   "metadata": {
    "ExecuteTime": {
     "end_time": "2025-05-11T11:10:45.866529Z",
     "start_time": "2025-05-11T11:10:45.859031Z"
    }
   },
   "cell_type": "code",
   "source": [
    "#preprocessing: clean the numerical colums\n",
    "def clean_bytes(x, *args):\n",
    "    if \" M\" in x:\n",
    "        return float(x.replace(\" M\", \"\")) *1e6\n",
    "    elif \" K\" in x:\n",
    "        return float(x.replace(\" K\", \"\")) *1e3\n",
    "    return float(x)"
   ],
   "id": "e97e12050838e4f3",
   "outputs": [],
   "execution_count": 33
  },
  {
   "metadata": {
    "ExecuteTime": {
     "end_time": "2025-05-11T11:10:46.143240Z",
     "start_time": "2025-05-11T11:10:46.002217Z"
    }
   },
   "cell_type": "code",
   "source": [
    "df['Bytes'] = df['Bytes'].astype(str).apply(clean_bytes)\n",
    "df['Packets'] = df['Packets'].astype(str).str.strip().astype(int)"
   ],
   "id": "88831875c60446d8",
   "outputs": [],
   "execution_count": 34
  },
  {
   "metadata": {
    "ExecuteTime": {
     "end_time": "2025-05-11T11:10:46.273840Z",
     "start_time": "2025-05-11T11:10:46.259207Z"
    }
   },
   "cell_type": "code",
   "source": "df .head()",
   "id": "5ea0ef005e67f9b3",
   "outputs": [
    {
     "data": {
      "text/plain": [
       "           Date first seen   Duration  Proto    Src IP Addr  Src Pt  \\\n",
       "0  2017-03-14 17:43:57.172  81412.697  TCP       EXT_SERVER    8082   \n",
       "1  2017-03-14 17:43:57.172  81412.697  TCP    OPENSTACK_NET   56978   \n",
       "2  2017-03-14 17:43:26.135  81504.787  TCP       EXT_SERVER    8082   \n",
       "3  2017-03-14 17:43:26.135  81504.787  TCP    OPENSTACK_NET   56979   \n",
       "4  2017-03-14 18:17:09.005  82100.692  TCP       EXT_SERVER    8082   \n",
       "\n",
       "     Dst IP Addr   Dst Pt  Packets       Bytes  Flows   Flags   class  \n",
       "0  OPENSTACK_NET  56978.0     3057   2100000.0      1  .AP...  normal  \n",
       "1     EXT_SERVER   8082.0     4748   2500000.0      1  .AP...  normal  \n",
       "2  OPENSTACK_NET  56979.0     8639   9100000.0      1  .AP...  normal  \n",
       "3     EXT_SERVER   8082.0    12024  10300000.0      1  .AP...  normal  \n",
       "4  OPENSTACK_NET  51649.0    11012  27200000.0      1  .AP.S.  normal  "
      ],
      "text/html": [
       "<div>\n",
       "<style scoped>\n",
       "    .dataframe tbody tr th:only-of-type {\n",
       "        vertical-align: middle;\n",
       "    }\n",
       "\n",
       "    .dataframe tbody tr th {\n",
       "        vertical-align: top;\n",
       "    }\n",
       "\n",
       "    .dataframe thead th {\n",
       "        text-align: right;\n",
       "    }\n",
       "</style>\n",
       "<table border=\"1\" class=\"dataframe\">\n",
       "  <thead>\n",
       "    <tr style=\"text-align: right;\">\n",
       "      <th></th>\n",
       "      <th>Date first seen</th>\n",
       "      <th>Duration</th>\n",
       "      <th>Proto</th>\n",
       "      <th>Src IP Addr</th>\n",
       "      <th>Src Pt</th>\n",
       "      <th>Dst IP Addr</th>\n",
       "      <th>Dst Pt</th>\n",
       "      <th>Packets</th>\n",
       "      <th>Bytes</th>\n",
       "      <th>Flows</th>\n",
       "      <th>Flags</th>\n",
       "      <th>class</th>\n",
       "    </tr>\n",
       "  </thead>\n",
       "  <tbody>\n",
       "    <tr>\n",
       "      <th>0</th>\n",
       "      <td>2017-03-14 17:43:57.172</td>\n",
       "      <td>81412.697</td>\n",
       "      <td>TCP</td>\n",
       "      <td>EXT_SERVER</td>\n",
       "      <td>8082</td>\n",
       "      <td>OPENSTACK_NET</td>\n",
       "      <td>56978.0</td>\n",
       "      <td>3057</td>\n",
       "      <td>2100000.0</td>\n",
       "      <td>1</td>\n",
       "      <td>.AP...</td>\n",
       "      <td>normal</td>\n",
       "    </tr>\n",
       "    <tr>\n",
       "      <th>1</th>\n",
       "      <td>2017-03-14 17:43:57.172</td>\n",
       "      <td>81412.697</td>\n",
       "      <td>TCP</td>\n",
       "      <td>OPENSTACK_NET</td>\n",
       "      <td>56978</td>\n",
       "      <td>EXT_SERVER</td>\n",
       "      <td>8082.0</td>\n",
       "      <td>4748</td>\n",
       "      <td>2500000.0</td>\n",
       "      <td>1</td>\n",
       "      <td>.AP...</td>\n",
       "      <td>normal</td>\n",
       "    </tr>\n",
       "    <tr>\n",
       "      <th>2</th>\n",
       "      <td>2017-03-14 17:43:26.135</td>\n",
       "      <td>81504.787</td>\n",
       "      <td>TCP</td>\n",
       "      <td>EXT_SERVER</td>\n",
       "      <td>8082</td>\n",
       "      <td>OPENSTACK_NET</td>\n",
       "      <td>56979.0</td>\n",
       "      <td>8639</td>\n",
       "      <td>9100000.0</td>\n",
       "      <td>1</td>\n",
       "      <td>.AP...</td>\n",
       "      <td>normal</td>\n",
       "    </tr>\n",
       "    <tr>\n",
       "      <th>3</th>\n",
       "      <td>2017-03-14 17:43:26.135</td>\n",
       "      <td>81504.787</td>\n",
       "      <td>TCP</td>\n",
       "      <td>OPENSTACK_NET</td>\n",
       "      <td>56979</td>\n",
       "      <td>EXT_SERVER</td>\n",
       "      <td>8082.0</td>\n",
       "      <td>12024</td>\n",
       "      <td>10300000.0</td>\n",
       "      <td>1</td>\n",
       "      <td>.AP...</td>\n",
       "      <td>normal</td>\n",
       "    </tr>\n",
       "    <tr>\n",
       "      <th>4</th>\n",
       "      <td>2017-03-14 18:17:09.005</td>\n",
       "      <td>82100.692</td>\n",
       "      <td>TCP</td>\n",
       "      <td>EXT_SERVER</td>\n",
       "      <td>8082</td>\n",
       "      <td>OPENSTACK_NET</td>\n",
       "      <td>51649.0</td>\n",
       "      <td>11012</td>\n",
       "      <td>27200000.0</td>\n",
       "      <td>1</td>\n",
       "      <td>.AP.S.</td>\n",
       "      <td>normal</td>\n",
       "    </tr>\n",
       "  </tbody>\n",
       "</table>\n",
       "</div>"
      ]
     },
     "execution_count": 35,
     "metadata": {},
     "output_type": "execute_result"
    }
   ],
   "execution_count": 35
  },
  {
   "metadata": {
    "ExecuteTime": {
     "end_time": "2025-05-11T11:10:46.413374Z",
     "start_time": "2025-05-11T11:10:46.404538Z"
    }
   },
   "cell_type": "code",
   "source": [
    "#X = df.drop('class', axis = 1).values\n",
    "#y = df['class'].values\n",
    "#print(type(X), type(y))"
   ],
   "id": "edbf102fd696ce9a",
   "outputs": [],
   "execution_count": 36
  },
  {
   "metadata": {},
   "cell_type": "markdown",
   "source": "features columns must be an 2D array to fit the model in scikit-learn",
   "id": "a94db2ecb8ed5d1a"
  },
  {
   "metadata": {},
   "cell_type": "markdown",
   "source": "## Feature Engineering",
   "id": "e8eee2a2642edf0e"
  },
  {
   "metadata": {
    "ExecuteTime": {
     "end_time": "2025-05-11T11:10:46.746876Z",
     "start_time": "2025-05-11T11:10:46.616314Z"
    }
   },
   "cell_type": "code",
   "source": "df[(df[\"Dst Pt\"].isin([8080, 22, 23, 7547, 5385])) & (df[\"class\"] == \"suspicious\")].value_counts()",
   "id": "a68a91f3bd75a503",
   "outputs": [
    {
     "data": {
      "text/plain": [
       "Date first seen          Duration  Proto  Src IP Addr  Src Pt  Dst IP Addr  Dst Pt  Packets  Bytes   Flows  Flags   class     \n",
       "2017-03-21 23:59:30.671  12.660    TCP    18851_139    14878   EXT_SERVER   22.0    18       2531.0  1      .AP.SF  suspicious    1\n",
       "2017-03-15 00:00:02.296  62.046    TCP    10004_35     57382   EXT_SERVER   22.0    7        420.0   1      .APRSF  suspicious    1\n",
       "2017-03-15 00:00:09.156  15.420    TCP    10001_123    4589    EXT_SERVER   22.0    13       2843.0  1      .APRS.  suspicious    1\n",
       "2017-03-15 00:00:10.677  0.000     TCP    10000_214    8830    EXT_SERVER   23.0    1        46.0    1      ....S.  suspicious    1\n",
       "2017-03-15 00:00:27.441  0.000     TCP    10002_148    18816   EXT_SERVER   23.0    1        46.0    1      ....S.  suspicious    1\n",
       "                                                                                                                                 ..\n",
       "2017-03-15 00:03:19.407  2.534     TCP    10016_97     55502   EXT_SERVER   22.0    14       1678.0  1        0xdb  suspicious    1\n",
       "2017-03-15 00:03:21.906  2.769     TCP    10016_97     55556   EXT_SERVER   22.0    14       1678.0  1        0xdb  suspicious    1\n",
       "2017-03-15 00:03:24.835  61.379    TCP    10016_97     55655   EXT_SERVER   22.0    15       1724.0  1        0xdb  suspicious    1\n",
       "2017-03-15 00:03:26.410  10.355    TCP    10008_109    48143   EXT_SERVER   22.0    17       2261.0  1      .APRSF  suspicious    1\n",
       "2017-03-15 00:03:36.995  10.013    TCP    10008_109    54419   EXT_SERVER   22.0    18       2319.0  1      .AP.SF  suspicious    1\n",
       "Name: count, Length: 46681, dtype: int64"
      ]
     },
     "execution_count": 37,
     "metadata": {},
     "output_type": "execute_result"
    }
   ],
   "execution_count": 37
  },
  {
   "metadata": {
    "ExecuteTime": {
     "end_time": "2025-05-11T11:10:46.883083Z",
     "start_time": "2025-05-11T11:10:46.841229Z"
    }
   },
   "cell_type": "code",
   "source": [
    "vulnerable_ports = {22, 23, 5385, 8080, 7547}\n",
    "df['dst_port_risk'] = df['Dst Pt'].apply(\n",
    "    lambda x: 'high' if x in vulnerable_ports or x < 1024 else 'low')"
   ],
   "id": "bd6a9f8131279025",
   "outputs": [],
   "execution_count": 38
  },
  {
   "metadata": {
    "ExecuteTime": {
     "end_time": "2025-05-11T11:10:47.072564Z",
     "start_time": "2025-05-11T11:10:47.026686Z"
    }
   },
   "cell_type": "code",
   "source": [
    "# feature engineering for packets\n",
    "# Map major packets based on the analysis\n",
    "def map_packets(packet):\n",
    "    if packet == 6 or packet == 7:\n",
    "        return 'normal'\n",
    "    elif packet in {1, 5, 19, 17, 26, 15, 24, 20,12,2,18,8,13,4,3,27,16,9,11,10,25,21,28,23,22,29,30,31,32,33,34,35,36,37,40 }:\n",
    "        return 'suspicious'\n",
    "    return \"normal\"\n",
    "\n",
    "\n",
    "df['packet_class'] =  df['Packets'].apply(map_packets).astype('category')"
   ],
   "id": "9edea63912163f8c",
   "outputs": [],
   "execution_count": 39
  },
  {
   "metadata": {
    "ExecuteTime": {
     "end_time": "2025-05-11T11:10:47.292816Z",
     "start_time": "2025-05-11T11:10:47.175302Z"
    }
   },
   "cell_type": "code",
   "source": "df[(df[\"dst_port_risk\"] == \"high\") & (df[\"class\"] == \"suspicious\")].value_counts()",
   "id": "26e8369d680061a0",
   "outputs": [
    {
     "data": {
      "text/plain": [
       "Date first seen          Duration  Proto  Src IP Addr  Src Pt  Dst IP Addr  Dst Pt  Packets  Bytes   Flows  Flags   class       dst_port_risk  packet_class\n",
       "2017-03-21 23:59:30.671  12.660    TCP    18851_139    14878   EXT_SERVER   22.0    18       2531.0  1      .AP.SF  suspicious  high           suspicious      1\n",
       "2017-03-15 00:00:02.296  62.046    TCP    10004_35     57382   EXT_SERVER   22.0    7        420.0   1      .APRSF  suspicious  high           normal          1\n",
       "2017-03-15 00:00:09.156  15.420    TCP    10001_123    4589    EXT_SERVER   22.0    13       2843.0  1      .APRS.  suspicious  high           suspicious      1\n",
       "2017-03-15 00:00:10.677  0.000     TCP    10000_214    8830    EXT_SERVER   23.0    1        46.0    1      ....S.  suspicious  high           suspicious      1\n",
       "2017-03-15 00:00:27.441  0.000     TCP    10002_148    18816   EXT_SERVER   23.0    1        46.0    1      ....S.  suspicious  high           suspicious      1\n",
       "                                                                                                                                                              ..\n",
       "2017-03-15 00:02:48.741  9.967     TCP    10008_109    45310   EXT_SERVER   22.0    16       2215.0  1      .AP.SF  suspicious  high           suspicious      1\n",
       "2017-03-15 00:02:50.696  15.876    TCP    10001_123    2812    EXT_SERVER   22.0    16       2917.0  1      .APRS.  suspicious  high           suspicious      1\n",
       "2017-03-15 00:02:55.012  0.000     TCP    10007_231    28877   EXT_SERVER   23.0    1        46.0    1      ....S.  suspicious  high           suspicious      1\n",
       "2017-03-15 00:02:58.441  9.850     TCP    10008_109    56766   EXT_SERVER   22.0    17       2267.0  1      .AP.SF  suspicious  high           suspicious      1\n",
       "2017-03-15 00:02:59.004  6.452     TCP    10004_35     62380   EXT_SERVER   22.0    6        329.0   1      .APRSF  suspicious  high           normal          1\n",
       "Name: count, Length: 50608, dtype: int64"
      ]
     },
     "execution_count": 40,
     "metadata": {},
     "output_type": "execute_result"
    }
   ],
   "execution_count": 40
  },
  {
   "metadata": {
    "ExecuteTime": {
     "end_time": "2025-05-11T11:10:47.441515Z",
     "start_time": "2025-05-11T11:10:47.354347Z"
    }
   },
   "cell_type": "code",
   "source": "df[(df[\"dst_port_risk\"] == \"low\") & (df[\"class\"] ==\"normal\")].value_counts()",
   "id": "9654957c3841b8cf",
   "outputs": [
    {
     "data": {
      "text/plain": [
       "Date first seen          Duration    Proto  Src IP Addr    Src Pt  Dst IP Addr    Dst Pt   Packets  Bytes       Flows  Flags   class   dst_port_risk  packet_class\n",
       "2017-03-21 23:58:40.558  0.059       TCP    OPENSTACK_NET  51076   EXT_SERVER     8000.0   6        586.0       1      .AP.SF  normal  low            normal          1\n",
       "2017-03-14 17:43:26.135  81504.787   TCP    EXT_SERVER     8082    OPENSTACK_NET  56979.0  8639     9100000.0   1      .AP...  normal  low            normal          1\n",
       "                                            OPENSTACK_NET  56979   EXT_SERVER     8082.0   12024    10300000.0  1      .AP...  normal  low            normal          1\n",
       "2017-03-14 17:43:39.011  183418.493  TCP    EXT_SERVER     8082    OPENSTACK_NET  60802.0  13266    33000000.0  1      .AP...  normal  low            normal          1\n",
       "                                            OPENSTACK_NET  60802   EXT_SERVER     8082.0   20751    5800000.0   1      .AP...  normal  low            normal          1\n",
       "                                                                                                                                                                     ..\n",
       "2017-03-14 18:17:09.005  82100.692   TCP    OPENSTACK_NET  51649   EXT_SERVER     8082.0   14186    1200000.0   1      .AP.S.  normal  low            normal          1\n",
       "2017-03-14 19:02:42.704  86303.297   TCP    EXT_SERVER     8082    OPENSTACK_NET  48380.0  10178    25200000.0  1      .AP.S.  normal  low            normal          1\n",
       "                                            OPENSTACK_NET  48380   EXT_SERVER     8082.0   14552    2600000.0   1      .AP.S.  normal  low            normal          1\n",
       "2017-03-14 19:46:37.327  83640.139   TCP    EXT_SERVER     8082    OPENSTACK_NET  37039.0  9974     31900000.0  1      .AP.S.  normal  low            normal          1\n",
       "                                            OPENSTACK_NET  37039   EXT_SERVER     8082.0   16476    1700000.0   1      .AP.S.  normal  low            normal          1\n",
       "Name: count, Length: 49574, dtype: int64"
      ]
     },
     "execution_count": 41,
     "metadata": {},
     "output_type": "execute_result"
    }
   ],
   "execution_count": 41
  },
  {
   "metadata": {
    "ExecuteTime": {
     "end_time": "2025-05-11T11:10:47.590418Z",
     "start_time": "2025-05-11T11:10:47.545348Z"
    }
   },
   "cell_type": "code",
   "source": "df.info()",
   "id": "926b4cb0ab41145b",
   "outputs": [
    {
     "name": "stdout",
     "output_type": "stream",
     "text": [
      "<class 'pandas.core.frame.DataFrame'>\n",
      "Index: 156950 entries, 0 to 172837\n",
      "Data columns (total 14 columns):\n",
      " #   Column           Non-Null Count   Dtype   \n",
      "---  ------           --------------   -----   \n",
      " 0   Date first seen  156950 non-null  object  \n",
      " 1   Duration         156950 non-null  float64 \n",
      " 2   Proto            156950 non-null  object  \n",
      " 3   Src IP Addr      156950 non-null  object  \n",
      " 4   Src Pt           156950 non-null  int64   \n",
      " 5   Dst IP Addr      156950 non-null  object  \n",
      " 6   Dst Pt           156950 non-null  float64 \n",
      " 7   Packets          156950 non-null  int64   \n",
      " 8   Bytes            156950 non-null  float64 \n",
      " 9   Flows            156950 non-null  int64   \n",
      " 10  Flags            156950 non-null  object  \n",
      " 11  class            156950 non-null  object  \n",
      " 12  dst_port_risk    156950 non-null  object  \n",
      " 13  packet_class     156950 non-null  category\n",
      "dtypes: category(1), float64(3), int64(3), object(7)\n",
      "memory usage: 16.9+ MB\n"
     ]
    }
   ],
   "execution_count": 42
  },
  {
   "metadata": {
    "ExecuteTime": {
     "end_time": "2025-05-11T11:10:47.802142Z",
     "start_time": "2025-05-11T11:10:47.792294Z"
    }
   },
   "cell_type": "code",
   "source": "df.columns",
   "id": "21dc6214205b244d",
   "outputs": [
    {
     "data": {
      "text/plain": [
       "Index(['Date first seen', 'Duration', 'Proto', 'Src IP Addr', 'Src Pt',\n",
       "       'Dst IP Addr', 'Dst Pt', 'Packets', 'Bytes', 'Flows', 'Flags', 'class',\n",
       "       'dst_port_risk', 'packet_class'],\n",
       "      dtype='object')"
      ]
     },
     "execution_count": 43,
     "metadata": {},
     "output_type": "execute_result"
    }
   ],
   "execution_count": 43
  },
  {
   "metadata": {
    "ExecuteTime": {
     "end_time": "2025-05-11T11:10:47.937492Z",
     "start_time": "2025-05-11T11:10:47.886629Z"
    }
   },
   "cell_type": "code",
   "source": "df.set_index(\"Date first seen\")",
   "id": "b27e65de314df641",
   "outputs": [
    {
     "data": {
      "text/plain": [
       "                           Duration  Proto    Src IP Addr  Src Pt  \\\n",
       "Date first seen                                                     \n",
       "2017-03-14 17:43:57.172   81412.697  TCP       EXT_SERVER    8082   \n",
       "2017-03-14 17:43:57.172   81412.697  TCP    OPENSTACK_NET   56978   \n",
       "2017-03-14 17:43:26.135   81504.787  TCP       EXT_SERVER    8082   \n",
       "2017-03-14 17:43:26.135   81504.787  TCP    OPENSTACK_NET   56979   \n",
       "2017-03-14 18:17:09.005   82100.692  TCP       EXT_SERVER    8082   \n",
       "...                             ...    ...            ...     ...   \n",
       "2017-03-16 11:42:01.298  518988.907  TCP    OPENSTACK_NET   49939   \n",
       "2017-03-16 12:10:17.340  517292.865  TCP       EXT_SERVER    8082   \n",
       "2017-03-16 12:10:17.340  517292.865  TCP    OPENSTACK_NET   58749   \n",
       "2017-03-16 15:52:58.342  503931.863  TCP       EXT_SERVER    8082   \n",
       "2017-03-16 15:52:58.342  503931.863  TCP    OPENSTACK_NET   62605   \n",
       "\n",
       "                           Dst IP Addr   Dst Pt  Packets       Bytes  Flows  \\\n",
       "Date first seen                                                               \n",
       "2017-03-14 17:43:57.172  OPENSTACK_NET  56978.0     3057   2100000.0      1   \n",
       "2017-03-14 17:43:57.172     EXT_SERVER   8082.0     4748   2500000.0      1   \n",
       "2017-03-14 17:43:26.135  OPENSTACK_NET  56979.0     8639   9100000.0      1   \n",
       "2017-03-14 17:43:26.135     EXT_SERVER   8082.0    12024  10300000.0      1   \n",
       "2017-03-14 18:17:09.005  OPENSTACK_NET  51649.0    11012  27200000.0      1   \n",
       "...                                ...      ...      ...         ...    ...   \n",
       "2017-03-16 11:42:01.298     EXT_SERVER   8082.0    17446  10600000.0      1   \n",
       "2017-03-16 12:10:17.340  OPENSTACK_NET  58749.0     9406   3400000.0      1   \n",
       "2017-03-16 12:10:17.340     EXT_SERVER   8082.0    15510  10300000.0      1   \n",
       "2017-03-16 15:52:58.342  OPENSTACK_NET  62605.0    13362   5200000.0      1   \n",
       "2017-03-16 15:52:58.342     EXT_SERVER   8082.0    20262  17800000.0      1   \n",
       "\n",
       "                          Flags   class dst_port_risk packet_class  \n",
       "Date first seen                                                     \n",
       "2017-03-14 17:43:57.172  .AP...  normal           low       normal  \n",
       "2017-03-14 17:43:57.172  .AP...  normal           low       normal  \n",
       "2017-03-14 17:43:26.135  .AP...  normal           low       normal  \n",
       "2017-03-14 17:43:26.135  .AP...  normal           low       normal  \n",
       "2017-03-14 18:17:09.005  .AP.S.  normal           low       normal  \n",
       "...                         ...     ...           ...          ...  \n",
       "2017-03-16 11:42:01.298  .APRS.  normal           low       normal  \n",
       "2017-03-16 12:10:17.340  .AP.S.  normal           low       normal  \n",
       "2017-03-16 12:10:17.340  .APRS.  normal           low       normal  \n",
       "2017-03-16 15:52:58.342  .AP.S.  normal           low       normal  \n",
       "2017-03-16 15:52:58.342  .APRS.  normal           low       normal  \n",
       "\n",
       "[156950 rows x 13 columns]"
      ],
      "text/html": [
       "<div>\n",
       "<style scoped>\n",
       "    .dataframe tbody tr th:only-of-type {\n",
       "        vertical-align: middle;\n",
       "    }\n",
       "\n",
       "    .dataframe tbody tr th {\n",
       "        vertical-align: top;\n",
       "    }\n",
       "\n",
       "    .dataframe thead th {\n",
       "        text-align: right;\n",
       "    }\n",
       "</style>\n",
       "<table border=\"1\" class=\"dataframe\">\n",
       "  <thead>\n",
       "    <tr style=\"text-align: right;\">\n",
       "      <th></th>\n",
       "      <th>Duration</th>\n",
       "      <th>Proto</th>\n",
       "      <th>Src IP Addr</th>\n",
       "      <th>Src Pt</th>\n",
       "      <th>Dst IP Addr</th>\n",
       "      <th>Dst Pt</th>\n",
       "      <th>Packets</th>\n",
       "      <th>Bytes</th>\n",
       "      <th>Flows</th>\n",
       "      <th>Flags</th>\n",
       "      <th>class</th>\n",
       "      <th>dst_port_risk</th>\n",
       "      <th>packet_class</th>\n",
       "    </tr>\n",
       "    <tr>\n",
       "      <th>Date first seen</th>\n",
       "      <th></th>\n",
       "      <th></th>\n",
       "      <th></th>\n",
       "      <th></th>\n",
       "      <th></th>\n",
       "      <th></th>\n",
       "      <th></th>\n",
       "      <th></th>\n",
       "      <th></th>\n",
       "      <th></th>\n",
       "      <th></th>\n",
       "      <th></th>\n",
       "      <th></th>\n",
       "    </tr>\n",
       "  </thead>\n",
       "  <tbody>\n",
       "    <tr>\n",
       "      <th>2017-03-14 17:43:57.172</th>\n",
       "      <td>81412.697</td>\n",
       "      <td>TCP</td>\n",
       "      <td>EXT_SERVER</td>\n",
       "      <td>8082</td>\n",
       "      <td>OPENSTACK_NET</td>\n",
       "      <td>56978.0</td>\n",
       "      <td>3057</td>\n",
       "      <td>2100000.0</td>\n",
       "      <td>1</td>\n",
       "      <td>.AP...</td>\n",
       "      <td>normal</td>\n",
       "      <td>low</td>\n",
       "      <td>normal</td>\n",
       "    </tr>\n",
       "    <tr>\n",
       "      <th>2017-03-14 17:43:57.172</th>\n",
       "      <td>81412.697</td>\n",
       "      <td>TCP</td>\n",
       "      <td>OPENSTACK_NET</td>\n",
       "      <td>56978</td>\n",
       "      <td>EXT_SERVER</td>\n",
       "      <td>8082.0</td>\n",
       "      <td>4748</td>\n",
       "      <td>2500000.0</td>\n",
       "      <td>1</td>\n",
       "      <td>.AP...</td>\n",
       "      <td>normal</td>\n",
       "      <td>low</td>\n",
       "      <td>normal</td>\n",
       "    </tr>\n",
       "    <tr>\n",
       "      <th>2017-03-14 17:43:26.135</th>\n",
       "      <td>81504.787</td>\n",
       "      <td>TCP</td>\n",
       "      <td>EXT_SERVER</td>\n",
       "      <td>8082</td>\n",
       "      <td>OPENSTACK_NET</td>\n",
       "      <td>56979.0</td>\n",
       "      <td>8639</td>\n",
       "      <td>9100000.0</td>\n",
       "      <td>1</td>\n",
       "      <td>.AP...</td>\n",
       "      <td>normal</td>\n",
       "      <td>low</td>\n",
       "      <td>normal</td>\n",
       "    </tr>\n",
       "    <tr>\n",
       "      <th>2017-03-14 17:43:26.135</th>\n",
       "      <td>81504.787</td>\n",
       "      <td>TCP</td>\n",
       "      <td>OPENSTACK_NET</td>\n",
       "      <td>56979</td>\n",
       "      <td>EXT_SERVER</td>\n",
       "      <td>8082.0</td>\n",
       "      <td>12024</td>\n",
       "      <td>10300000.0</td>\n",
       "      <td>1</td>\n",
       "      <td>.AP...</td>\n",
       "      <td>normal</td>\n",
       "      <td>low</td>\n",
       "      <td>normal</td>\n",
       "    </tr>\n",
       "    <tr>\n",
       "      <th>2017-03-14 18:17:09.005</th>\n",
       "      <td>82100.692</td>\n",
       "      <td>TCP</td>\n",
       "      <td>EXT_SERVER</td>\n",
       "      <td>8082</td>\n",
       "      <td>OPENSTACK_NET</td>\n",
       "      <td>51649.0</td>\n",
       "      <td>11012</td>\n",
       "      <td>27200000.0</td>\n",
       "      <td>1</td>\n",
       "      <td>.AP.S.</td>\n",
       "      <td>normal</td>\n",
       "      <td>low</td>\n",
       "      <td>normal</td>\n",
       "    </tr>\n",
       "    <tr>\n",
       "      <th>...</th>\n",
       "      <td>...</td>\n",
       "      <td>...</td>\n",
       "      <td>...</td>\n",
       "      <td>...</td>\n",
       "      <td>...</td>\n",
       "      <td>...</td>\n",
       "      <td>...</td>\n",
       "      <td>...</td>\n",
       "      <td>...</td>\n",
       "      <td>...</td>\n",
       "      <td>...</td>\n",
       "      <td>...</td>\n",
       "      <td>...</td>\n",
       "    </tr>\n",
       "    <tr>\n",
       "      <th>2017-03-16 11:42:01.298</th>\n",
       "      <td>518988.907</td>\n",
       "      <td>TCP</td>\n",
       "      <td>OPENSTACK_NET</td>\n",
       "      <td>49939</td>\n",
       "      <td>EXT_SERVER</td>\n",
       "      <td>8082.0</td>\n",
       "      <td>17446</td>\n",
       "      <td>10600000.0</td>\n",
       "      <td>1</td>\n",
       "      <td>.APRS.</td>\n",
       "      <td>normal</td>\n",
       "      <td>low</td>\n",
       "      <td>normal</td>\n",
       "    </tr>\n",
       "    <tr>\n",
       "      <th>2017-03-16 12:10:17.340</th>\n",
       "      <td>517292.865</td>\n",
       "      <td>TCP</td>\n",
       "      <td>EXT_SERVER</td>\n",
       "      <td>8082</td>\n",
       "      <td>OPENSTACK_NET</td>\n",
       "      <td>58749.0</td>\n",
       "      <td>9406</td>\n",
       "      <td>3400000.0</td>\n",
       "      <td>1</td>\n",
       "      <td>.AP.S.</td>\n",
       "      <td>normal</td>\n",
       "      <td>low</td>\n",
       "      <td>normal</td>\n",
       "    </tr>\n",
       "    <tr>\n",
       "      <th>2017-03-16 12:10:17.340</th>\n",
       "      <td>517292.865</td>\n",
       "      <td>TCP</td>\n",
       "      <td>OPENSTACK_NET</td>\n",
       "      <td>58749</td>\n",
       "      <td>EXT_SERVER</td>\n",
       "      <td>8082.0</td>\n",
       "      <td>15510</td>\n",
       "      <td>10300000.0</td>\n",
       "      <td>1</td>\n",
       "      <td>.APRS.</td>\n",
       "      <td>normal</td>\n",
       "      <td>low</td>\n",
       "      <td>normal</td>\n",
       "    </tr>\n",
       "    <tr>\n",
       "      <th>2017-03-16 15:52:58.342</th>\n",
       "      <td>503931.863</td>\n",
       "      <td>TCP</td>\n",
       "      <td>EXT_SERVER</td>\n",
       "      <td>8082</td>\n",
       "      <td>OPENSTACK_NET</td>\n",
       "      <td>62605.0</td>\n",
       "      <td>13362</td>\n",
       "      <td>5200000.0</td>\n",
       "      <td>1</td>\n",
       "      <td>.AP.S.</td>\n",
       "      <td>normal</td>\n",
       "      <td>low</td>\n",
       "      <td>normal</td>\n",
       "    </tr>\n",
       "    <tr>\n",
       "      <th>2017-03-16 15:52:58.342</th>\n",
       "      <td>503931.863</td>\n",
       "      <td>TCP</td>\n",
       "      <td>OPENSTACK_NET</td>\n",
       "      <td>62605</td>\n",
       "      <td>EXT_SERVER</td>\n",
       "      <td>8082.0</td>\n",
       "      <td>20262</td>\n",
       "      <td>17800000.0</td>\n",
       "      <td>1</td>\n",
       "      <td>.APRS.</td>\n",
       "      <td>normal</td>\n",
       "      <td>low</td>\n",
       "      <td>normal</td>\n",
       "    </tr>\n",
       "  </tbody>\n",
       "</table>\n",
       "<p>156950 rows × 13 columns</p>\n",
       "</div>"
      ]
     },
     "execution_count": 44,
     "metadata": {},
     "output_type": "execute_result"
    }
   ],
   "execution_count": 44
  },
  {
   "metadata": {
    "ExecuteTime": {
     "end_time": "2025-05-11T11:10:48.042810Z",
     "start_time": "2025-05-11T11:10:48.012874Z"
    }
   },
   "cell_type": "code",
   "source": [
    "# Convert the specified columns to 'category' type\n",
    "df[[\"class\", \"dst_port_risk\", \"packet_class\"]] = df[[\"class\", \"dst_port_risk\", \"packet_class\"]].astype(\"category\")"
   ],
   "id": "95f84d41cf4efb95",
   "outputs": [],
   "execution_count": 45
  },
  {
   "metadata": {
    "ExecuteTime": {
     "end_time": "2025-05-11T11:10:48.219229Z",
     "start_time": "2025-05-11T11:10:48.175642Z"
    }
   },
   "cell_type": "code",
   "source": "df.info()",
   "id": "a5cd99f0bdc87872",
   "outputs": [
    {
     "name": "stdout",
     "output_type": "stream",
     "text": [
      "<class 'pandas.core.frame.DataFrame'>\n",
      "Index: 156950 entries, 0 to 172837\n",
      "Data columns (total 14 columns):\n",
      " #   Column           Non-Null Count   Dtype   \n",
      "---  ------           --------------   -----   \n",
      " 0   Date first seen  156950 non-null  object  \n",
      " 1   Duration         156950 non-null  float64 \n",
      " 2   Proto            156950 non-null  object  \n",
      " 3   Src IP Addr      156950 non-null  object  \n",
      " 4   Src Pt           156950 non-null  int64   \n",
      " 5   Dst IP Addr      156950 non-null  object  \n",
      " 6   Dst Pt           156950 non-null  float64 \n",
      " 7   Packets          156950 non-null  int64   \n",
      " 8   Bytes            156950 non-null  float64 \n",
      " 9   Flows            156950 non-null  int64   \n",
      " 10  Flags            156950 non-null  object  \n",
      " 11  class            156950 non-null  category\n",
      " 12  dst_port_risk    156950 non-null  category\n",
      " 13  packet_class     156950 non-null  category\n",
      "dtypes: category(3), float64(3), int64(3), object(5)\n",
      "memory usage: 14.8+ MB\n"
     ]
    }
   ],
   "execution_count": 46
  },
  {
   "metadata": {
    "ExecuteTime": {
     "end_time": "2025-05-11T11:17:01.348286Z",
     "start_time": "2025-05-11T11:10:48.555240Z"
    }
   },
   "cell_type": "code",
   "source": [
    "# 2. TCP Flag Features\n",
    "flag_mapping = {\n",
    "    'S': 'SYN',\n",
    "    'A': 'ACK',\n",
    "    'P': 'PUSH',\n",
    "    'R': 'RST',\n",
    "    'F': 'FIN',\n",
    "    'U': 'URG',\n",
    "    'E': 'ECE',\n",
    "    'C': 'CWR'\n",
    "}\n",
    "for flag in flag_mapping.values():\n",
    "    df[f'flag_{flag}'] = 0\n",
    "\n",
    "for idx, flags in enumerate(df['Flags']):\n",
    "    for i, char in enumerate(flags):\n",
    "        if char != '.' and char in flag_mapping:\n",
    "            flag_name = flag_mapping[char]\n",
    "            df.at[idx, f'flag_{flag_name}'] = 1"
   ],
   "id": "862a0bc447142b4a",
   "outputs": [],
   "execution_count": 47
  },
  {
   "metadata": {
    "ExecuteTime": {
     "end_time": "2025-05-11T11:17:01.422686Z",
     "start_time": "2025-05-11T11:17:01.398453Z"
    }
   },
   "cell_type": "code",
   "source": "df.head()",
   "id": "553a172a06051f6d",
   "outputs": [
    {
     "data": {
      "text/plain": [
       "           Date first seen   Duration  Proto    Src IP Addr   Src Pt  \\\n",
       "0  2017-03-14 17:43:57.172  81412.697  TCP       EXT_SERVER   8082.0   \n",
       "1  2017-03-14 17:43:57.172  81412.697  TCP    OPENSTACK_NET  56978.0   \n",
       "2  2017-03-14 17:43:26.135  81504.787  TCP       EXT_SERVER   8082.0   \n",
       "3  2017-03-14 17:43:26.135  81504.787  TCP    OPENSTACK_NET  56979.0   \n",
       "4  2017-03-14 18:17:09.005  82100.692  TCP       EXT_SERVER   8082.0   \n",
       "\n",
       "     Dst IP Addr   Dst Pt  Packets       Bytes  Flows  ... dst_port_risk  \\\n",
       "0  OPENSTACK_NET  56978.0   3057.0   2100000.0    1.0  ...           low   \n",
       "1     EXT_SERVER   8082.0   4748.0   2500000.0    1.0  ...           low   \n",
       "2  OPENSTACK_NET  56979.0   8639.0   9100000.0    1.0  ...           low   \n",
       "3     EXT_SERVER   8082.0  12024.0  10300000.0    1.0  ...           low   \n",
       "4  OPENSTACK_NET  51649.0  11012.0  27200000.0    1.0  ...           low   \n",
       "\n",
       "  packet_class flag_SYN flag_ACK  flag_PUSH  flag_RST  flag_FIN  flag_URG  \\\n",
       "0       normal      0.0      1.0        1.0       0.0       0.0       0.0   \n",
       "1       normal      0.0      1.0        1.0       0.0       0.0       0.0   \n",
       "2       normal      0.0      1.0        1.0       0.0       0.0       0.0   \n",
       "3       normal      0.0      1.0        1.0       0.0       0.0       0.0   \n",
       "4       normal      1.0      1.0        1.0       0.0       0.0       0.0   \n",
       "\n",
       "   flag_ECE  flag_CWR  \n",
       "0       0.0       0.0  \n",
       "1       0.0       0.0  \n",
       "2       0.0       0.0  \n",
       "3       0.0       0.0  \n",
       "4       0.0       0.0  \n",
       "\n",
       "[5 rows x 22 columns]"
      ],
      "text/html": [
       "<div>\n",
       "<style scoped>\n",
       "    .dataframe tbody tr th:only-of-type {\n",
       "        vertical-align: middle;\n",
       "    }\n",
       "\n",
       "    .dataframe tbody tr th {\n",
       "        vertical-align: top;\n",
       "    }\n",
       "\n",
       "    .dataframe thead th {\n",
       "        text-align: right;\n",
       "    }\n",
       "</style>\n",
       "<table border=\"1\" class=\"dataframe\">\n",
       "  <thead>\n",
       "    <tr style=\"text-align: right;\">\n",
       "      <th></th>\n",
       "      <th>Date first seen</th>\n",
       "      <th>Duration</th>\n",
       "      <th>Proto</th>\n",
       "      <th>Src IP Addr</th>\n",
       "      <th>Src Pt</th>\n",
       "      <th>Dst IP Addr</th>\n",
       "      <th>Dst Pt</th>\n",
       "      <th>Packets</th>\n",
       "      <th>Bytes</th>\n",
       "      <th>Flows</th>\n",
       "      <th>...</th>\n",
       "      <th>dst_port_risk</th>\n",
       "      <th>packet_class</th>\n",
       "      <th>flag_SYN</th>\n",
       "      <th>flag_ACK</th>\n",
       "      <th>flag_PUSH</th>\n",
       "      <th>flag_RST</th>\n",
       "      <th>flag_FIN</th>\n",
       "      <th>flag_URG</th>\n",
       "      <th>flag_ECE</th>\n",
       "      <th>flag_CWR</th>\n",
       "    </tr>\n",
       "  </thead>\n",
       "  <tbody>\n",
       "    <tr>\n",
       "      <th>0</th>\n",
       "      <td>2017-03-14 17:43:57.172</td>\n",
       "      <td>81412.697</td>\n",
       "      <td>TCP</td>\n",
       "      <td>EXT_SERVER</td>\n",
       "      <td>8082.0</td>\n",
       "      <td>OPENSTACK_NET</td>\n",
       "      <td>56978.0</td>\n",
       "      <td>3057.0</td>\n",
       "      <td>2100000.0</td>\n",
       "      <td>1.0</td>\n",
       "      <td>...</td>\n",
       "      <td>low</td>\n",
       "      <td>normal</td>\n",
       "      <td>0.0</td>\n",
       "      <td>1.0</td>\n",
       "      <td>1.0</td>\n",
       "      <td>0.0</td>\n",
       "      <td>0.0</td>\n",
       "      <td>0.0</td>\n",
       "      <td>0.0</td>\n",
       "      <td>0.0</td>\n",
       "    </tr>\n",
       "    <tr>\n",
       "      <th>1</th>\n",
       "      <td>2017-03-14 17:43:57.172</td>\n",
       "      <td>81412.697</td>\n",
       "      <td>TCP</td>\n",
       "      <td>OPENSTACK_NET</td>\n",
       "      <td>56978.0</td>\n",
       "      <td>EXT_SERVER</td>\n",
       "      <td>8082.0</td>\n",
       "      <td>4748.0</td>\n",
       "      <td>2500000.0</td>\n",
       "      <td>1.0</td>\n",
       "      <td>...</td>\n",
       "      <td>low</td>\n",
       "      <td>normal</td>\n",
       "      <td>0.0</td>\n",
       "      <td>1.0</td>\n",
       "      <td>1.0</td>\n",
       "      <td>0.0</td>\n",
       "      <td>0.0</td>\n",
       "      <td>0.0</td>\n",
       "      <td>0.0</td>\n",
       "      <td>0.0</td>\n",
       "    </tr>\n",
       "    <tr>\n",
       "      <th>2</th>\n",
       "      <td>2017-03-14 17:43:26.135</td>\n",
       "      <td>81504.787</td>\n",
       "      <td>TCP</td>\n",
       "      <td>EXT_SERVER</td>\n",
       "      <td>8082.0</td>\n",
       "      <td>OPENSTACK_NET</td>\n",
       "      <td>56979.0</td>\n",
       "      <td>8639.0</td>\n",
       "      <td>9100000.0</td>\n",
       "      <td>1.0</td>\n",
       "      <td>...</td>\n",
       "      <td>low</td>\n",
       "      <td>normal</td>\n",
       "      <td>0.0</td>\n",
       "      <td>1.0</td>\n",
       "      <td>1.0</td>\n",
       "      <td>0.0</td>\n",
       "      <td>0.0</td>\n",
       "      <td>0.0</td>\n",
       "      <td>0.0</td>\n",
       "      <td>0.0</td>\n",
       "    </tr>\n",
       "    <tr>\n",
       "      <th>3</th>\n",
       "      <td>2017-03-14 17:43:26.135</td>\n",
       "      <td>81504.787</td>\n",
       "      <td>TCP</td>\n",
       "      <td>OPENSTACK_NET</td>\n",
       "      <td>56979.0</td>\n",
       "      <td>EXT_SERVER</td>\n",
       "      <td>8082.0</td>\n",
       "      <td>12024.0</td>\n",
       "      <td>10300000.0</td>\n",
       "      <td>1.0</td>\n",
       "      <td>...</td>\n",
       "      <td>low</td>\n",
       "      <td>normal</td>\n",
       "      <td>0.0</td>\n",
       "      <td>1.0</td>\n",
       "      <td>1.0</td>\n",
       "      <td>0.0</td>\n",
       "      <td>0.0</td>\n",
       "      <td>0.0</td>\n",
       "      <td>0.0</td>\n",
       "      <td>0.0</td>\n",
       "    </tr>\n",
       "    <tr>\n",
       "      <th>4</th>\n",
       "      <td>2017-03-14 18:17:09.005</td>\n",
       "      <td>82100.692</td>\n",
       "      <td>TCP</td>\n",
       "      <td>EXT_SERVER</td>\n",
       "      <td>8082.0</td>\n",
       "      <td>OPENSTACK_NET</td>\n",
       "      <td>51649.0</td>\n",
       "      <td>11012.0</td>\n",
       "      <td>27200000.0</td>\n",
       "      <td>1.0</td>\n",
       "      <td>...</td>\n",
       "      <td>low</td>\n",
       "      <td>normal</td>\n",
       "      <td>1.0</td>\n",
       "      <td>1.0</td>\n",
       "      <td>1.0</td>\n",
       "      <td>0.0</td>\n",
       "      <td>0.0</td>\n",
       "      <td>0.0</td>\n",
       "      <td>0.0</td>\n",
       "      <td>0.0</td>\n",
       "    </tr>\n",
       "  </tbody>\n",
       "</table>\n",
       "<p>5 rows × 22 columns</p>\n",
       "</div>"
      ]
     },
     "execution_count": 48,
     "metadata": {},
     "output_type": "execute_result"
    }
   ],
   "execution_count": 48
  },
  {
   "metadata": {
    "ExecuteTime": {
     "end_time": "2025-05-11T11:17:01.513964Z",
     "start_time": "2025-05-11T11:17:01.499396Z"
    }
   },
   "cell_type": "code",
   "source": [
    "# 3. Traffic Volume Features\n",
    "df['bytes_per_packet'] = df['Bytes'] / df['Packets']\n",
    "df['duration_category'] = pd.cut(df['Duration'],\n",
    "                                 bins=[-1, 0.001, 1, 60, np.inf],\n",
    "                                 labels=['instant', 'short', 'medium', 'long'])"
   ],
   "id": "6c3dad6366c86155",
   "outputs": [],
   "execution_count": 49
  },
  {
   "metadata": {
    "ExecuteTime": {
     "end_time": "2025-05-11T11:17:02.696753Z",
     "start_time": "2025-05-11T11:17:01.694397Z"
    }
   },
   "cell_type": "code",
   "source": [
    "df['src_internal'] = df['Src IP Addr'].astype(str).apply(lambda x: 1 if x.startswith('100') else 0)\n",
    "df['direction'] = df.apply(lambda x: 'internal_to_external' if x['src_internal'] else 'external_to_internal', axis=1)"
   ],
   "id": "12f96348e75fb3d9",
   "outputs": [],
   "execution_count": 50
  },
  {
   "metadata": {
    "ExecuteTime": {
     "end_time": "2025-05-11T11:17:02.848519Z",
     "start_time": "2025-05-11T11:17:02.717835Z"
    }
   },
   "cell_type": "code",
   "source": [
    "# 5. Time-Based Features\n",
    "df['timestamp'] = pd.to_datetime(df['Date first seen'])\n",
    "df['hour'] = df['timestamp'].dt.hour\n",
    "df['is_night'] = df['hour'].apply(lambda x: 1 if x < 6 or x >= 18 else 0)"
   ],
   "id": "14030bb163df293",
   "outputs": [],
   "execution_count": 51
  },
  {
   "metadata": {
    "ExecuteTime": {
     "end_time": "2025-05-11T11:17:04.902704Z",
     "start_time": "2025-05-11T11:17:02.885856Z"
    }
   },
   "cell_type": "code",
   "source": [
    "# 6. Flow Symmetry Features\n",
    "# Create bidirectional flow identifier\n",
    "df['flow_key'] = df.apply(lambda x: tuple(sorted([(x['Src IP Addr'], x['Src Pt']),\n",
    "                                                 (x['Dst IP Addr'], x['Dst Pt'])])), axis=1)"
   ],
   "id": "be0b51bef4f5e10",
   "outputs": [],
   "execution_count": 52
  },
  {
   "metadata": {
    "ExecuteTime": {
     "end_time": "2025-05-11T11:17:05.416566Z",
     "start_time": "2025-05-11T11:17:04.936696Z"
    }
   },
   "cell_type": "code",
   "source": [
    "flow_counts = df.groupby('flow_key').size().reset_index(name='flow_count')\n",
    "df = df.merge(flow_counts, on='flow_key')\n",
    "df['bidirectional'] = df['flow_count'].apply(lambda x: 1 if x >= 2 else 0)"
   ],
   "id": "c626d43e25163773",
   "outputs": [],
   "execution_count": 53
  },
  {
   "metadata": {
    "ExecuteTime": {
     "end_time": "2025-05-11T11:17:09.613666Z",
     "start_time": "2025-05-11T11:17:05.457425Z"
    }
   },
   "cell_type": "code",
   "source": [
    "# 7. Attack Pattern Features\n",
    "df['mixed_protocol'] = df.groupby('flow_key')['Proto'].transform(\n",
    "    lambda x: 1 if len(set(x)) > 1 else 0)"
   ],
   "id": "a0bc92a37098db78",
   "outputs": [],
   "execution_count": 54
  },
  {
   "metadata": {
    "ExecuteTime": {
     "end_time": "2025-05-11T11:17:10.591486Z",
     "start_time": "2025-05-11T11:17:09.642567Z"
    }
   },
   "cell_type": "code",
   "source": [
    "# 8. Small Packet Detection\n",
    "df['small_packet_alert'] = df.apply(lambda x: 1 if (x['Packets'] == 1 and x['Bytes'] < 100)\n",
    "                                   else 0, axis=1)"
   ],
   "id": "7b81dceb62e645bd",
   "outputs": [],
   "execution_count": 55
  },
  {
   "metadata": {
    "ExecuteTime": {
     "end_time": "2025-05-11T11:17:10.652176Z",
     "start_time": "2025-05-11T11:17:10.625560Z"
    }
   },
   "cell_type": "code",
   "source": "df.head()",
   "id": "ace30cdf13a69a68",
   "outputs": [
    {
     "data": {
      "text/plain": [
       "           Date first seen   Duration  Proto    Src IP Addr   Src Pt  \\\n",
       "0  2017-03-14 17:43:57.172  81412.697  TCP       EXT_SERVER   8082.0   \n",
       "1  2017-03-14 17:43:57.172  81412.697  TCP    OPENSTACK_NET  56978.0   \n",
       "2  2017-03-14 17:43:26.135  81504.787  TCP       EXT_SERVER   8082.0   \n",
       "3  2017-03-14 17:43:26.135  81504.787  TCP    OPENSTACK_NET  56979.0   \n",
       "4  2017-03-14 18:17:09.005  82100.692  TCP       EXT_SERVER   8082.0   \n",
       "\n",
       "     Dst IP Addr   Dst Pt  Packets       Bytes  Flows  ... src_internal  \\\n",
       "0  OPENSTACK_NET  56978.0   3057.0   2100000.0    1.0  ...            0   \n",
       "1     EXT_SERVER   8082.0   4748.0   2500000.0    1.0  ...            0   \n",
       "2  OPENSTACK_NET  56979.0   8639.0   9100000.0    1.0  ...            0   \n",
       "3     EXT_SERVER   8082.0  12024.0  10300000.0    1.0  ...            0   \n",
       "4  OPENSTACK_NET  51649.0  11012.0  27200000.0    1.0  ...            0   \n",
       "\n",
       "              direction               timestamp  hour  is_night  \\\n",
       "0  external_to_internal 2017-03-14 17:43:57.172  17.0         0   \n",
       "1  external_to_internal 2017-03-14 17:43:57.172  17.0         0   \n",
       "2  external_to_internal 2017-03-14 17:43:26.135  17.0         0   \n",
       "3  external_to_internal 2017-03-14 17:43:26.135  17.0         0   \n",
       "4  external_to_internal 2017-03-14 18:17:09.005  18.0         1   \n",
       "\n",
       "                                           flow_key  flow_count  \\\n",
       "0  ((EXT_SERVER, 8082.0), (OPENSTACK_NET, 56978.0))           4   \n",
       "1  ((EXT_SERVER, 8082.0), (OPENSTACK_NET, 56978.0))           4   \n",
       "2  ((EXT_SERVER, 8082.0), (OPENSTACK_NET, 56979.0))           4   \n",
       "3  ((EXT_SERVER, 8082.0), (OPENSTACK_NET, 56979.0))           4   \n",
       "4  ((EXT_SERVER, 8082.0), (OPENSTACK_NET, 51649.0))           4   \n",
       "\n",
       "   bidirectional  mixed_protocol  small_packet_alert  \n",
       "0              1               0                   0  \n",
       "1              1               0                   0  \n",
       "2              1               0                   0  \n",
       "3              1               0                   0  \n",
       "4              1               0                   0  \n",
       "\n",
       "[5 rows x 34 columns]"
      ],
      "text/html": [
       "<div>\n",
       "<style scoped>\n",
       "    .dataframe tbody tr th:only-of-type {\n",
       "        vertical-align: middle;\n",
       "    }\n",
       "\n",
       "    .dataframe tbody tr th {\n",
       "        vertical-align: top;\n",
       "    }\n",
       "\n",
       "    .dataframe thead th {\n",
       "        text-align: right;\n",
       "    }\n",
       "</style>\n",
       "<table border=\"1\" class=\"dataframe\">\n",
       "  <thead>\n",
       "    <tr style=\"text-align: right;\">\n",
       "      <th></th>\n",
       "      <th>Date first seen</th>\n",
       "      <th>Duration</th>\n",
       "      <th>Proto</th>\n",
       "      <th>Src IP Addr</th>\n",
       "      <th>Src Pt</th>\n",
       "      <th>Dst IP Addr</th>\n",
       "      <th>Dst Pt</th>\n",
       "      <th>Packets</th>\n",
       "      <th>Bytes</th>\n",
       "      <th>Flows</th>\n",
       "      <th>...</th>\n",
       "      <th>src_internal</th>\n",
       "      <th>direction</th>\n",
       "      <th>timestamp</th>\n",
       "      <th>hour</th>\n",
       "      <th>is_night</th>\n",
       "      <th>flow_key</th>\n",
       "      <th>flow_count</th>\n",
       "      <th>bidirectional</th>\n",
       "      <th>mixed_protocol</th>\n",
       "      <th>small_packet_alert</th>\n",
       "    </tr>\n",
       "  </thead>\n",
       "  <tbody>\n",
       "    <tr>\n",
       "      <th>0</th>\n",
       "      <td>2017-03-14 17:43:57.172</td>\n",
       "      <td>81412.697</td>\n",
       "      <td>TCP</td>\n",
       "      <td>EXT_SERVER</td>\n",
       "      <td>8082.0</td>\n",
       "      <td>OPENSTACK_NET</td>\n",
       "      <td>56978.0</td>\n",
       "      <td>3057.0</td>\n",
       "      <td>2100000.0</td>\n",
       "      <td>1.0</td>\n",
       "      <td>...</td>\n",
       "      <td>0</td>\n",
       "      <td>external_to_internal</td>\n",
       "      <td>2017-03-14 17:43:57.172</td>\n",
       "      <td>17.0</td>\n",
       "      <td>0</td>\n",
       "      <td>((EXT_SERVER, 8082.0), (OPENSTACK_NET, 56978.0))</td>\n",
       "      <td>4</td>\n",
       "      <td>1</td>\n",
       "      <td>0</td>\n",
       "      <td>0</td>\n",
       "    </tr>\n",
       "    <tr>\n",
       "      <th>1</th>\n",
       "      <td>2017-03-14 17:43:57.172</td>\n",
       "      <td>81412.697</td>\n",
       "      <td>TCP</td>\n",
       "      <td>OPENSTACK_NET</td>\n",
       "      <td>56978.0</td>\n",
       "      <td>EXT_SERVER</td>\n",
       "      <td>8082.0</td>\n",
       "      <td>4748.0</td>\n",
       "      <td>2500000.0</td>\n",
       "      <td>1.0</td>\n",
       "      <td>...</td>\n",
       "      <td>0</td>\n",
       "      <td>external_to_internal</td>\n",
       "      <td>2017-03-14 17:43:57.172</td>\n",
       "      <td>17.0</td>\n",
       "      <td>0</td>\n",
       "      <td>((EXT_SERVER, 8082.0), (OPENSTACK_NET, 56978.0))</td>\n",
       "      <td>4</td>\n",
       "      <td>1</td>\n",
       "      <td>0</td>\n",
       "      <td>0</td>\n",
       "    </tr>\n",
       "    <tr>\n",
       "      <th>2</th>\n",
       "      <td>2017-03-14 17:43:26.135</td>\n",
       "      <td>81504.787</td>\n",
       "      <td>TCP</td>\n",
       "      <td>EXT_SERVER</td>\n",
       "      <td>8082.0</td>\n",
       "      <td>OPENSTACK_NET</td>\n",
       "      <td>56979.0</td>\n",
       "      <td>8639.0</td>\n",
       "      <td>9100000.0</td>\n",
       "      <td>1.0</td>\n",
       "      <td>...</td>\n",
       "      <td>0</td>\n",
       "      <td>external_to_internal</td>\n",
       "      <td>2017-03-14 17:43:26.135</td>\n",
       "      <td>17.0</td>\n",
       "      <td>0</td>\n",
       "      <td>((EXT_SERVER, 8082.0), (OPENSTACK_NET, 56979.0))</td>\n",
       "      <td>4</td>\n",
       "      <td>1</td>\n",
       "      <td>0</td>\n",
       "      <td>0</td>\n",
       "    </tr>\n",
       "    <tr>\n",
       "      <th>3</th>\n",
       "      <td>2017-03-14 17:43:26.135</td>\n",
       "      <td>81504.787</td>\n",
       "      <td>TCP</td>\n",
       "      <td>OPENSTACK_NET</td>\n",
       "      <td>56979.0</td>\n",
       "      <td>EXT_SERVER</td>\n",
       "      <td>8082.0</td>\n",
       "      <td>12024.0</td>\n",
       "      <td>10300000.0</td>\n",
       "      <td>1.0</td>\n",
       "      <td>...</td>\n",
       "      <td>0</td>\n",
       "      <td>external_to_internal</td>\n",
       "      <td>2017-03-14 17:43:26.135</td>\n",
       "      <td>17.0</td>\n",
       "      <td>0</td>\n",
       "      <td>((EXT_SERVER, 8082.0), (OPENSTACK_NET, 56979.0))</td>\n",
       "      <td>4</td>\n",
       "      <td>1</td>\n",
       "      <td>0</td>\n",
       "      <td>0</td>\n",
       "    </tr>\n",
       "    <tr>\n",
       "      <th>4</th>\n",
       "      <td>2017-03-14 18:17:09.005</td>\n",
       "      <td>82100.692</td>\n",
       "      <td>TCP</td>\n",
       "      <td>EXT_SERVER</td>\n",
       "      <td>8082.0</td>\n",
       "      <td>OPENSTACK_NET</td>\n",
       "      <td>51649.0</td>\n",
       "      <td>11012.0</td>\n",
       "      <td>27200000.0</td>\n",
       "      <td>1.0</td>\n",
       "      <td>...</td>\n",
       "      <td>0</td>\n",
       "      <td>external_to_internal</td>\n",
       "      <td>2017-03-14 18:17:09.005</td>\n",
       "      <td>18.0</td>\n",
       "      <td>1</td>\n",
       "      <td>((EXT_SERVER, 8082.0), (OPENSTACK_NET, 51649.0))</td>\n",
       "      <td>4</td>\n",
       "      <td>1</td>\n",
       "      <td>0</td>\n",
       "      <td>0</td>\n",
       "    </tr>\n",
       "  </tbody>\n",
       "</table>\n",
       "<p>5 rows × 34 columns</p>\n",
       "</div>"
      ]
     },
     "execution_count": 56,
     "metadata": {},
     "output_type": "execute_result"
    }
   ],
   "execution_count": 56
  },
  {
   "metadata": {
    "ExecuteTime": {
     "end_time": "2025-05-11T11:17:10.747757Z",
     "start_time": "2025-05-11T11:17:10.742901Z"
    }
   },
   "cell_type": "code",
   "source": [
    "# Final Feature Selection\n",
    "feature_columns = [\n",
    "    'Proto', 'dst_port_risk', 'flag_SYN', 'flag_ACK', 'flag_RST',\n",
    "    'bytes_per_packet', 'duration_category', 'src_internal', 'direction',\n",
    "    'hour', 'is_night', 'bidirectional', 'mixed_protocol', 'small_packet_alert',\n",
    "    'Packets', 'Bytes', 'Flows', 'packet_class'\n",
    "]"
   ],
   "id": "e4600c00de9f18eb",
   "outputs": [],
   "execution_count": 57
  },
  {
   "metadata": {
    "ExecuteTime": {
     "end_time": "2025-05-11T11:17:10.827143Z",
     "start_time": "2025-05-11T11:17:10.822800Z"
    }
   },
   "cell_type": "code",
   "source": "target_columns = ['class']",
   "id": "2857b95896cba25f",
   "outputs": [],
   "execution_count": 58
  },
  {
   "metadata": {
    "ExecuteTime": {
     "end_time": "2025-05-11T11:17:11.124093Z",
     "start_time": "2025-05-11T11:17:11.104797Z"
    }
   },
   "cell_type": "code",
   "source": [
    "\n",
    "feature_df = df[feature_columns + ['class']]"
   ],
   "id": "78d977956123ab25",
   "outputs": [],
   "execution_count": 59
  },
  {
   "metadata": {
    "ExecuteTime": {
     "end_time": "2025-05-11T11:17:11.266285Z",
     "start_time": "2025-05-11T11:17:11.236336Z"
    }
   },
   "cell_type": "code",
   "source": "feature_df.head()",
   "id": "c1241bcf3535a6b4",
   "outputs": [
    {
     "data": {
      "text/plain": [
       "   Proto dst_port_risk  flag_SYN  flag_ACK  flag_RST  bytes_per_packet  \\\n",
       "0  TCP             low       0.0       1.0       0.0        686.947988   \n",
       "1  TCP             low       0.0       1.0       0.0        526.537489   \n",
       "2  TCP             low       0.0       1.0       0.0       1053.362658   \n",
       "3  TCP             low       0.0       1.0       0.0        856.620093   \n",
       "4  TCP             low       1.0       1.0       0.0       2470.032692   \n",
       "\n",
       "  duration_category  src_internal             direction  hour  is_night  \\\n",
       "0              long             0  external_to_internal  17.0         0   \n",
       "1              long             0  external_to_internal  17.0         0   \n",
       "2              long             0  external_to_internal  17.0         0   \n",
       "3              long             0  external_to_internal  17.0         0   \n",
       "4              long             0  external_to_internal  18.0         1   \n",
       "\n",
       "   bidirectional  mixed_protocol  small_packet_alert  Packets       Bytes  \\\n",
       "0              1               0                   0   3057.0   2100000.0   \n",
       "1              1               0                   0   4748.0   2500000.0   \n",
       "2              1               0                   0   8639.0   9100000.0   \n",
       "3              1               0                   0  12024.0  10300000.0   \n",
       "4              1               0                   0  11012.0  27200000.0   \n",
       "\n",
       "   Flows packet_class   class  \n",
       "0    1.0       normal  normal  \n",
       "1    1.0       normal  normal  \n",
       "2    1.0       normal  normal  \n",
       "3    1.0       normal  normal  \n",
       "4    1.0       normal  normal  "
      ],
      "text/html": [
       "<div>\n",
       "<style scoped>\n",
       "    .dataframe tbody tr th:only-of-type {\n",
       "        vertical-align: middle;\n",
       "    }\n",
       "\n",
       "    .dataframe tbody tr th {\n",
       "        vertical-align: top;\n",
       "    }\n",
       "\n",
       "    .dataframe thead th {\n",
       "        text-align: right;\n",
       "    }\n",
       "</style>\n",
       "<table border=\"1\" class=\"dataframe\">\n",
       "  <thead>\n",
       "    <tr style=\"text-align: right;\">\n",
       "      <th></th>\n",
       "      <th>Proto</th>\n",
       "      <th>dst_port_risk</th>\n",
       "      <th>flag_SYN</th>\n",
       "      <th>flag_ACK</th>\n",
       "      <th>flag_RST</th>\n",
       "      <th>bytes_per_packet</th>\n",
       "      <th>duration_category</th>\n",
       "      <th>src_internal</th>\n",
       "      <th>direction</th>\n",
       "      <th>hour</th>\n",
       "      <th>is_night</th>\n",
       "      <th>bidirectional</th>\n",
       "      <th>mixed_protocol</th>\n",
       "      <th>small_packet_alert</th>\n",
       "      <th>Packets</th>\n",
       "      <th>Bytes</th>\n",
       "      <th>Flows</th>\n",
       "      <th>packet_class</th>\n",
       "      <th>class</th>\n",
       "    </tr>\n",
       "  </thead>\n",
       "  <tbody>\n",
       "    <tr>\n",
       "      <th>0</th>\n",
       "      <td>TCP</td>\n",
       "      <td>low</td>\n",
       "      <td>0.0</td>\n",
       "      <td>1.0</td>\n",
       "      <td>0.0</td>\n",
       "      <td>686.947988</td>\n",
       "      <td>long</td>\n",
       "      <td>0</td>\n",
       "      <td>external_to_internal</td>\n",
       "      <td>17.0</td>\n",
       "      <td>0</td>\n",
       "      <td>1</td>\n",
       "      <td>0</td>\n",
       "      <td>0</td>\n",
       "      <td>3057.0</td>\n",
       "      <td>2100000.0</td>\n",
       "      <td>1.0</td>\n",
       "      <td>normal</td>\n",
       "      <td>normal</td>\n",
       "    </tr>\n",
       "    <tr>\n",
       "      <th>1</th>\n",
       "      <td>TCP</td>\n",
       "      <td>low</td>\n",
       "      <td>0.0</td>\n",
       "      <td>1.0</td>\n",
       "      <td>0.0</td>\n",
       "      <td>526.537489</td>\n",
       "      <td>long</td>\n",
       "      <td>0</td>\n",
       "      <td>external_to_internal</td>\n",
       "      <td>17.0</td>\n",
       "      <td>0</td>\n",
       "      <td>1</td>\n",
       "      <td>0</td>\n",
       "      <td>0</td>\n",
       "      <td>4748.0</td>\n",
       "      <td>2500000.0</td>\n",
       "      <td>1.0</td>\n",
       "      <td>normal</td>\n",
       "      <td>normal</td>\n",
       "    </tr>\n",
       "    <tr>\n",
       "      <th>2</th>\n",
       "      <td>TCP</td>\n",
       "      <td>low</td>\n",
       "      <td>0.0</td>\n",
       "      <td>1.0</td>\n",
       "      <td>0.0</td>\n",
       "      <td>1053.362658</td>\n",
       "      <td>long</td>\n",
       "      <td>0</td>\n",
       "      <td>external_to_internal</td>\n",
       "      <td>17.0</td>\n",
       "      <td>0</td>\n",
       "      <td>1</td>\n",
       "      <td>0</td>\n",
       "      <td>0</td>\n",
       "      <td>8639.0</td>\n",
       "      <td>9100000.0</td>\n",
       "      <td>1.0</td>\n",
       "      <td>normal</td>\n",
       "      <td>normal</td>\n",
       "    </tr>\n",
       "    <tr>\n",
       "      <th>3</th>\n",
       "      <td>TCP</td>\n",
       "      <td>low</td>\n",
       "      <td>0.0</td>\n",
       "      <td>1.0</td>\n",
       "      <td>0.0</td>\n",
       "      <td>856.620093</td>\n",
       "      <td>long</td>\n",
       "      <td>0</td>\n",
       "      <td>external_to_internal</td>\n",
       "      <td>17.0</td>\n",
       "      <td>0</td>\n",
       "      <td>1</td>\n",
       "      <td>0</td>\n",
       "      <td>0</td>\n",
       "      <td>12024.0</td>\n",
       "      <td>10300000.0</td>\n",
       "      <td>1.0</td>\n",
       "      <td>normal</td>\n",
       "      <td>normal</td>\n",
       "    </tr>\n",
       "    <tr>\n",
       "      <th>4</th>\n",
       "      <td>TCP</td>\n",
       "      <td>low</td>\n",
       "      <td>1.0</td>\n",
       "      <td>1.0</td>\n",
       "      <td>0.0</td>\n",
       "      <td>2470.032692</td>\n",
       "      <td>long</td>\n",
       "      <td>0</td>\n",
       "      <td>external_to_internal</td>\n",
       "      <td>18.0</td>\n",
       "      <td>1</td>\n",
       "      <td>1</td>\n",
       "      <td>0</td>\n",
       "      <td>0</td>\n",
       "      <td>11012.0</td>\n",
       "      <td>27200000.0</td>\n",
       "      <td>1.0</td>\n",
       "      <td>normal</td>\n",
       "      <td>normal</td>\n",
       "    </tr>\n",
       "  </tbody>\n",
       "</table>\n",
       "</div>"
      ]
     },
     "execution_count": 60,
     "metadata": {},
     "output_type": "execute_result"
    }
   ],
   "execution_count": 60
  },
  {
   "metadata": {
    "ExecuteTime": {
     "end_time": "2025-05-11T11:17:12.725740Z",
     "start_time": "2025-05-11T11:17:11.388403Z"
    }
   },
   "cell_type": "code",
   "source": "feature_df.to_csv('../data/CIDDS-001-feature_engineered.csv', index=False)",
   "id": "10a6516ab02fa5f3",
   "outputs": [],
   "execution_count": 61
  },
  {
   "metadata": {
    "ExecuteTime": {
     "end_time": "2025-05-11T11:17:12.820314Z",
     "start_time": "2025-05-11T11:17:12.791387Z"
    }
   },
   "cell_type": "code",
   "source": "feature_df.info()",
   "id": "5d829fe5eb2c1ed3",
   "outputs": [
    {
     "name": "stdout",
     "output_type": "stream",
     "text": [
      "<class 'pandas.core.frame.DataFrame'>\n",
      "RangeIndex: 172202 entries, 0 to 172201\n",
      "Data columns (total 19 columns):\n",
      " #   Column              Non-Null Count   Dtype   \n",
      "---  ------              --------------   -----   \n",
      " 0   Proto               156950 non-null  object  \n",
      " 1   dst_port_risk       156950 non-null  category\n",
      " 2   flag_SYN            170806 non-null  float64 \n",
      " 3   flag_ACK            170637 non-null  float64 \n",
      " 4   flag_RST            159924 non-null  float64 \n",
      " 5   bytes_per_packet    156950 non-null  float64 \n",
      " 6   duration_category   156950 non-null  category\n",
      " 7   src_internal        172202 non-null  int64   \n",
      " 8   direction           172202 non-null  object  \n",
      " 9   hour                156950 non-null  float64 \n",
      " 10  is_night            172202 non-null  int64   \n",
      " 11  bidirectional       172202 non-null  int64   \n",
      " 12  mixed_protocol      172202 non-null  int64   \n",
      " 13  small_packet_alert  172202 non-null  int64   \n",
      " 14  Packets             156950 non-null  float64 \n",
      " 15  Bytes               156950 non-null  float64 \n",
      " 16  Flows               156950 non-null  float64 \n",
      " 17  packet_class        156950 non-null  category\n",
      " 18  class               156950 non-null  category\n",
      "dtypes: category(4), float64(8), int64(5), object(2)\n",
      "memory usage: 20.4+ MB\n"
     ]
    }
   ],
   "execution_count": 62
  },
  {
   "metadata": {
    "ExecuteTime": {
     "end_time": "2025-05-11T11:17:12.972851Z",
     "start_time": "2025-05-11T11:17:12.949613Z"
    }
   },
   "cell_type": "code",
   "source": [
    "X = feature_df.drop('class', axis=1)\n",
    "y = feature_df['class']"
   ],
   "id": "4c99deb0d6b6286d",
   "outputs": [],
   "execution_count": 63
  },
  {
   "metadata": {
    "ExecuteTime": {
     "end_time": "2025-05-11T11:17:13.102699Z",
     "start_time": "2025-05-11T11:17:13.070395Z"
    }
   },
   "cell_type": "code",
   "source": [
    "# Encode target variable\n",
    "le = LabelEncoder()\n",
    "y_encoded = le.fit_transform(y)"
   ],
   "id": "3acae1bab28ae141",
   "outputs": [],
   "execution_count": 64
  },
  {
   "metadata": {
    "ExecuteTime": {
     "end_time": "2025-05-11T11:17:13.248671Z",
     "start_time": "2025-05-11T11:17:13.241936Z"
    }
   },
   "cell_type": "code",
   "source": [
    "# Define categorical and numerical features\n",
    "categorical_features = ['Proto', 'dst_port_risk', 'duration_category', 'direction', 'packet_class']\n",
    "numerical_features = ['bytes_per_packet', 'Packets', 'Bytes', 'Flows',\n",
    "                      'flag_SYN', 'flag_ACK', 'flag_RST',\n",
    "                      'src_internal', 'hour', 'is_night',\n",
    "                      'bidirectional', 'mixed_protocol', 'small_packet_alert']"
   ],
   "id": "46a665b3157eb32e",
   "outputs": [],
   "execution_count": 65
  },
  {
   "metadata": {
    "ExecuteTime": {
     "end_time": "2025-05-11T11:17:13.362794Z",
     "start_time": "2025-05-11T11:17:13.356846Z"
    }
   },
   "cell_type": "code",
   "source": [
    "# Update numerical transformer to include imputation\n",
    "numerical_transformer = Pipeline([\n",
    "    ('imputer', SimpleImputer(strategy='mean')),\n",
    "    ('scaler', StandardScaler())\n",
    "])"
   ],
   "id": "e8682349883b02f2",
   "outputs": [],
   "execution_count": 66
  },
  {
   "metadata": {
    "ExecuteTime": {
     "end_time": "2025-05-11T11:17:13.475049Z",
     "start_time": "2025-05-11T11:17:13.466834Z"
    }
   },
   "cell_type": "code",
   "source": [
    "# Create preprocessing pipeline\n",
    "preprocessor = ColumnTransformer(\n",
    "    transformers=[\n",
    "        ('cat', OneHotEncoder(handle_unknown='ignore'), categorical_features),\n",
    "        ('num',numerical_transformer, numerical_features)\n",
    "    ])"
   ],
   "id": "af91b04f7db2cc78",
   "outputs": [],
   "execution_count": 67
  },
  {
   "metadata": {
    "ExecuteTime": {
     "end_time": "2025-05-11T11:17:13.536536Z",
     "start_time": "2025-05-11T11:17:13.529851Z"
    }
   },
   "cell_type": "code",
   "source": [
    "# Create full pipeline with logistic regression\n",
    "pipeline = Pipeline([\n",
    "    ('preprocessor', preprocessor),\n",
    "    ('classifier', LogisticRegression(\n",
    "        solver='saga',\n",
    "        max_iter=1000,\n",
    "        class_weight='balanced',\n",
    "        random_state=42\n",
    "    ))\n",
    "])"
   ],
   "id": "ca9698160d034a51",
   "outputs": [],
   "execution_count": 68
  },
  {
   "metadata": {
    "ExecuteTime": {
     "end_time": "2025-05-11T11:23:15.798840Z",
     "start_time": "2025-05-11T11:23:15.789234Z"
    }
   },
   "cell_type": "code",
   "source": [
    "from scipy.stats import loguniform\n",
    "\n",
    "# Define hyperparameter grid\n",
    "param_dist = {\n",
    "    'classifier__C': loguniform(1e-3, 1e3),  # Log-uniform distribution\n",
    "    'classifier__penalty': ['l1', 'l2'],\n",
    "    'classifier__fit_intercept': [True, False],\n",
    "    'classifier__l1_ratio': [None, 0.3, 0.5, 0.7]\n",
    "}"
   ],
   "id": "35baa474f2c303c7",
   "outputs": [],
   "execution_count": 78
  },
  {
   "metadata": {
    "ExecuteTime": {
     "end_time": "2025-05-11T11:23:17.239990Z",
     "start_time": "2025-05-11T11:23:17.232165Z"
    }
   },
   "cell_type": "code",
   "source": [
    "# Set up stratified k-fold cross-validation\n",
    "cv = StratifiedKFold(n_splits=3, shuffle=True, random_state=42)"
   ],
   "id": "215d344cdb03bce7",
   "outputs": [],
   "execution_count": 79
  },
  {
   "metadata": {
    "ExecuteTime": {
     "end_time": "2025-05-11T11:24:42.831543Z",
     "start_time": "2025-05-11T11:24:42.821431Z"
    }
   },
   "cell_type": "code",
   "source": [
    "from sklearn.model_selection import RandomizedSearchCV\n",
    "\n",
    "# Create RandomizedSearchCV object\n",
    "random_search = RandomizedSearchCV(\n",
    "    estimator=pipeline,\n",
    "    param_distributions=param_dist,\n",
    "    n_iter=20,  # Number of parameter combinations to try\n",
    "    cv=cv,\n",
    "    scoring='f1_weighted',\n",
    "    n_jobs=-1,\n",
    "    random_state=42,\n",
    "    verbose=2\n",
    ")"
   ],
   "id": "7244bb17ece890b9",
   "outputs": [],
   "execution_count": 83
  },
  {
   "metadata": {
    "ExecuteTime": {
     "end_time": "2025-05-11T11:24:43.776542Z",
     "start_time": "2025-05-11T11:24:43.694078Z"
    }
   },
   "cell_type": "code",
   "source": [
    "# Split data\n",
    "X_train, X_test, y_train, y_test = train_test_split(\n",
    "    X, y_encoded, test_size=0.2, random_state=42, stratify=y_encoded\n",
    ")"
   ],
   "id": "b312c4822c4a9cb5",
   "outputs": [],
   "execution_count": 84
  },
  {
   "metadata": {
    "ExecuteTime": {
     "end_time": "2025-05-11T11:52:18.052955Z",
     "start_time": "2025-05-11T11:24:45.050056Z"
    }
   },
   "cell_type": "code",
   "source": [
    "# Perform random search\n",
    "print(\"Starting randomized search...\")\n",
    "random_search.fit(X_train, y_train)\n",
    "print(\"Randomized search complete!\")"
   ],
   "id": "8bb26441dd749250",
   "outputs": [
    {
     "name": "stdout",
     "output_type": "stream",
     "text": [
      "Starting randomized search...\n",
      "Fitting 3 folds for each of 20 candidates, totalling 60 fits\n"
     ]
    },
    {
     "name": "stderr",
     "output_type": "stream",
     "text": [
      "C:\\Users\\HP\\PyCharmMiscProject\\.venv\\Lib\\site-packages\\sklearn\\linear_model\\_logistic.py:1196: UserWarning: l1_ratio parameter is only used when penalty is 'elasticnet'. Got (penalty=l2)\n",
      "  warnings.warn(\n"
     ]
    },
    {
     "name": "stdout",
     "output_type": "stream",
     "text": [
      "Randomized search complete!\n"
     ]
    }
   ],
   "execution_count": 85
  },
  {
   "metadata": {
    "ExecuteTime": {
     "end_time": "2025-05-11T11:21:29.418850Z",
     "start_time": "2025-05-11T11:17:14.075104Z"
    }
   },
   "cell_type": "code",
   "source": [
    "# Train model\n",
    "pipeline.fit(X_train, y_train)"
   ],
   "id": "c7b6be5be8c7c470",
   "outputs": [
    {
     "name": "stderr",
     "output_type": "stream",
     "text": [
      "C:\\Users\\HP\\PyCharmMiscProject\\.venv\\Lib\\site-packages\\sklearn\\linear_model\\_sag.py:348: ConvergenceWarning: The max_iter was reached which means the coef_ did not converge\n",
      "  warnings.warn(\n"
     ]
    },
    {
     "data": {
      "text/plain": [
       "Pipeline(steps=[('preprocessor',\n",
       "                 ColumnTransformer(transformers=[('cat',\n",
       "                                                  OneHotEncoder(handle_unknown='ignore'),\n",
       "                                                  ['Proto', 'dst_port_risk',\n",
       "                                                   'duration_category',\n",
       "                                                   'direction',\n",
       "                                                   'packet_class']),\n",
       "                                                 ('num',\n",
       "                                                  Pipeline(steps=[('imputer',\n",
       "                                                                   SimpleImputer()),\n",
       "                                                                  ('scaler',\n",
       "                                                                   StandardScaler())]),\n",
       "                                                  ['bytes_per_packet',\n",
       "                                                   'Packets', 'Bytes', 'Flows',\n",
       "                                                   'flag_SYN', 'flag_ACK',\n",
       "                                                   'flag_RST', 'src_internal',\n",
       "                                                   'hour', 'is_night',\n",
       "                                                   'bidirectional',\n",
       "                                                   'mixed_protocol',\n",
       "                                                   'small_packet_alert'])])),\n",
       "                ('classifier',\n",
       "                 LogisticRegression(class_weight='balanced', max_iter=1000,\n",
       "                                    random_state=42, solver='saga'))])"
      ],
      "text/html": [
       "<style>#sk-container-id-1 {\n",
       "  /* Definition of color scheme common for light and dark mode */\n",
       "  --sklearn-color-text: #000;\n",
       "  --sklearn-color-text-muted: #666;\n",
       "  --sklearn-color-line: gray;\n",
       "  /* Definition of color scheme for unfitted estimators */\n",
       "  --sklearn-color-unfitted-level-0: #fff5e6;\n",
       "  --sklearn-color-unfitted-level-1: #f6e4d2;\n",
       "  --sklearn-color-unfitted-level-2: #ffe0b3;\n",
       "  --sklearn-color-unfitted-level-3: chocolate;\n",
       "  /* Definition of color scheme for fitted estimators */\n",
       "  --sklearn-color-fitted-level-0: #f0f8ff;\n",
       "  --sklearn-color-fitted-level-1: #d4ebff;\n",
       "  --sklearn-color-fitted-level-2: #b3dbfd;\n",
       "  --sklearn-color-fitted-level-3: cornflowerblue;\n",
       "\n",
       "  /* Specific color for light theme */\n",
       "  --sklearn-color-text-on-default-background: var(--sg-text-color, var(--theme-code-foreground, var(--jp-content-font-color1, black)));\n",
       "  --sklearn-color-background: var(--sg-background-color, var(--theme-background, var(--jp-layout-color0, white)));\n",
       "  --sklearn-color-border-box: var(--sg-text-color, var(--theme-code-foreground, var(--jp-content-font-color1, black)));\n",
       "  --sklearn-color-icon: #696969;\n",
       "\n",
       "  @media (prefers-color-scheme: dark) {\n",
       "    /* Redefinition of color scheme for dark theme */\n",
       "    --sklearn-color-text-on-default-background: var(--sg-text-color, var(--theme-code-foreground, var(--jp-content-font-color1, white)));\n",
       "    --sklearn-color-background: var(--sg-background-color, var(--theme-background, var(--jp-layout-color0, #111)));\n",
       "    --sklearn-color-border-box: var(--sg-text-color, var(--theme-code-foreground, var(--jp-content-font-color1, white)));\n",
       "    --sklearn-color-icon: #878787;\n",
       "  }\n",
       "}\n",
       "\n",
       "#sk-container-id-1 {\n",
       "  color: var(--sklearn-color-text);\n",
       "}\n",
       "\n",
       "#sk-container-id-1 pre {\n",
       "  padding: 0;\n",
       "}\n",
       "\n",
       "#sk-container-id-1 input.sk-hidden--visually {\n",
       "  border: 0;\n",
       "  clip: rect(1px 1px 1px 1px);\n",
       "  clip: rect(1px, 1px, 1px, 1px);\n",
       "  height: 1px;\n",
       "  margin: -1px;\n",
       "  overflow: hidden;\n",
       "  padding: 0;\n",
       "  position: absolute;\n",
       "  width: 1px;\n",
       "}\n",
       "\n",
       "#sk-container-id-1 div.sk-dashed-wrapped {\n",
       "  border: 1px dashed var(--sklearn-color-line);\n",
       "  margin: 0 0.4em 0.5em 0.4em;\n",
       "  box-sizing: border-box;\n",
       "  padding-bottom: 0.4em;\n",
       "  background-color: var(--sklearn-color-background);\n",
       "}\n",
       "\n",
       "#sk-container-id-1 div.sk-container {\n",
       "  /* jupyter's `normalize.less` sets `[hidden] { display: none; }`\n",
       "     but bootstrap.min.css set `[hidden] { display: none !important; }`\n",
       "     so we also need the `!important` here to be able to override the\n",
       "     default hidden behavior on the sphinx rendered scikit-learn.org.\n",
       "     See: https://github.com/scikit-learn/scikit-learn/issues/21755 */\n",
       "  display: inline-block !important;\n",
       "  position: relative;\n",
       "}\n",
       "\n",
       "#sk-container-id-1 div.sk-text-repr-fallback {\n",
       "  display: none;\n",
       "}\n",
       "\n",
       "div.sk-parallel-item,\n",
       "div.sk-serial,\n",
       "div.sk-item {\n",
       "  /* draw centered vertical line to link estimators */\n",
       "  background-image: linear-gradient(var(--sklearn-color-text-on-default-background), var(--sklearn-color-text-on-default-background));\n",
       "  background-size: 2px 100%;\n",
       "  background-repeat: no-repeat;\n",
       "  background-position: center center;\n",
       "}\n",
       "\n",
       "/* Parallel-specific style estimator block */\n",
       "\n",
       "#sk-container-id-1 div.sk-parallel-item::after {\n",
       "  content: \"\";\n",
       "  width: 100%;\n",
       "  border-bottom: 2px solid var(--sklearn-color-text-on-default-background);\n",
       "  flex-grow: 1;\n",
       "}\n",
       "\n",
       "#sk-container-id-1 div.sk-parallel {\n",
       "  display: flex;\n",
       "  align-items: stretch;\n",
       "  justify-content: center;\n",
       "  background-color: var(--sklearn-color-background);\n",
       "  position: relative;\n",
       "}\n",
       "\n",
       "#sk-container-id-1 div.sk-parallel-item {\n",
       "  display: flex;\n",
       "  flex-direction: column;\n",
       "}\n",
       "\n",
       "#sk-container-id-1 div.sk-parallel-item:first-child::after {\n",
       "  align-self: flex-end;\n",
       "  width: 50%;\n",
       "}\n",
       "\n",
       "#sk-container-id-1 div.sk-parallel-item:last-child::after {\n",
       "  align-self: flex-start;\n",
       "  width: 50%;\n",
       "}\n",
       "\n",
       "#sk-container-id-1 div.sk-parallel-item:only-child::after {\n",
       "  width: 0;\n",
       "}\n",
       "\n",
       "/* Serial-specific style estimator block */\n",
       "\n",
       "#sk-container-id-1 div.sk-serial {\n",
       "  display: flex;\n",
       "  flex-direction: column;\n",
       "  align-items: center;\n",
       "  background-color: var(--sklearn-color-background);\n",
       "  padding-right: 1em;\n",
       "  padding-left: 1em;\n",
       "}\n",
       "\n",
       "\n",
       "/* Toggleable style: style used for estimator/Pipeline/ColumnTransformer box that is\n",
       "clickable and can be expanded/collapsed.\n",
       "- Pipeline and ColumnTransformer use this feature and define the default style\n",
       "- Estimators will overwrite some part of the style using the `sk-estimator` class\n",
       "*/\n",
       "\n",
       "/* Pipeline and ColumnTransformer style (default) */\n",
       "\n",
       "#sk-container-id-1 div.sk-toggleable {\n",
       "  /* Default theme specific background. It is overwritten whether we have a\n",
       "  specific estimator or a Pipeline/ColumnTransformer */\n",
       "  background-color: var(--sklearn-color-background);\n",
       "}\n",
       "\n",
       "/* Toggleable label */\n",
       "#sk-container-id-1 label.sk-toggleable__label {\n",
       "  cursor: pointer;\n",
       "  display: flex;\n",
       "  width: 100%;\n",
       "  margin-bottom: 0;\n",
       "  padding: 0.5em;\n",
       "  box-sizing: border-box;\n",
       "  text-align: center;\n",
       "  align-items: start;\n",
       "  justify-content: space-between;\n",
       "  gap: 0.5em;\n",
       "}\n",
       "\n",
       "#sk-container-id-1 label.sk-toggleable__label .caption {\n",
       "  font-size: 0.6rem;\n",
       "  font-weight: lighter;\n",
       "  color: var(--sklearn-color-text-muted);\n",
       "}\n",
       "\n",
       "#sk-container-id-1 label.sk-toggleable__label-arrow:before {\n",
       "  /* Arrow on the left of the label */\n",
       "  content: \"▸\";\n",
       "  float: left;\n",
       "  margin-right: 0.25em;\n",
       "  color: var(--sklearn-color-icon);\n",
       "}\n",
       "\n",
       "#sk-container-id-1 label.sk-toggleable__label-arrow:hover:before {\n",
       "  color: var(--sklearn-color-text);\n",
       "}\n",
       "\n",
       "/* Toggleable content - dropdown */\n",
       "\n",
       "#sk-container-id-1 div.sk-toggleable__content {\n",
       "  max-height: 0;\n",
       "  max-width: 0;\n",
       "  overflow: hidden;\n",
       "  text-align: left;\n",
       "  /* unfitted */\n",
       "  background-color: var(--sklearn-color-unfitted-level-0);\n",
       "}\n",
       "\n",
       "#sk-container-id-1 div.sk-toggleable__content.fitted {\n",
       "  /* fitted */\n",
       "  background-color: var(--sklearn-color-fitted-level-0);\n",
       "}\n",
       "\n",
       "#sk-container-id-1 div.sk-toggleable__content pre {\n",
       "  margin: 0.2em;\n",
       "  border-radius: 0.25em;\n",
       "  color: var(--sklearn-color-text);\n",
       "  /* unfitted */\n",
       "  background-color: var(--sklearn-color-unfitted-level-0);\n",
       "}\n",
       "\n",
       "#sk-container-id-1 div.sk-toggleable__content.fitted pre {\n",
       "  /* unfitted */\n",
       "  background-color: var(--sklearn-color-fitted-level-0);\n",
       "}\n",
       "\n",
       "#sk-container-id-1 input.sk-toggleable__control:checked~div.sk-toggleable__content {\n",
       "  /* Expand drop-down */\n",
       "  max-height: 200px;\n",
       "  max-width: 100%;\n",
       "  overflow: auto;\n",
       "}\n",
       "\n",
       "#sk-container-id-1 input.sk-toggleable__control:checked~label.sk-toggleable__label-arrow:before {\n",
       "  content: \"▾\";\n",
       "}\n",
       "\n",
       "/* Pipeline/ColumnTransformer-specific style */\n",
       "\n",
       "#sk-container-id-1 div.sk-label input.sk-toggleable__control:checked~label.sk-toggleable__label {\n",
       "  color: var(--sklearn-color-text);\n",
       "  background-color: var(--sklearn-color-unfitted-level-2);\n",
       "}\n",
       "\n",
       "#sk-container-id-1 div.sk-label.fitted input.sk-toggleable__control:checked~label.sk-toggleable__label {\n",
       "  background-color: var(--sklearn-color-fitted-level-2);\n",
       "}\n",
       "\n",
       "/* Estimator-specific style */\n",
       "\n",
       "/* Colorize estimator box */\n",
       "#sk-container-id-1 div.sk-estimator input.sk-toggleable__control:checked~label.sk-toggleable__label {\n",
       "  /* unfitted */\n",
       "  background-color: var(--sklearn-color-unfitted-level-2);\n",
       "}\n",
       "\n",
       "#sk-container-id-1 div.sk-estimator.fitted input.sk-toggleable__control:checked~label.sk-toggleable__label {\n",
       "  /* fitted */\n",
       "  background-color: var(--sklearn-color-fitted-level-2);\n",
       "}\n",
       "\n",
       "#sk-container-id-1 div.sk-label label.sk-toggleable__label,\n",
       "#sk-container-id-1 div.sk-label label {\n",
       "  /* The background is the default theme color */\n",
       "  color: var(--sklearn-color-text-on-default-background);\n",
       "}\n",
       "\n",
       "/* On hover, darken the color of the background */\n",
       "#sk-container-id-1 div.sk-label:hover label.sk-toggleable__label {\n",
       "  color: var(--sklearn-color-text);\n",
       "  background-color: var(--sklearn-color-unfitted-level-2);\n",
       "}\n",
       "\n",
       "/* Label box, darken color on hover, fitted */\n",
       "#sk-container-id-1 div.sk-label.fitted:hover label.sk-toggleable__label.fitted {\n",
       "  color: var(--sklearn-color-text);\n",
       "  background-color: var(--sklearn-color-fitted-level-2);\n",
       "}\n",
       "\n",
       "/* Estimator label */\n",
       "\n",
       "#sk-container-id-1 div.sk-label label {\n",
       "  font-family: monospace;\n",
       "  font-weight: bold;\n",
       "  display: inline-block;\n",
       "  line-height: 1.2em;\n",
       "}\n",
       "\n",
       "#sk-container-id-1 div.sk-label-container {\n",
       "  text-align: center;\n",
       "}\n",
       "\n",
       "/* Estimator-specific */\n",
       "#sk-container-id-1 div.sk-estimator {\n",
       "  font-family: monospace;\n",
       "  border: 1px dotted var(--sklearn-color-border-box);\n",
       "  border-radius: 0.25em;\n",
       "  box-sizing: border-box;\n",
       "  margin-bottom: 0.5em;\n",
       "  /* unfitted */\n",
       "  background-color: var(--sklearn-color-unfitted-level-0);\n",
       "}\n",
       "\n",
       "#sk-container-id-1 div.sk-estimator.fitted {\n",
       "  /* fitted */\n",
       "  background-color: var(--sklearn-color-fitted-level-0);\n",
       "}\n",
       "\n",
       "/* on hover */\n",
       "#sk-container-id-1 div.sk-estimator:hover {\n",
       "  /* unfitted */\n",
       "  background-color: var(--sklearn-color-unfitted-level-2);\n",
       "}\n",
       "\n",
       "#sk-container-id-1 div.sk-estimator.fitted:hover {\n",
       "  /* fitted */\n",
       "  background-color: var(--sklearn-color-fitted-level-2);\n",
       "}\n",
       "\n",
       "/* Specification for estimator info (e.g. \"i\" and \"?\") */\n",
       "\n",
       "/* Common style for \"i\" and \"?\" */\n",
       "\n",
       ".sk-estimator-doc-link,\n",
       "a:link.sk-estimator-doc-link,\n",
       "a:visited.sk-estimator-doc-link {\n",
       "  float: right;\n",
       "  font-size: smaller;\n",
       "  line-height: 1em;\n",
       "  font-family: monospace;\n",
       "  background-color: var(--sklearn-color-background);\n",
       "  border-radius: 1em;\n",
       "  height: 1em;\n",
       "  width: 1em;\n",
       "  text-decoration: none !important;\n",
       "  margin-left: 0.5em;\n",
       "  text-align: center;\n",
       "  /* unfitted */\n",
       "  border: var(--sklearn-color-unfitted-level-1) 1pt solid;\n",
       "  color: var(--sklearn-color-unfitted-level-1);\n",
       "}\n",
       "\n",
       ".sk-estimator-doc-link.fitted,\n",
       "a:link.sk-estimator-doc-link.fitted,\n",
       "a:visited.sk-estimator-doc-link.fitted {\n",
       "  /* fitted */\n",
       "  border: var(--sklearn-color-fitted-level-1) 1pt solid;\n",
       "  color: var(--sklearn-color-fitted-level-1);\n",
       "}\n",
       "\n",
       "/* On hover */\n",
       "div.sk-estimator:hover .sk-estimator-doc-link:hover,\n",
       ".sk-estimator-doc-link:hover,\n",
       "div.sk-label-container:hover .sk-estimator-doc-link:hover,\n",
       ".sk-estimator-doc-link:hover {\n",
       "  /* unfitted */\n",
       "  background-color: var(--sklearn-color-unfitted-level-3);\n",
       "  color: var(--sklearn-color-background);\n",
       "  text-decoration: none;\n",
       "}\n",
       "\n",
       "div.sk-estimator.fitted:hover .sk-estimator-doc-link.fitted:hover,\n",
       ".sk-estimator-doc-link.fitted:hover,\n",
       "div.sk-label-container:hover .sk-estimator-doc-link.fitted:hover,\n",
       ".sk-estimator-doc-link.fitted:hover {\n",
       "  /* fitted */\n",
       "  background-color: var(--sklearn-color-fitted-level-3);\n",
       "  color: var(--sklearn-color-background);\n",
       "  text-decoration: none;\n",
       "}\n",
       "\n",
       "/* Span, style for the box shown on hovering the info icon */\n",
       ".sk-estimator-doc-link span {\n",
       "  display: none;\n",
       "  z-index: 9999;\n",
       "  position: relative;\n",
       "  font-weight: normal;\n",
       "  right: .2ex;\n",
       "  padding: .5ex;\n",
       "  margin: .5ex;\n",
       "  width: min-content;\n",
       "  min-width: 20ex;\n",
       "  max-width: 50ex;\n",
       "  color: var(--sklearn-color-text);\n",
       "  box-shadow: 2pt 2pt 4pt #999;\n",
       "  /* unfitted */\n",
       "  background: var(--sklearn-color-unfitted-level-0);\n",
       "  border: .5pt solid var(--sklearn-color-unfitted-level-3);\n",
       "}\n",
       "\n",
       ".sk-estimator-doc-link.fitted span {\n",
       "  /* fitted */\n",
       "  background: var(--sklearn-color-fitted-level-0);\n",
       "  border: var(--sklearn-color-fitted-level-3);\n",
       "}\n",
       "\n",
       ".sk-estimator-doc-link:hover span {\n",
       "  display: block;\n",
       "}\n",
       "\n",
       "/* \"?\"-specific style due to the `<a>` HTML tag */\n",
       "\n",
       "#sk-container-id-1 a.estimator_doc_link {\n",
       "  float: right;\n",
       "  font-size: 1rem;\n",
       "  line-height: 1em;\n",
       "  font-family: monospace;\n",
       "  background-color: var(--sklearn-color-background);\n",
       "  border-radius: 1rem;\n",
       "  height: 1rem;\n",
       "  width: 1rem;\n",
       "  text-decoration: none;\n",
       "  /* unfitted */\n",
       "  color: var(--sklearn-color-unfitted-level-1);\n",
       "  border: var(--sklearn-color-unfitted-level-1) 1pt solid;\n",
       "}\n",
       "\n",
       "#sk-container-id-1 a.estimator_doc_link.fitted {\n",
       "  /* fitted */\n",
       "  border: var(--sklearn-color-fitted-level-1) 1pt solid;\n",
       "  color: var(--sklearn-color-fitted-level-1);\n",
       "}\n",
       "\n",
       "/* On hover */\n",
       "#sk-container-id-1 a.estimator_doc_link:hover {\n",
       "  /* unfitted */\n",
       "  background-color: var(--sklearn-color-unfitted-level-3);\n",
       "  color: var(--sklearn-color-background);\n",
       "  text-decoration: none;\n",
       "}\n",
       "\n",
       "#sk-container-id-1 a.estimator_doc_link.fitted:hover {\n",
       "  /* fitted */\n",
       "  background-color: var(--sklearn-color-fitted-level-3);\n",
       "}\n",
       "</style><div id=\"sk-container-id-1\" class=\"sk-top-container\"><div class=\"sk-text-repr-fallback\"><pre>Pipeline(steps=[(&#x27;preprocessor&#x27;,\n",
       "                 ColumnTransformer(transformers=[(&#x27;cat&#x27;,\n",
       "                                                  OneHotEncoder(handle_unknown=&#x27;ignore&#x27;),\n",
       "                                                  [&#x27;Proto&#x27;, &#x27;dst_port_risk&#x27;,\n",
       "                                                   &#x27;duration_category&#x27;,\n",
       "                                                   &#x27;direction&#x27;,\n",
       "                                                   &#x27;packet_class&#x27;]),\n",
       "                                                 (&#x27;num&#x27;,\n",
       "                                                  Pipeline(steps=[(&#x27;imputer&#x27;,\n",
       "                                                                   SimpleImputer()),\n",
       "                                                                  (&#x27;scaler&#x27;,\n",
       "                                                                   StandardScaler())]),\n",
       "                                                  [&#x27;bytes_per_packet&#x27;,\n",
       "                                                   &#x27;Packets&#x27;, &#x27;Bytes&#x27;, &#x27;Flows&#x27;,\n",
       "                                                   &#x27;flag_SYN&#x27;, &#x27;flag_ACK&#x27;,\n",
       "                                                   &#x27;flag_RST&#x27;, &#x27;src_internal&#x27;,\n",
       "                                                   &#x27;hour&#x27;, &#x27;is_night&#x27;,\n",
       "                                                   &#x27;bidirectional&#x27;,\n",
       "                                                   &#x27;mixed_protocol&#x27;,\n",
       "                                                   &#x27;small_packet_alert&#x27;])])),\n",
       "                (&#x27;classifier&#x27;,\n",
       "                 LogisticRegression(class_weight=&#x27;balanced&#x27;, max_iter=1000,\n",
       "                                    random_state=42, solver=&#x27;saga&#x27;))])</pre><b>In a Jupyter environment, please rerun this cell to show the HTML representation or trust the notebook. <br />On GitHub, the HTML representation is unable to render, please try loading this page with nbviewer.org.</b></div><div class=\"sk-container\" hidden><div class=\"sk-item sk-dashed-wrapped\"><div class=\"sk-label-container\"><div class=\"sk-label fitted sk-toggleable\"><input class=\"sk-toggleable__control sk-hidden--visually\" id=\"sk-estimator-id-1\" type=\"checkbox\" ><label for=\"sk-estimator-id-1\" class=\"sk-toggleable__label fitted sk-toggleable__label-arrow\"><div><div>Pipeline</div></div><div><a class=\"sk-estimator-doc-link fitted\" rel=\"noreferrer\" target=\"_blank\" href=\"https://scikit-learn.org/1.6/modules/generated/sklearn.pipeline.Pipeline.html\">?<span>Documentation for Pipeline</span></a><span class=\"sk-estimator-doc-link fitted\">i<span>Fitted</span></span></div></label><div class=\"sk-toggleable__content fitted\"><pre>Pipeline(steps=[(&#x27;preprocessor&#x27;,\n",
       "                 ColumnTransformer(transformers=[(&#x27;cat&#x27;,\n",
       "                                                  OneHotEncoder(handle_unknown=&#x27;ignore&#x27;),\n",
       "                                                  [&#x27;Proto&#x27;, &#x27;dst_port_risk&#x27;,\n",
       "                                                   &#x27;duration_category&#x27;,\n",
       "                                                   &#x27;direction&#x27;,\n",
       "                                                   &#x27;packet_class&#x27;]),\n",
       "                                                 (&#x27;num&#x27;,\n",
       "                                                  Pipeline(steps=[(&#x27;imputer&#x27;,\n",
       "                                                                   SimpleImputer()),\n",
       "                                                                  (&#x27;scaler&#x27;,\n",
       "                                                                   StandardScaler())]),\n",
       "                                                  [&#x27;bytes_per_packet&#x27;,\n",
       "                                                   &#x27;Packets&#x27;, &#x27;Bytes&#x27;, &#x27;Flows&#x27;,\n",
       "                                                   &#x27;flag_SYN&#x27;, &#x27;flag_ACK&#x27;,\n",
       "                                                   &#x27;flag_RST&#x27;, &#x27;src_internal&#x27;,\n",
       "                                                   &#x27;hour&#x27;, &#x27;is_night&#x27;,\n",
       "                                                   &#x27;bidirectional&#x27;,\n",
       "                                                   &#x27;mixed_protocol&#x27;,\n",
       "                                                   &#x27;small_packet_alert&#x27;])])),\n",
       "                (&#x27;classifier&#x27;,\n",
       "                 LogisticRegression(class_weight=&#x27;balanced&#x27;, max_iter=1000,\n",
       "                                    random_state=42, solver=&#x27;saga&#x27;))])</pre></div> </div></div><div class=\"sk-serial\"><div class=\"sk-item sk-dashed-wrapped\"><div class=\"sk-label-container\"><div class=\"sk-label fitted sk-toggleable\"><input class=\"sk-toggleable__control sk-hidden--visually\" id=\"sk-estimator-id-2\" type=\"checkbox\" ><label for=\"sk-estimator-id-2\" class=\"sk-toggleable__label fitted sk-toggleable__label-arrow\"><div><div>preprocessor: ColumnTransformer</div></div><div><a class=\"sk-estimator-doc-link fitted\" rel=\"noreferrer\" target=\"_blank\" href=\"https://scikit-learn.org/1.6/modules/generated/sklearn.compose.ColumnTransformer.html\">?<span>Documentation for preprocessor: ColumnTransformer</span></a></div></label><div class=\"sk-toggleable__content fitted\"><pre>ColumnTransformer(transformers=[(&#x27;cat&#x27;, OneHotEncoder(handle_unknown=&#x27;ignore&#x27;),\n",
       "                                 [&#x27;Proto&#x27;, &#x27;dst_port_risk&#x27;, &#x27;duration_category&#x27;,\n",
       "                                  &#x27;direction&#x27;, &#x27;packet_class&#x27;]),\n",
       "                                (&#x27;num&#x27;,\n",
       "                                 Pipeline(steps=[(&#x27;imputer&#x27;, SimpleImputer()),\n",
       "                                                 (&#x27;scaler&#x27;, StandardScaler())]),\n",
       "                                 [&#x27;bytes_per_packet&#x27;, &#x27;Packets&#x27;, &#x27;Bytes&#x27;,\n",
       "                                  &#x27;Flows&#x27;, &#x27;flag_SYN&#x27;, &#x27;flag_ACK&#x27;, &#x27;flag_RST&#x27;,\n",
       "                                  &#x27;src_internal&#x27;, &#x27;hour&#x27;, &#x27;is_night&#x27;,\n",
       "                                  &#x27;bidirectional&#x27;, &#x27;mixed_protocol&#x27;,\n",
       "                                  &#x27;small_packet_alert&#x27;])])</pre></div> </div></div><div class=\"sk-parallel\"><div class=\"sk-parallel-item\"><div class=\"sk-item\"><div class=\"sk-label-container\"><div class=\"sk-label fitted sk-toggleable\"><input class=\"sk-toggleable__control sk-hidden--visually\" id=\"sk-estimator-id-3\" type=\"checkbox\" ><label for=\"sk-estimator-id-3\" class=\"sk-toggleable__label fitted sk-toggleable__label-arrow\"><div><div>cat</div></div></label><div class=\"sk-toggleable__content fitted\"><pre>[&#x27;Proto&#x27;, &#x27;dst_port_risk&#x27;, &#x27;duration_category&#x27;, &#x27;direction&#x27;, &#x27;packet_class&#x27;]</pre></div> </div></div><div class=\"sk-serial\"><div class=\"sk-item\"><div class=\"sk-estimator fitted sk-toggleable\"><input class=\"sk-toggleable__control sk-hidden--visually\" id=\"sk-estimator-id-4\" type=\"checkbox\" ><label for=\"sk-estimator-id-4\" class=\"sk-toggleable__label fitted sk-toggleable__label-arrow\"><div><div>OneHotEncoder</div></div><div><a class=\"sk-estimator-doc-link fitted\" rel=\"noreferrer\" target=\"_blank\" href=\"https://scikit-learn.org/1.6/modules/generated/sklearn.preprocessing.OneHotEncoder.html\">?<span>Documentation for OneHotEncoder</span></a></div></label><div class=\"sk-toggleable__content fitted\"><pre>OneHotEncoder(handle_unknown=&#x27;ignore&#x27;)</pre></div> </div></div></div></div></div><div class=\"sk-parallel-item\"><div class=\"sk-item\"><div class=\"sk-label-container\"><div class=\"sk-label fitted sk-toggleable\"><input class=\"sk-toggleable__control sk-hidden--visually\" id=\"sk-estimator-id-5\" type=\"checkbox\" ><label for=\"sk-estimator-id-5\" class=\"sk-toggleable__label fitted sk-toggleable__label-arrow\"><div><div>num</div></div></label><div class=\"sk-toggleable__content fitted\"><pre>[&#x27;bytes_per_packet&#x27;, &#x27;Packets&#x27;, &#x27;Bytes&#x27;, &#x27;Flows&#x27;, &#x27;flag_SYN&#x27;, &#x27;flag_ACK&#x27;, &#x27;flag_RST&#x27;, &#x27;src_internal&#x27;, &#x27;hour&#x27;, &#x27;is_night&#x27;, &#x27;bidirectional&#x27;, &#x27;mixed_protocol&#x27;, &#x27;small_packet_alert&#x27;]</pre></div> </div></div><div class=\"sk-serial\"><div class=\"sk-item\"><div class=\"sk-serial\"><div class=\"sk-item\"><div class=\"sk-estimator fitted sk-toggleable\"><input class=\"sk-toggleable__control sk-hidden--visually\" id=\"sk-estimator-id-6\" type=\"checkbox\" ><label for=\"sk-estimator-id-6\" class=\"sk-toggleable__label fitted sk-toggleable__label-arrow\"><div><div>SimpleImputer</div></div><div><a class=\"sk-estimator-doc-link fitted\" rel=\"noreferrer\" target=\"_blank\" href=\"https://scikit-learn.org/1.6/modules/generated/sklearn.impute.SimpleImputer.html\">?<span>Documentation for SimpleImputer</span></a></div></label><div class=\"sk-toggleable__content fitted\"><pre>SimpleImputer()</pre></div> </div></div><div class=\"sk-item\"><div class=\"sk-estimator fitted sk-toggleable\"><input class=\"sk-toggleable__control sk-hidden--visually\" id=\"sk-estimator-id-7\" type=\"checkbox\" ><label for=\"sk-estimator-id-7\" class=\"sk-toggleable__label fitted sk-toggleable__label-arrow\"><div><div>StandardScaler</div></div><div><a class=\"sk-estimator-doc-link fitted\" rel=\"noreferrer\" target=\"_blank\" href=\"https://scikit-learn.org/1.6/modules/generated/sklearn.preprocessing.StandardScaler.html\">?<span>Documentation for StandardScaler</span></a></div></label><div class=\"sk-toggleable__content fitted\"><pre>StandardScaler()</pre></div> </div></div></div></div></div></div></div></div></div><div class=\"sk-item\"><div class=\"sk-estimator fitted sk-toggleable\"><input class=\"sk-toggleable__control sk-hidden--visually\" id=\"sk-estimator-id-8\" type=\"checkbox\" ><label for=\"sk-estimator-id-8\" class=\"sk-toggleable__label fitted sk-toggleable__label-arrow\"><div><div>LogisticRegression</div></div><div><a class=\"sk-estimator-doc-link fitted\" rel=\"noreferrer\" target=\"_blank\" href=\"https://scikit-learn.org/1.6/modules/generated/sklearn.linear_model.LogisticRegression.html\">?<span>Documentation for LogisticRegression</span></a></div></label><div class=\"sk-toggleable__content fitted\"><pre>LogisticRegression(class_weight=&#x27;balanced&#x27;, max_iter=1000, random_state=42,\n",
       "                   solver=&#x27;saga&#x27;)</pre></div> </div></div></div></div></div></div>"
      ]
     },
     "execution_count": 73,
     "metadata": {},
     "output_type": "execute_result"
    }
   ],
   "execution_count": 73
  },
  {
   "metadata": {
    "ExecuteTime": {
     "end_time": "2025-05-11T11:52:47.353626Z",
     "start_time": "2025-05-11T11:52:47.345398Z"
    }
   },
   "cell_type": "code",
   "source": [
    "# Best model\n",
    "best_model = random_search.best_estimator_"
   ],
   "id": "4f8f4dbba18bd22d",
   "outputs": [],
   "execution_count": 86
  },
  {
   "metadata": {
    "ExecuteTime": {
     "end_time": "2025-05-11T11:52:48.591930Z",
     "start_time": "2025-05-11T11:52:48.300468Z"
    }
   },
   "cell_type": "code",
   "source": [
    "# Evaluation\n",
    "y_pred = best_model.predict(X_test)\n",
    "y_proba = best_model.predict_proba(X_test)\n",
    "\n",
    "print(\"\\nBest Parameters:\", random_search.best_params_)\n",
    "print(\"Best CV Score (F1-weighted):\", random_search.best_score_)\n",
    "\n",
    "print(\"\\nClassification Report:\")\n",
    "print(classification_report(y_test, y_pred, target_names=le.classes_))\n",
    "\n",
    "print(\"\\nConfusion Matrix:\")\n",
    "print(confusion_matrix(y_test, y_pred))"
   ],
   "id": "576d3ec43cbcc62d",
   "outputs": [
    {
     "name": "stdout",
     "output_type": "stream",
     "text": [
      "\n",
      "Best Parameters: {'classifier__C': np.float64(0.008629132190071854), 'classifier__fit_intercept': True, 'classifier__l1_ratio': 0.5, 'classifier__penalty': 'l2'}\n",
      "Best CV Score (F1-weighted): 0.9822376923940718\n",
      "\n",
      "Classification Report:\n"
     ]
    },
    {
     "ename": "TypeError",
     "evalue": "object of type 'float' has no len()",
     "output_type": "error",
     "traceback": [
      "\u001B[1;31m---------------------------------------------------------------------------\u001B[0m",
      "\u001B[1;31mTypeError\u001B[0m                                 Traceback (most recent call last)",
      "Cell \u001B[1;32mIn[87], line 9\u001B[0m\n\u001B[0;32m      6\u001B[0m \u001B[38;5;28mprint\u001B[39m(\u001B[38;5;124m\"\u001B[39m\u001B[38;5;124mBest CV Score (F1-weighted):\u001B[39m\u001B[38;5;124m\"\u001B[39m, random_search\u001B[38;5;241m.\u001B[39mbest_score_)\n\u001B[0;32m      8\u001B[0m \u001B[38;5;28mprint\u001B[39m(\u001B[38;5;124m\"\u001B[39m\u001B[38;5;130;01m\\n\u001B[39;00m\u001B[38;5;124mClassification Report:\u001B[39m\u001B[38;5;124m\"\u001B[39m)\n\u001B[1;32m----> 9\u001B[0m \u001B[38;5;28mprint\u001B[39m(\u001B[43mclassification_report\u001B[49m\u001B[43m(\u001B[49m\u001B[43my_test\u001B[49m\u001B[43m,\u001B[49m\u001B[43m \u001B[49m\u001B[43my_pred\u001B[49m\u001B[43m,\u001B[49m\u001B[43m \u001B[49m\u001B[43mtarget_names\u001B[49m\u001B[38;5;241;43m=\u001B[39;49m\u001B[43mle\u001B[49m\u001B[38;5;241;43m.\u001B[39;49m\u001B[43mclasses_\u001B[49m\u001B[43m)\u001B[49m)\n\u001B[0;32m     11\u001B[0m \u001B[38;5;28mprint\u001B[39m(\u001B[38;5;124m\"\u001B[39m\u001B[38;5;130;01m\\n\u001B[39;00m\u001B[38;5;124mConfusion Matrix:\u001B[39m\u001B[38;5;124m\"\u001B[39m)\n\u001B[0;32m     12\u001B[0m \u001B[38;5;28mprint\u001B[39m(confusion_matrix(y_test, y_pred))\n",
      "File \u001B[1;32m~\\PyCharmMiscProject\\.venv\\Lib\\site-packages\\sklearn\\utils\\_param_validation.py:216\u001B[0m, in \u001B[0;36mvalidate_params.<locals>.decorator.<locals>.wrapper\u001B[1;34m(*args, **kwargs)\u001B[0m\n\u001B[0;32m    210\u001B[0m \u001B[38;5;28;01mtry\u001B[39;00m:\n\u001B[0;32m    211\u001B[0m     \u001B[38;5;28;01mwith\u001B[39;00m config_context(\n\u001B[0;32m    212\u001B[0m         skip_parameter_validation\u001B[38;5;241m=\u001B[39m(\n\u001B[0;32m    213\u001B[0m             prefer_skip_nested_validation \u001B[38;5;129;01mor\u001B[39;00m global_skip_validation\n\u001B[0;32m    214\u001B[0m         )\n\u001B[0;32m    215\u001B[0m     ):\n\u001B[1;32m--> 216\u001B[0m         \u001B[38;5;28;01mreturn\u001B[39;00m \u001B[43mfunc\u001B[49m\u001B[43m(\u001B[49m\u001B[38;5;241;43m*\u001B[39;49m\u001B[43margs\u001B[49m\u001B[43m,\u001B[49m\u001B[43m \u001B[49m\u001B[38;5;241;43m*\u001B[39;49m\u001B[38;5;241;43m*\u001B[39;49m\u001B[43mkwargs\u001B[49m\u001B[43m)\u001B[49m\n\u001B[0;32m    217\u001B[0m \u001B[38;5;28;01mexcept\u001B[39;00m InvalidParameterError \u001B[38;5;28;01mas\u001B[39;00m e:\n\u001B[0;32m    218\u001B[0m     \u001B[38;5;66;03m# When the function is just a wrapper around an estimator, we allow\u001B[39;00m\n\u001B[0;32m    219\u001B[0m     \u001B[38;5;66;03m# the function to delegate validation to the estimator, but we replace\u001B[39;00m\n\u001B[0;32m    220\u001B[0m     \u001B[38;5;66;03m# the name of the estimator by the name of the function in the error\u001B[39;00m\n\u001B[0;32m    221\u001B[0m     \u001B[38;5;66;03m# message to avoid confusion.\u001B[39;00m\n\u001B[0;32m    222\u001B[0m     msg \u001B[38;5;241m=\u001B[39m re\u001B[38;5;241m.\u001B[39msub(\n\u001B[0;32m    223\u001B[0m         \u001B[38;5;124mr\u001B[39m\u001B[38;5;124m\"\u001B[39m\u001B[38;5;124mparameter of \u001B[39m\u001B[38;5;124m\\\u001B[39m\u001B[38;5;124mw+ must be\u001B[39m\u001B[38;5;124m\"\u001B[39m,\n\u001B[0;32m    224\u001B[0m         \u001B[38;5;124mf\u001B[39m\u001B[38;5;124m\"\u001B[39m\u001B[38;5;124mparameter of \u001B[39m\u001B[38;5;132;01m{\u001B[39;00mfunc\u001B[38;5;241m.\u001B[39m\u001B[38;5;18m__qualname__\u001B[39m\u001B[38;5;132;01m}\u001B[39;00m\u001B[38;5;124m must be\u001B[39m\u001B[38;5;124m\"\u001B[39m,\n\u001B[0;32m    225\u001B[0m         \u001B[38;5;28mstr\u001B[39m(e),\n\u001B[0;32m    226\u001B[0m     )\n",
      "File \u001B[1;32m~\\PyCharmMiscProject\\.venv\\Lib\\site-packages\\sklearn\\metrics\\_classification.py:2724\u001B[0m, in \u001B[0;36mclassification_report\u001B[1;34m(y_true, y_pred, labels, target_names, sample_weight, digits, output_dict, zero_division)\u001B[0m\n\u001B[0;32m   2722\u001B[0m \u001B[38;5;28;01melse\u001B[39;00m:\n\u001B[0;32m   2723\u001B[0m     longest_last_line_heading \u001B[38;5;241m=\u001B[39m \u001B[38;5;124m\"\u001B[39m\u001B[38;5;124mweighted avg\u001B[39m\u001B[38;5;124m\"\u001B[39m\n\u001B[1;32m-> 2724\u001B[0m     name_width \u001B[38;5;241m=\u001B[39m \u001B[38;5;28;43mmax\u001B[39;49m\u001B[43m(\u001B[49m\u001B[38;5;28;43mlen\u001B[39;49m\u001B[43m(\u001B[49m\u001B[43mcn\u001B[49m\u001B[43m)\u001B[49m\u001B[43m \u001B[49m\u001B[38;5;28;43;01mfor\u001B[39;49;00m\u001B[43m \u001B[49m\u001B[43mcn\u001B[49m\u001B[43m \u001B[49m\u001B[38;5;129;43;01min\u001B[39;49;00m\u001B[43m \u001B[49m\u001B[43mtarget_names\u001B[49m\u001B[43m)\u001B[49m\n\u001B[0;32m   2725\u001B[0m     width \u001B[38;5;241m=\u001B[39m \u001B[38;5;28mmax\u001B[39m(name_width, \u001B[38;5;28mlen\u001B[39m(longest_last_line_heading), digits)\n\u001B[0;32m   2726\u001B[0m     head_fmt \u001B[38;5;241m=\u001B[39m \u001B[38;5;124m\"\u001B[39m\u001B[38;5;124m{\u001B[39m\u001B[38;5;124m:>\u001B[39m\u001B[38;5;132;01m{width}\u001B[39;00m\u001B[38;5;124ms} \u001B[39m\u001B[38;5;124m\"\u001B[39m \u001B[38;5;241m+\u001B[39m \u001B[38;5;124m\"\u001B[39m\u001B[38;5;124m \u001B[39m\u001B[38;5;132;01m{:>9}\u001B[39;00m\u001B[38;5;124m\"\u001B[39m \u001B[38;5;241m*\u001B[39m \u001B[38;5;28mlen\u001B[39m(headers)\n",
      "File \u001B[1;32m~\\PyCharmMiscProject\\.venv\\Lib\\site-packages\\sklearn\\metrics\\_classification.py:2724\u001B[0m, in \u001B[0;36m<genexpr>\u001B[1;34m(.0)\u001B[0m\n\u001B[0;32m   2722\u001B[0m \u001B[38;5;28;01melse\u001B[39;00m:\n\u001B[0;32m   2723\u001B[0m     longest_last_line_heading \u001B[38;5;241m=\u001B[39m \u001B[38;5;124m\"\u001B[39m\u001B[38;5;124mweighted avg\u001B[39m\u001B[38;5;124m\"\u001B[39m\n\u001B[1;32m-> 2724\u001B[0m     name_width \u001B[38;5;241m=\u001B[39m \u001B[38;5;28mmax\u001B[39m(\u001B[38;5;28;43mlen\u001B[39;49m\u001B[43m(\u001B[49m\u001B[43mcn\u001B[49m\u001B[43m)\u001B[49m \u001B[38;5;28;01mfor\u001B[39;00m cn \u001B[38;5;129;01min\u001B[39;00m target_names)\n\u001B[0;32m   2725\u001B[0m     width \u001B[38;5;241m=\u001B[39m \u001B[38;5;28mmax\u001B[39m(name_width, \u001B[38;5;28mlen\u001B[39m(longest_last_line_heading), digits)\n\u001B[0;32m   2726\u001B[0m     head_fmt \u001B[38;5;241m=\u001B[39m \u001B[38;5;124m\"\u001B[39m\u001B[38;5;124m{\u001B[39m\u001B[38;5;124m:>\u001B[39m\u001B[38;5;132;01m{width}\u001B[39;00m\u001B[38;5;124ms} \u001B[39m\u001B[38;5;124m\"\u001B[39m \u001B[38;5;241m+\u001B[39m \u001B[38;5;124m\"\u001B[39m\u001B[38;5;124m \u001B[39m\u001B[38;5;132;01m{:>9}\u001B[39;00m\u001B[38;5;124m\"\u001B[39m \u001B[38;5;241m*\u001B[39m \u001B[38;5;28mlen\u001B[39m(headers)\n",
      "\u001B[1;31mTypeError\u001B[0m: object of type 'float' has no len()"
     ]
    }
   ],
   "execution_count": 87
  },
  {
   "metadata": {},
   "cell_type": "code",
   "outputs": [],
   "execution_count": null,
   "source": [
    "feature_names = (\n",
    "    best_model.named_steps['preprocessor']\n",
    "    .transformers_[0][1]\n",
    "    .get_feature_names_out(categorical_features)\n",
    ").tolist() + numerical_features\n",
    "\n",
    "coefficients = best_model.named_steps['classifier'].coef_\n",
    "\n",
    "print(\"\\nTop 10 Most Important Features:\")\n",
    "for i, class_name in enumerate(le.classes_):\n",
    "    print(f\"\\nClass: {class_name}\")\n",
    "    coef_df = pd.DataFrame({\n",
    "        'feature': feature_names,\n",
    "        'coefficient': coefficients[i]\n",
    "    }).sort_values(by='coefficient', key=abs, ascending=False)\n",
    "    print(coef_df.head(10).to_string(index=False))"
   ],
   "id": "5b6955beff5f9fb3"
  },
  {
   "metadata": {
    "ExecuteTime": {
     "end_time": "2025-05-11T11:21:30.255162Z",
     "start_time": "2025-05-11T11:21:29.785760Z"
    }
   },
   "cell_type": "code",
   "source": [
    "# Evaluate\n",
    "y_pred = pipeline.predict(X_test)\n",
    "y_proba = pipeline.predict_proba(X_test)\n",
    "\n",
    "print(\"Classification Report:\")\n",
    "print(classification_report(y_test, y_pred, target_names=[str(c) for c in le.classes_]))\n",
    "\n",
    "print(\"\\nConfusion Matrix:\")\n",
    "print(confusion_matrix(y_test, y_pred))\n"
   ],
   "id": "9aad4b10d1f92d28",
   "outputs": [
    {
     "name": "stdout",
     "output_type": "stream",
     "text": [
      "Classification Report:\n",
      "              precision    recall  f1-score   support\n",
      "\n",
      "      normal       0.96      0.98      0.97      9921\n",
      "  suspicious       0.99      0.98      0.98     21469\n",
      "         nan       1.00      1.00      1.00      3051\n",
      "\n",
      "    accuracy                           0.98     34441\n",
      "   macro avg       0.98      0.99      0.98     34441\n",
      "weighted avg       0.98      0.98      0.98     34441\n",
      "\n",
      "\n",
      "Confusion Matrix:\n",
      "[[ 9681   240     0]\n",
      " [  407 21062     0]\n",
      " [    0     0  3051]]\n"
     ]
    }
   ],
   "execution_count": 74
  },
  {
   "metadata": {
    "ExecuteTime": {
     "end_time": "2025-05-11T11:21:30.591607Z",
     "start_time": "2025-05-11T11:21:30.525620Z"
    }
   },
   "cell_type": "code",
   "source": [
    "# For multiclass ROC-AUC (requires One-vs-Rest approach)\n",
    "try:\n",
    "    roc_auc = roc_auc_score(y_test, y_proba, multi_class='ovr')\n",
    "    print(f\"\\nROC-AUC Score: {roc_auc:.3f}\")\n",
    "except Exception as e:\n",
    "    print(f\"\\nROC-AUC calculation skipped: {str(e)}\")"
   ],
   "id": "a28ecc13035ebbf1",
   "outputs": [
    {
     "name": "stdout",
     "output_type": "stream",
     "text": [
      "\n",
      "ROC-AUC Score: 0.999\n"
     ]
    }
   ],
   "execution_count": 75
  },
  {
   "metadata": {
    "ExecuteTime": {
     "end_time": "2025-05-11T11:21:30.969555Z",
     "start_time": "2025-05-11T11:21:30.941745Z"
    }
   },
   "cell_type": "code",
   "source": [
    "feature_names = (\n",
    "    pipeline.named_steps['preprocessor']\n",
    "    .transformers_[0][1]\n",
    "    .get_feature_names_out(categorical_features)\n",
    ").tolist() + numerical_features\n",
    "\n",
    "coefficients = pipeline.named_steps['classifier'].coef_\n",
    "\n",
    "print(\"\\nTop 10 Most Important Features:\")\n",
    "for i, class_name in enumerate(le.classes_):\n",
    "    print(f\"\\nClass: {class_name}\")\n",
    "    coef_df = pd.DataFrame({\n",
    "        'feature': feature_names,\n",
    "        'coefficient': coefficients[i]\n",
    "    }).sort_values(by='coefficient', ascending=False)\n",
    "    print(coef_df.head(10).to_string(index=False))"
   ],
   "id": "83d21c1eb7accd9f",
   "outputs": [
    {
     "name": "stdout",
     "output_type": "stream",
     "text": [
      "\n",
      "Top 10 Most Important Features:\n",
      "\n",
      "Class: normal\n",
      "                feature  coefficient\n",
      "      dst_port_risk_low     2.549675\n",
      "duration_category_short     1.729736\n",
      "    packet_class_normal     1.234148\n",
      "                  Bytes     0.846221\n",
      "                Packets     0.632467\n",
      " duration_category_long     0.368132\n",
      "            Proto_TCP       0.324255\n",
      "               is_night     0.308930\n",
      "          bidirectional     0.158950\n",
      "                  Flows     0.000000\n",
      "\n",
      "Class: suspicious\n",
      "                       feature  coefficient\n",
      "            dst_port_risk_high     2.908589\n",
      "       packet_class_suspicious     2.076437\n",
      "      duration_category_medium     1.912148\n",
      "                   Proto_TCP       1.383344\n",
      "                  src_internal     0.892214\n",
      "     duration_category_instant     0.891477\n",
      "            small_packet_alert     0.851858\n",
      "              bytes_per_packet     0.628726\n",
      "direction_external_to_internal     0.496123\n",
      "direction_internal_to_external     0.459613\n",
      "\n",
      "Class: nan\n",
      "              feature  coefficient\n",
      "            Proto_nan     1.515565\n",
      "duration_category_nan     1.515565\n",
      "    dst_port_risk_nan     1.515565\n",
      "     packet_class_nan     1.515565\n",
      "             flag_SYN     0.296122\n",
      "             flag_ACK     0.214975\n",
      "             flag_RST     0.178238\n",
      "        bidirectional     0.091196\n",
      "              Packets     0.016073\n",
      "                Bytes     0.006455\n"
     ]
    }
   ],
   "execution_count": 76
  },
  {
   "metadata": {
    "ExecuteTime": {
     "end_time": "2025-05-11T11:53:11.506399Z",
     "start_time": "2025-05-11T11:53:11.497601Z"
    }
   },
   "cell_type": "code",
   "source": [
    "# 1. Create the \"models\" directory if it doesn't exist\n",
    "os.makedirs('models', exist_ok=True)  # <- This creates the folder automatically\n",
    "\n",
    "# 2. Save the model to the \"models\" directory\n",
    "with open('models/logistic_regression_anamolydetectionl.pkl', 'wb') as file:\n",
    "    pickle.dump(best_model, file)\n",
    "\n",
    "print(\"Model saved to: models/trained_model.pkl\")"
   ],
   "id": "a5c59bb7df648a48",
   "outputs": [
    {
     "name": "stdout",
     "output_type": "stream",
     "text": [
      "Model saved to: models/trained_model.pkl\n"
     ]
    }
   ],
   "execution_count": 88
  },
  {
   "metadata": {},
   "cell_type": "code",
   "outputs": [],
   "execution_count": null,
   "source": "",
   "id": "c3519c4544601967"
  }
 ],
 "metadata": {
  "kernelspec": {
   "display_name": "Python 3",
   "language": "python",
   "name": "python3"
  },
  "language_info": {
   "codemirror_mode": {
    "name": "ipython",
    "version": 2
   },
   "file_extension": ".py",
   "mimetype": "text/x-python",
   "name": "python",
   "nbconvert_exporter": "python",
   "pygments_lexer": "ipython2",
   "version": "2.7.6"
  }
 },
 "nbformat": 4,
 "nbformat_minor": 5
}
